{
  "cells": [
    {
      "cell_type": "markdown",
      "metadata": {
        "colab_type": "text",
        "id": "view-in-github"
      },
      "source": [
        "<a href=\"https://colab.research.google.com/github/Romal27/DSGP-24-Retina94/blob/component-1/Pretrained.ipynb\" target=\"_parent\"><img src=\"https://colab.research.google.com/assets/colab-badge.svg\" alt=\"Open In Colab\"/></a>"
      ]
    },
    {
      "cell_type": "code",
      "execution_count": 14,
      "metadata": {},
      "outputs": [],
      "source": [
        "import os, shutil, hashlib\n",
        "from pathlib import Path\n",
        "import pandas as pd\n",
        "import numpy as np\n",
        "import matplotlib.pyplot as plt\n",
        "from sklearn.model_selection import train_test_split\n",
        "from sklearn.metrics import classification_report, confusion_matrix, ConfusionMatrixDisplay\n",
        "from collections import Counter\n",
        "import tensorflow as tf\n",
        "from tensorflow.keras import layers, Model, Input, regularizers\n",
        "from tensorflow.keras.preprocessing.image import ImageDataGenerator\n",
        "from tensorflow.keras.applications import EfficientNetV2B0\n",
        "from tensorflow.keras.optimizers.schedules import CosineDecay\n",
        "from tensorflow.keras.callbacks import EarlyStopping, ModelCheckpoint"
      ]
    },
    {
      "cell_type": "code",
      "execution_count": 15,
      "metadata": {},
      "outputs": [],
      "source": [
        "IMG_SIZE = 224\n",
        "BATCH_SIZE = 32\n",
        "SEED = 42\n",
        "INIT_LR = 1e-3\n",
        "WD = 1e-5\n",
        "EPOCHS = 30\n",
        "THRESHOLD = 0.3 \n",
        "\n",
        "data_dir = Path(\"D:/Data1_Split\")\n",
        "duplicate_dir = Path(\"D:/Duplicates\")\n",
        "os.makedirs(duplicate_dir, exist_ok=True)"
      ]
    },
    {
      "cell_type": "code",
      "execution_count": 16,
      "metadata": {},
      "outputs": [],
      "source": [
        "def hash_img(path): return hashlib.md5(open(path, 'rb').read()).hexdigest()\n",
        "def remove_duplicates(data_dir, duplicate_dir):\n",
        "    seen = {}\n",
        "    for category in ['Fundus', 'Non Fundus']:\n",
        "        folder = data_dir / category\n",
        "        for image in folder.iterdir():\n",
        "            if image.is_file():\n",
        "                h = hash_img(image)\n",
        "                if h in seen:\n",
        "                    shutil.move(str(image), duplicate_dir / image.name)\n",
        "                else:\n",
        "                    seen[h] = image\n",
        "remove_duplicates(data_dir, duplicate_dir)"
      ]
    },
    {
      "cell_type": "code",
      "execution_count": 17,
      "metadata": {},
      "outputs": [],
      "source": [
        "def collect_data(data_dir):\n",
        "    X, y = [], []\n",
        "    for label, category in enumerate(['Fundus', 'Non Fundus']):\n",
        "        for img in (data_dir / category).glob(\"*\"):\n",
        "            if img.suffix.lower() in ['.jpg', '.jpeg', '.png', '.bmp', '.tif']:\n",
        "                X.append(str(img))\n",
        "                y.append(label)\n",
        "    return X, y\n",
        "\n",
        "X, y = collect_data(data_dir)\n",
        "X_trainval, X_test, y_trainval, y_test = train_test_split(X, y, test_size=0.15, stratify=y, random_state=SEED)\n",
        "X_train, X_val, y_train, y_val = train_test_split(X_trainval, y_trainval, test_size=0.2, stratify=y_trainval, random_state=SEED)\n",
        "\n",
        "def make_df(X, y):\n",
        "    return pd.DataFrame({'filename': X, 'class': ['Fundus' if i == 0 else 'Non Fundus' for i in y]})\n",
        "\n",
        "train_df, val_df, test_df = make_df(X_train, y_train), make_df(X_val, y_val), make_df(X_test, y_test)"
      ]
    },
    {
      "cell_type": "code",
      "execution_count": 18,
      "metadata": {},
      "outputs": [
        {
          "name": "stdout",
          "output_type": "stream",
          "text": [
            "Found 4791 validated image filenames belonging to 2 classes.\n",
            "Found 1198 validated image filenames belonging to 2 classes.\n",
            "Found 1057 validated image filenames belonging to 2 classes.\n"
          ]
        }
      ],
      "source": [
        "train_datagen = ImageDataGenerator(\n",
        "    rescale=1./255,\n",
        "    brightness_range=[0.6, 1.4],\n",
        "    zoom_range=0.3,\n",
        "    rotation_range=30,\n",
        "    shear_range=0.25,\n",
        "    horizontal_flip=True,\n",
        "    vertical_flip=True,\n",
        "    width_shift_range=0.25,\n",
        "    height_shift_range=0.25,\n",
        "    fill_mode='reflect'\n",
        ")\n",
        "\n",
        "test_datagen = ImageDataGenerator(rescale=1./255)\n",
        "\n",
        "train_gen = train_datagen.flow_from_dataframe(\n",
        "    train_df, x_col='filename', y_col='class',\n",
        "    target_size=(IMG_SIZE, IMG_SIZE), class_mode='binary',\n",
        "    batch_size=BATCH_SIZE, shuffle=True, seed=SEED)\n",
        "\n",
        "val_gen = test_datagen.flow_from_dataframe(\n",
        "    val_df, x_col='filename', y_col='class',\n",
        "    target_size=(IMG_SIZE, IMG_SIZE), class_mode='binary',\n",
        "    batch_size=BATCH_SIZE, shuffle=False)\n",
        "\n",
        "test_gen = test_datagen.flow_from_dataframe(\n",
        "    test_df, x_col='filename', y_col='class',\n",
        "    target_size=(IMG_SIZE, IMG_SIZE), class_mode='binary',\n",
        "    batch_size=BATCH_SIZE, shuffle=False)\n",
        "\n",
        "class_counts = Counter(y_train)\n",
        "total = sum(class_counts.values())\n",
        "class_weight = {\n",
        "    0: total / (2 * class_counts[0]),\n",
        "    1: total / (2 * class_counts[1])\n",
        "}"
      ]
    },
    {
      "cell_type": "code",
      "execution_count": 19,
      "metadata": {},
      "outputs": [],
      "source": [
        "def build_model():\n",
        "    base_model = EfficientNetV2B0(include_top=False, input_shape=(IMG_SIZE, IMG_SIZE, 3), weights='imagenet')\n",
        "    base_model.trainable = False\n",
        "\n",
        "    inputs = Input(shape=(IMG_SIZE, IMG_SIZE, 3))\n",
        "    x = base_model(inputs, training=False)\n",
        "    x = layers.GlobalAveragePooling2D()(x)\n",
        "    x = layers.BatchNormalization()(x)\n",
        "    x = layers.Dropout(0.5)(x)\n",
        "    x = layers.Dense(64, activation='relu', kernel_regularizer=regularizers.l2(WD))(x)\n",
        "    x = layers.BatchNormalization()(x)\n",
        "    x = layers.Dropout(0.4)(x)\n",
        "    outputs = layers.Dense(1, activation='sigmoid')(x)\n",
        "    \n",
        "    model = Model(inputs, outputs)\n",
        "    return model\n",
        "\n",
        "model = build_model()\n",
        "\n",
        "lr_schedule = CosineDecay(initial_learning_rate=INIT_LR, decay_steps=EPOCHS * len(train_gen))\n",
        "\n",
        "model.compile(\n",
        "    optimizer=tf.keras.optimizers.Adam(learning_rate=lr_schedule),\n",
        "    loss=tf.keras.losses.BinaryCrossentropy(label_smoothing=0.1),\n",
        "    metrics=['accuracy', tf.keras.metrics.Precision(), tf.keras.metrics.Recall()]\n",
        ")\n",
        "\n",
        "early_stop = EarlyStopping(patience=6, restore_best_weights=True)\n",
        "checkpoint = ModelCheckpoint(\"best_model_nonfundus_fixed.keras\", save_best_only=True)"
      ]
    },
    {
      "cell_type": "code",
      "execution_count": 20,
      "metadata": {},
      "outputs": [
        {
          "name": "stderr",
          "output_type": "stream",
          "text": [
            "c:\\Users\\User\\AppData\\Local\\Programs\\Python\\Python310\\lib\\site-packages\\keras\\src\\trainers\\data_adapters\\py_dataset_adapter.py:121: UserWarning: Your `PyDataset` class should call `super().__init__(**kwargs)` in its constructor. `**kwargs` can include `workers`, `use_multiprocessing`, `max_queue_size`. Do not pass these arguments to `fit()`, as they will be ignored.\n",
            "  self._warn_if_super_not_called()\n"
          ]
        },
        {
          "name": "stdout",
          "output_type": "stream",
          "text": [
            "Epoch 1/30\n",
            "\u001b[1m150/150\u001b[0m \u001b[32m━━━━━━━━━━━━━━━━━━━━\u001b[0m\u001b[37m\u001b[0m \u001b[1m255s\u001b[0m 2s/step - accuracy: 0.5876 - loss: 0.8118 - precision_4: 0.5716 - recall_4: 0.5956 - val_accuracy: 0.4825 - val_loss: 0.6996 - val_precision_4: 0.4825 - val_recall_4: 1.0000\n",
            "Epoch 2/30\n",
            "\u001b[1m150/150\u001b[0m \u001b[32m━━━━━━━━━━━━━━━━━━━━\u001b[0m\u001b[37m\u001b[0m \u001b[1m2151s\u001b[0m 14s/step - accuracy: 0.6678 - loss: 0.6706 - precision_4: 0.6477 - recall_4: 0.6622 - val_accuracy: 0.4825 - val_loss: 0.6431 - val_precision_4: 0.4825 - val_recall_4: 1.0000\n",
            "Epoch 3/30\n",
            "\u001b[1m150/150\u001b[0m \u001b[32m━━━━━━━━━━━━━━━━━━━━\u001b[0m\u001b[37m\u001b[0m \u001b[1m2511s\u001b[0m 17s/step - accuracy: 0.6991 - loss: 0.6405 - precision_4: 0.6795 - recall_4: 0.6937 - val_accuracy: 0.8222 - val_loss: 0.5561 - val_precision_4: 0.7603 - val_recall_4: 0.9221\n",
            "Epoch 4/30\n",
            "\u001b[1m150/150\u001b[0m \u001b[32m━━━━━━━━━━━━━━━━━━━━\u001b[0m\u001b[37m\u001b[0m \u001b[1m729s\u001b[0m 5s/step - accuracy: 0.6953 - loss: 0.6267 - precision_4: 0.6794 - recall_4: 0.6835 - val_accuracy: 0.8965 - val_loss: 0.4780 - val_precision_4: 0.9451 - val_recall_4: 0.8339\n",
            "Epoch 5/30\n",
            "\u001b[1m150/150\u001b[0m \u001b[32m━━━━━━━━━━━━━━━━━━━━\u001b[0m\u001b[37m\u001b[0m \u001b[1m257s\u001b[0m 2s/step - accuracy: 0.7250 - loss: 0.5877 - precision_4: 0.7183 - recall_4: 0.7078 - val_accuracy: 0.8748 - val_loss: 0.4469 - val_precision_4: 0.9864 - val_recall_4: 0.7509\n",
            "Epoch 6/30\n",
            "\u001b[1m150/150\u001b[0m \u001b[32m━━━━━━━━━━━━━━━━━━━━\u001b[0m\u001b[37m\u001b[0m \u001b[1m244s\u001b[0m 2s/step - accuracy: 0.7447 - loss: 0.5710 - precision_4: 0.7388 - recall_4: 0.7289 - val_accuracy: 0.8664 - val_loss: 0.4381 - val_precision_4: 0.9883 - val_recall_4: 0.7318\n",
            "Epoch 7/30\n",
            "\u001b[1m150/150\u001b[0m \u001b[32m━━━━━━━━━━━━━━━━━━━━\u001b[0m\u001b[37m\u001b[0m \u001b[1m248s\u001b[0m 2s/step - accuracy: 0.7438 - loss: 0.5690 - precision_4: 0.7285 - recall_4: 0.7470 - val_accuracy: 0.8873 - val_loss: 0.4262 - val_precision_4: 0.9868 - val_recall_4: 0.7768\n",
            "Epoch 8/30\n",
            "\u001b[1m150/150\u001b[0m \u001b[32m━━━━━━━━━━━━━━━━━━━━\u001b[0m\u001b[37m\u001b[0m \u001b[1m250s\u001b[0m 2s/step - accuracy: 0.7467 - loss: 0.5581 - precision_4: 0.7496 - recall_4: 0.7264 - val_accuracy: 0.8706 - val_loss: 0.4302 - val_precision_4: 0.9862 - val_recall_4: 0.7422\n",
            "Epoch 9/30\n",
            "\u001b[1m150/150\u001b[0m \u001b[32m━━━━━━━━━━━━━━━━━━━━\u001b[0m\u001b[37m\u001b[0m \u001b[1m856s\u001b[0m 6s/step - accuracy: 0.7557 - loss: 0.5578 - precision_4: 0.7510 - recall_4: 0.7417 - val_accuracy: 0.8848 - val_loss: 0.4295 - val_precision_4: 0.9867 - val_recall_4: 0.7716\n",
            "Epoch 10/30\n",
            "\u001b[1m150/150\u001b[0m \u001b[32m━━━━━━━━━━━━━━━━━━━━\u001b[0m\u001b[37m\u001b[0m \u001b[1m239s\u001b[0m 2s/step - accuracy: 0.7605 - loss: 0.5447 - precision_4: 0.7477 - recall_4: 0.7425 - val_accuracy: 0.8781 - val_loss: 0.4272 - val_precision_4: 0.9865 - val_recall_4: 0.7578\n",
            "Epoch 11/30\n",
            "\u001b[1m150/150\u001b[0m \u001b[32m━━━━━━━━━━━━━━━━━━━━\u001b[0m\u001b[37m\u001b[0m \u001b[1m243s\u001b[0m 2s/step - accuracy: 0.7601 - loss: 0.5474 - precision_4: 0.7443 - recall_4: 0.7623 - val_accuracy: 0.8798 - val_loss: 0.4270 - val_precision_4: 0.9865 - val_recall_4: 0.7612\n",
            "Epoch 12/30\n",
            "\u001b[1m150/150\u001b[0m \u001b[32m━━━━━━━━━━━━━━━━━━━━\u001b[0m\u001b[37m\u001b[0m \u001b[1m840s\u001b[0m 6s/step - accuracy: 0.7514 - loss: 0.5586 - precision_4: 0.7359 - recall_4: 0.7551 - val_accuracy: 0.8740 - val_loss: 0.4276 - val_precision_4: 0.9863 - val_recall_4: 0.7491\n",
            "Epoch 13/30\n",
            "\u001b[1m150/150\u001b[0m \u001b[32m━━━━━━━━━━━━━━━━━━━━\u001b[0m\u001b[37m\u001b[0m \u001b[1m309s\u001b[0m 2s/step - accuracy: 0.7548 - loss: 0.5594 - precision_4: 0.7525 - recall_4: 0.7488 - val_accuracy: 0.8798 - val_loss: 0.4230 - val_precision_4: 0.9865 - val_recall_4: 0.7612\n",
            "Epoch 14/30\n",
            "\u001b[1m150/150\u001b[0m \u001b[32m━━━━━━━━━━━━━━━━━━━━\u001b[0m\u001b[37m\u001b[0m \u001b[1m223s\u001b[0m 1s/step - accuracy: 0.7527 - loss: 0.5496 - precision_4: 0.7508 - recall_4: 0.7399 - val_accuracy: 0.8915 - val_loss: 0.4156 - val_precision_4: 0.9870 - val_recall_4: 0.7855\n",
            "Epoch 15/30\n",
            "\u001b[1m150/150\u001b[0m \u001b[32m━━━━━━━━━━━━━━━━━━━━\u001b[0m\u001b[37m\u001b[0m \u001b[1m222s\u001b[0m 1s/step - accuracy: 0.7662 - loss: 0.5456 - precision_4: 0.7679 - recall_4: 0.7524 - val_accuracy: 0.8765 - val_loss: 0.4194 - val_precision_4: 0.9864 - val_recall_4: 0.7543\n",
            "Epoch 16/30\n",
            "\u001b[1m150/150\u001b[0m \u001b[32m━━━━━━━━━━━━━━━━━━━━\u001b[0m\u001b[37m\u001b[0m \u001b[1m412s\u001b[0m 3s/step - accuracy: 0.7627 - loss: 0.5400 - precision_4: 0.7550 - recall_4: 0.7482 - val_accuracy: 0.8990 - val_loss: 0.4117 - val_precision_4: 0.9872 - val_recall_4: 0.8010\n",
            "Epoch 17/30\n",
            "\u001b[1m150/150\u001b[0m \u001b[32m━━━━━━━━━━━━━━━━━━━━\u001b[0m\u001b[37m\u001b[0m \u001b[1m228s\u001b[0m 2s/step - accuracy: 0.7784 - loss: 0.5311 - precision_4: 0.7812 - recall_4: 0.7531 - val_accuracy: 0.9032 - val_loss: 0.4096 - val_precision_4: 0.9833 - val_recall_4: 0.8131\n",
            "Epoch 18/30\n",
            "\u001b[1m150/150\u001b[0m \u001b[32m━━━━━━━━━━━━━━━━━━━━\u001b[0m\u001b[37m\u001b[0m \u001b[1m222s\u001b[0m 1s/step - accuracy: 0.7532 - loss: 0.5458 - precision_4: 0.7564 - recall_4: 0.7243 - val_accuracy: 0.9032 - val_loss: 0.4136 - val_precision_4: 0.9833 - val_recall_4: 0.8131\n",
            "Epoch 19/30\n",
            "\u001b[1m150/150\u001b[0m \u001b[32m━━━━━━━━━━━━━━━━━━━━\u001b[0m\u001b[37m\u001b[0m \u001b[1m224s\u001b[0m 1s/step - accuracy: 0.7570 - loss: 0.5402 - precision_4: 0.7564 - recall_4: 0.7415 - val_accuracy: 0.9015 - val_loss: 0.4141 - val_precision_4: 0.9873 - val_recall_4: 0.8062\n",
            "Epoch 20/30\n",
            "\u001b[1m150/150\u001b[0m \u001b[32m━━━━━━━━━━━━━━━━━━━━\u001b[0m\u001b[37m\u001b[0m \u001b[1m273s\u001b[0m 2s/step - accuracy: 0.7700 - loss: 0.5430 - precision_4: 0.7630 - recall_4: 0.7603 - val_accuracy: 0.8973 - val_loss: 0.4099 - val_precision_4: 0.9872 - val_recall_4: 0.7976\n",
            "Epoch 21/30\n",
            "\u001b[1m150/150\u001b[0m \u001b[32m━━━━━━━━━━━━━━━━━━━━\u001b[0m\u001b[37m\u001b[0m \u001b[1m222s\u001b[0m 1s/step - accuracy: 0.7628 - loss: 0.5471 - precision_4: 0.7544 - recall_4: 0.7561 - val_accuracy: 0.8965 - val_loss: 0.4134 - val_precision_4: 0.9871 - val_recall_4: 0.7958\n",
            "Epoch 22/30\n",
            "\u001b[1m150/150\u001b[0m \u001b[32m━━━━━━━━━━━━━━━━━━━━\u001b[0m\u001b[37m\u001b[0m \u001b[1m222s\u001b[0m 1s/step - accuracy: 0.7685 - loss: 0.5393 - precision_4: 0.7666 - recall_4: 0.7468 - val_accuracy: 0.8990 - val_loss: 0.4131 - val_precision_4: 0.9872 - val_recall_4: 0.8010\n",
            "Epoch 23/30\n",
            "\u001b[1m150/150\u001b[0m \u001b[32m━━━━━━━━━━━━━━━━━━━━\u001b[0m\u001b[37m\u001b[0m \u001b[1m219s\u001b[0m 1s/step - accuracy: 0.7671 - loss: 0.5348 - precision_4: 0.7556 - recall_4: 0.7554 - val_accuracy: 0.9007 - val_loss: 0.4106 - val_precision_4: 0.9873 - val_recall_4: 0.8045\n",
            "Epoch 1/4\n",
            "\u001b[1m150/150\u001b[0m \u001b[32m━━━━━━━━━━━━━━━━━━━━\u001b[0m\u001b[37m\u001b[0m \u001b[1m377s\u001b[0m 2s/step - accuracy: 0.6462 - loss: 0.6646 - precision_5: 0.6089 - recall_5: 0.6816 - val_accuracy: 0.9633 - val_loss: 0.2652 - val_precision_5: 0.9837 - val_recall_5: 0.9394\n",
            "Epoch 2/4\n",
            "\u001b[1m150/150\u001b[0m \u001b[32m━━━━━━━━━━━━━━━━━━━━\u001b[0m\u001b[37m\u001b[0m \u001b[1m370s\u001b[0m 2s/step - accuracy: 0.9102 - loss: 0.3241 - precision_5: 0.8805 - recall_5: 0.9398 - val_accuracy: 0.9875 - val_loss: 0.2019 - val_precision_5: 0.9947 - val_recall_5: 0.9792\n",
            "Epoch 3/4\n",
            "\u001b[1m150/150\u001b[0m \u001b[32m━━━━━━━━━━━━━━━━━━━━\u001b[0m\u001b[37m\u001b[0m \u001b[1m370s\u001b[0m 2s/step - accuracy: 0.9526 - loss: 0.2597 - precision_5: 0.9364 - recall_5: 0.9672 - val_accuracy: 0.9883 - val_loss: 0.1768 - val_precision_5: 0.9930 - val_recall_5: 0.9827\n",
            "Epoch 4/4\n",
            "\u001b[1m150/150\u001b[0m \u001b[32m━━━━━━━━━━━━━━━━━━━━\u001b[0m\u001b[37m\u001b[0m \u001b[1m498s\u001b[0m 3s/step - accuracy: 0.9485 - loss: 0.2550 - precision_5: 0.9346 - recall_5: 0.9615 - val_accuracy: 0.9917 - val_loss: 0.1623 - val_precision_5: 0.9913 - val_recall_5: 0.9913\n"
          ]
        },
        {
          "data": {
            "text/plain": [
              "<keras.src.callbacks.history.History at 0x2844ce0ff70>"
            ]
          },
          "execution_count": 20,
          "metadata": {},
          "output_type": "execute_result"
        }
      ],
      "source": [
        "history = model.fit(\n",
        "    train_gen, validation_data=val_gen, epochs=EPOCHS,\n",
        "    callbacks=[early_stop, checkpoint],\n",
        "    class_weight=class_weight, verbose=1\n",
        ")\n",
        "\n",
        "for layer in model.layers[-20:]:\n",
        "    if not isinstance(layer, layers.BatchNormalization):\n",
        "        layer.trainable = True\n",
        "\n",
        "model.compile(optimizer=tf.keras.optimizers.Adam(learning_rate=1e-5),\n",
        "              loss=tf.keras.losses.BinaryCrossentropy(label_smoothing=0.05),\n",
        "              metrics=['accuracy', tf.keras.metrics.Precision(), tf.keras.metrics.Recall()])\n",
        "\n",
        "model.fit(train_gen, validation_data=val_gen, epochs=4,\n",
        "          callbacks=[early_stop], class_weight=class_weight, verbose=1)"
      ]
    },
    {
      "cell_type": "code",
      "execution_count": null,
      "metadata": {},
      "outputs": [
        {
          "name": "stdout",
          "output_type": "stream",
          "text": [
            "\n",
            " Test Evaluation\n",
            "Test Accuracy : 0.9839\n",
            "Test Precision: 0.9843\n",
            "Test Recall   : 0.9824\n",
            "Test Loss     : 0.1624\n",
            "\n",
            " Train Evaluation\n",
            "Train Accuracy : 0.9871\n",
            "Train Precision: 0.9857\n",
            "Train Recall   : 0.9875\n",
            "Train Loss     : 0.1763\n",
            "\n",
            "Classification Report:\n",
            "              precision    recall  f1-score   support\n",
            "\n",
            "      Fundus       0.99      0.96      0.98       547\n",
            "  Non Fundus       0.96      0.99      0.98       510\n",
            "\n",
            "    accuracy                           0.98      1057\n",
            "   macro avg       0.98      0.98      0.98      1057\n",
            "weighted avg       0.98      0.98      0.98      1057\n",
            "\n"
          ]
        },
        {
          "data": {
            "image/png": "[encoded data removed]",
            "text/plain": [
              "<Figure size 640x480 with 2 Axes>"
            ]
          },
          "metadata": {},
          "output_type": "display_data"
        }
      ],
      "source": [
        "print(\"\\n Test Evaluation\")\n",
        "test_loss, test_acc, test_prec, test_rec = model.evaluate(test_gen, verbose=0)\n",
        "print(f\"Test Accuracy : {test_acc:.4f}\")\n",
        "print(f\"Test Precision: {test_prec:.4f}\")\n",
        "print(f\"Test Recall   : {test_rec:.4f}\")\n",
        "print(f\"Test Loss     : {test_loss:.4f}\")\n",
        "\n",
        "print(\"\\n Train Evaluation\")\n",
        "train_loss, train_acc, train_prec, train_rec = model.evaluate(train_gen, verbose=0)\n",
        "print(f\"Train Accuracy : {train_acc:.4f}\")\n",
        "print(f\"Train Precision: {train_prec:.4f}\")\n",
        "print(f\"Train Recall   : {train_rec:.4f}\")\n",
        "print(f\"Train Loss     : {train_loss:.4f}\")\n",
        "\n",
        "y_true = test_gen.classes\n",
        "y_pred_proba = model.predict(test_gen, verbose=0)\n",
        "y_pred = (y_pred_proba > THRESHOLD).astype(int)\n",
        "\n",
        "print(\"\\nClassification Report:\")\n",
        "print(classification_report(y_true, y_pred, target_names=['Fundus', 'Non Fundus']))\n",
        "\n",
        "cm = confusion_matrix(y_true, y_pred)\n",
        "ConfusionMatrixDisplay(cm, display_labels=['Fundus', 'Non Fundus']).plot(cmap='Blues')\n",
        "plt.title(\"Confusion Matrix - Test Set (Threshold = 0.3)\")\n",
        "plt.grid(False)\n",
        "plt.show()\n"
      ]
    },
    {
      "cell_type": "code",
      "execution_count": 22,
      "metadata": {},
      "outputs": [
        {
          "name": "stderr",
          "output_type": "stream",
          "text": [
            "WARNING:absl:You are saving your model as an HDF5 file via `model.save()` or `keras.saving.save_model(model)`. This file format is considered legacy. We recommend using instead the native Keras format, e.g. `model.save('my_model.keras')` or `keras.saving.save_model(model, 'my_model.keras')`. \n"
          ]
        }
      ],
      "source": [
        "model.save(\"final_fundus_nonfundus_classifier.h5\")"
      ]
    }
  ],
  "metadata": {
    "colab": {
      "authorship_tag": "ABX9TyNnSh6TqUDKpcZ0OnpjIyGe",
      "include_colab_link": true,
      "provenance": []
    },
    "kernelspec": {
      "display_name": "Python 3",
      "name": "python3"
    },
    "language_info": {
      "codemirror_mode": {
        "name": "ipython",
        "version": 3
      },
      "file_extension": ".py",
      "mimetype": "text/x-python",
      "name": "python",
      "nbconvert_exporter": "python",
      "pygments_lexer": "ipython3",
      "version": "3.10.0"
    }
  },
  "nbformat": 4,
  "nbformat_minor": 0
}
