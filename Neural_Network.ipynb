{
  "cells": [
    {
      "cell_type": "markdown",
      "metadata": {
        "colab_type": "text",
        "id": "view-in-github"
      },
      "source": [
        "<a href=\"https://colab.research.google.com/github/Romal27/DSGP-24-Retina94/blob/Validating-the-input/Neural_Network.ipynb\" target=\"_parent\"><img src=\"https://colab.research.google.com/assets/colab-badge.svg\" alt=\"Open In Colab\"/></a>"
      ]
    },
    {
      "cell_type": "code",
      "execution_count": 2,
      "metadata": {},
      "outputs": [
        {
          "name": "stdout",
          "output_type": "stream",
          "text": [
            "Collecting imagehash\n",
            "  Downloading ImageHash-4.3.2-py2.py3-none-any.whl.metadata (8.4 kB)\n",
            "Collecting PyWavelets (from imagehash)\n",
            "  Downloading pywavelets-1.8.0-cp311-cp311-win_amd64.whl.metadata (9.0 kB)\n",
            "Requirement already satisfied: numpy in c:\\users\\user\\appdata\\local\\packages\\pythonsoftwarefoundation.python.3.11_qbz5n2kfra8p0\\localcache\\local-packages\\python311\\site-packages (from imagehash) (2.0.2)\n",
            "Requirement already satisfied: pillow in c:\\users\\user\\appdata\\local\\packages\\pythonsoftwarefoundation.python.3.11_qbz5n2kfra8p0\\localcache\\local-packages\\python311\\site-packages (from imagehash) (11.1.0)\n",
            "Requirement already satisfied: scipy in c:\\users\\user\\appdata\\local\\packages\\pythonsoftwarefoundation.python.3.11_qbz5n2kfra8p0\\localcache\\local-packages\\python311\\site-packages (from imagehash) (1.15.1)\n",
            "Downloading ImageHash-4.3.2-py2.py3-none-any.whl (296 kB)\n",
            "Downloading pywavelets-1.8.0-cp311-cp311-win_amd64.whl (4.2 MB)\n",
            "   ---------------------------------------- 0.0/4.2 MB ? eta -:--:--\n",
            "   -- ------------------------------------- 0.3/4.2 MB ? eta -:--:--\n",
            "   ------- -------------------------------- 0.8/4.2 MB 2.2 MB/s eta 0:00:02\n",
            "   ------------ --------------------------- 1.3/4.2 MB 2.5 MB/s eta 0:00:02\n",
            "   ----------------- ---------------------- 1.8/4.2 MB 2.5 MB/s eta 0:00:01\n",
            "   ------------------------ --------------- 2.6/4.2 MB 2.6 MB/s eta 0:00:01\n",
            "   ----------------------------- ---------- 3.1/4.2 MB 2.6 MB/s eta 0:00:01\n",
            "   ---------------------------------- ----- 3.7/4.2 MB 2.7 MB/s eta 0:00:01\n",
            "   ---------------------------------------- 4.2/4.2 MB 2.8 MB/s eta 0:00:00\n",
            "Installing collected packages: PyWavelets, imagehash\n",
            "Successfully installed PyWavelets-1.8.0 imagehash-4.3.2\n"
          ]
        },
        {
          "name": "stderr",
          "output_type": "stream",
          "text": [
            "\n",
            "[notice] A new release of pip is available: 25.0 -> 25.0.1\n",
            "[notice] To update, run: C:\\Users\\User\\AppData\\Local\\Microsoft\\WindowsApps\\PythonSoftwareFoundation.Python.3.11_qbz5n2kfra8p0\\python.exe -m pip install --upgrade pip\n"
          ]
        }
      ],
      "source": [
        "!pip install imagehash\n"
      ]
    },
    {
      "cell_type": "code",
      "execution_count": 1,
      "metadata": {},
      "outputs": [],
      "source": [
        "import os\n",
        "import shutil\n",
        "import uuid\n",
        "import numpy as np\n",
        "import pandas as pd\n",
        "from PIL import Image\n",
        "import matplotlib.pyplot as plt\n",
        "from collections import Counter\n",
        "\n",
        "import seaborn as sns\n",
        "from sklearn.model_selection import StratifiedKFold\n",
        "from tensorflow.keras.preprocessing.image import ImageDataGenerator\n",
        "from tensorflow.keras.models import Sequential\n",
        "from tensorflow.keras.layers import Conv2D, MaxPooling2D, Flatten, Dense, Dropout, BatchNormalization\n",
        "from tensorflow.keras.optimizers import Adam\n",
        "from tensorflow.keras.regularizers import l2\n",
        "from tensorflow.keras.callbacks import EarlyStopping\n",
        "from sklearn.metrics import classification_report\n",
        "import tensorflow as tf\n",
        "from tensorflow.keras.callbacks import EarlyStopping, ModelCheckpoint\n",
        "import hashlib"
      ]
    },
    {
      "cell_type": "code",
      "execution_count": null,
      "metadata": {},
      "outputs": [],
      "source": [
        "\n",
        "\n",
        "# Define paths\n",
        "base_folder = \"D:/Data1\"\n",
        "fundus_folder = os.path.join(base_folder, \"Fundus\")\n",
        "non_fundus_folder = os.path.join(base_folder, \"Non Fundus\")\n",
        "duplicates_folder = \"D:/Data1/duplicates\"\n",
        "\n",
        "# Ensure duplicates folder exists\n",
        "os.makedirs(duplicates_folder, exist_ok=True)\n",
        "\n",
        "# Function to calculate hash of an image\n",
        "def calculate_hash(image_path):\n",
        "    with open(image_path, \"rb\") as f:\n",
        "        return hashlib.md5(f.read()).hexdigest()\n",
        "\n",
        "# Function to find duplicates\n",
        "def find_duplicates(folder):\n",
        "    hashes = {}\n",
        "    duplicates = []\n",
        "    for root, _, files in os.walk(folder):\n",
        "        for file in files:\n",
        "            file_path = os.path.join(root, file)\n",
        "            img_hash = calculate_hash(file_path)\n",
        "            if img_hash in hashes:\n",
        "                duplicates.append(file_path)\n",
        "            else:\n",
        "                hashes[img_hash] = file_path\n",
        "    return duplicates\n"
      ]
    },
    {
      "cell_type": "code",
      "execution_count": null,
      "metadata": {},
      "outputs": [],
      "source": [
        "\n",
        "# Function to visualize class distribution\n",
        "def visualize_class_distribution(title):\n",
        "    counts = {\n",
        "        \"fundus\": len(os.listdir(fundus_folder)),\n",
        "        \"non_fundus\": len(os.listdir(non_fundus_folder))\n",
        "    }\n",
        "    plt.figure(figsize=(6, 4))\n",
        "    plt.bar(counts.keys(), counts.values(), color=['blue', 'red'])\n",
        "    plt.xlabel(\"Class\")\n",
        "    plt.ylabel(\"Number of Images\")\n",
        "    plt.title(title)\n",
        "    plt.show()\n"
      ]
    },
    {
      "cell_type": "code",
      "execution_count": 9,
      "metadata": {},
      "outputs": [
        {
          "data": {
            "image/png": "[encoded data removed]",
            "text/plain": [
              "<Figure size 600x400 with 1 Axes>"
            ]
          },
          "metadata": {},
          "output_type": "display_data"
        },
        {
          "data": {
            "image/png": "[encoded data removed]",
            "text/plain": [
              "<Figure size 600x400 with 1 Axes>"
            ]
          },
          "metadata": {},
          "output_type": "display_data"
        },
        {
          "name": "stdout",
          "output_type": "stream",
          "text": [
            "No duplicates found after removal.\n",
            "Moved 0 duplicate images to 'duplicates' folder.\n"
          ]
        }
      ],
      "source": [
        "\n",
        "# Visualize before removal\n",
        "visualize_class_distribution(\"Class Distribution Before Duplicate Removal\")\n",
        "\n",
        "# Detect duplicates\n",
        "fundus_duplicates = find_duplicates(fundus_folder)\n",
        "non_fundus_duplicates = find_duplicates(non_fundus_folder)\n",
        "\n",
        "# Move duplicates\n",
        "for duplicate in fundus_duplicates + non_fundus_duplicates:\n",
        "    shutil.move(duplicate, os.path.join(duplicates_folder, os.path.basename(duplicate)))\n",
        "\n",
        "# Visualize after removal\n",
        "visualize_class_distribution(\"Class Distribution After Duplicate Removal\")\n",
        "\n",
        "# Check for any remaining duplicates\n",
        "remaining_fundus_duplicates = find_duplicates(fundus_folder)\n",
        "remaining_non_fundus_duplicates = find_duplicates(non_fundus_folder)\n",
        "\n",
        "if remaining_fundus_duplicates or remaining_non_fundus_duplicates:\n",
        "    print(\"Warning: Some duplicates may still be present.\")\n",
        "    print(f\"Remaining fundus duplicates: {len(remaining_fundus_duplicates)}\")\n",
        "    print(f\"Remaining non-fundus duplicates: {len(remaining_non_fundus_duplicates)}\")\n",
        "else:\n",
        "    print(\"No duplicates found after removal.\")\n",
        "\n",
        "print(f\"Moved {len(fundus_duplicates) + len(non_fundus_duplicates)} duplicate images to '{duplicates_folder}' folder.\")"
      ]
    },
    {
      "cell_type": "code",
      "execution_count": 4,
      "metadata": {},
      "outputs": [
        {
          "name": "stdout",
          "output_type": "stream",
          "text": [
            "Found 7152 images belonging to 3 classes.\n",
            "Training on fold 1/3...\n",
            "Found 4768 validated image filenames belonging to 2 classes.\n",
            "Found 2384 validated image filenames belonging to 2 classes.\n"
          ]
        },
        {
          "name": "stderr",
          "output_type": "stream",
          "text": [
            "C:\\Users\\User\\AppData\\Local\\Packages\\PythonSoftwareFoundation.Python.3.11_qbz5n2kfra8p0\\LocalCache\\local-packages\\Python311\\site-packages\\keras\\src\\trainers\\data_adapters\\py_dataset_adapter.py:121: UserWarning: Your `PyDataset` class should call `super().__init__(**kwargs)` in its constructor. `**kwargs` can include `workers`, `use_multiprocessing`, `max_queue_size`. Do not pass these arguments to `fit()`, as they will be ignored.\n",
            "  self._warn_if_super_not_called()\n"
          ]
        },
        {
          "name": "stdout",
          "output_type": "stream",
          "text": [
            "Epoch 1/15\n",
            "\u001b[1m298/298\u001b[0m \u001b[32m━━━━━━━━━━━━━━━━━━━━\u001b[0m\u001b[37m\u001b[0m \u001b[1m487s\u001b[0m 2s/step - accuracy: 0.5306 - loss: 0.6970 - val_accuracy: 0.5315 - val_loss: 0.6901 - learning_rate: 1.0000e-04\n",
            "Epoch 2/15\n",
            "\u001b[1m298/298\u001b[0m \u001b[32m━━━━━━━━━━━━━━━━━━━━\u001b[0m\u001b[37m\u001b[0m \u001b[1m470s\u001b[0m 2s/step - accuracy: 0.5082 - loss: 0.6938 - val_accuracy: 0.5315 - val_loss: 0.6899 - learning_rate: 1.0000e-04\n",
            "Epoch 3/15\n",
            "\u001b[1m298/298\u001b[0m \u001b[32m━━━━━━━━━━━━━━━━━━━━\u001b[0m\u001b[37m\u001b[0m \u001b[1m326s\u001b[0m 1s/step - accuracy: 0.5242 - loss: 0.6919 - val_accuracy: 0.5315 - val_loss: 0.6929 - learning_rate: 1.0000e-04\n",
            "Epoch 4/15\n",
            "\u001b[1m298/298\u001b[0m \u001b[32m━━━━━━━━━━━━━━━━━━━━\u001b[0m\u001b[37m\u001b[0m \u001b[1m342s\u001b[0m 1s/step - accuracy: 0.5270 - loss: 0.6926 - val_accuracy: 0.5315 - val_loss: 0.6883 - learning_rate: 1.0000e-04\n",
            "Epoch 5/15\n",
            "\u001b[1m298/298\u001b[0m \u001b[32m━━━━━━━━━━━━━━━━━━━━\u001b[0m\u001b[37m\u001b[0m \u001b[1m347s\u001b[0m 1s/step - accuracy: 0.5245 - loss: 0.6912 - val_accuracy: 0.5315 - val_loss: 0.6903 - learning_rate: 1.0000e-04\n",
            "Epoch 6/15\n",
            "\u001b[1m298/298\u001b[0m \u001b[32m━━━━━━━━━━━━━━━━━━━━\u001b[0m\u001b[37m\u001b[0m \u001b[1m330s\u001b[0m 1s/step - accuracy: 0.5286 - loss: 0.6896 - val_accuracy: 0.5315 - val_loss: 0.6885 - learning_rate: 1.0000e-04\n",
            "Epoch 7/15\n",
            "\u001b[1m298/298\u001b[0m \u001b[32m━━━━━━━━━━━━━━━━━━━━\u001b[0m\u001b[37m\u001b[0m \u001b[1m314s\u001b[0m 1s/step - accuracy: 0.5329 - loss: 0.6908 - val_accuracy: 0.5315 - val_loss: 0.6876 - learning_rate: 1.0000e-04\n",
            "Epoch 8/15\n",
            "\u001b[1m298/298\u001b[0m \u001b[32m━━━━━━━━━━━━━━━━━━━━\u001b[0m\u001b[37m\u001b[0m \u001b[1m396s\u001b[0m 1s/step - accuracy: 0.5367 - loss: 0.6896 - val_accuracy: 0.5315 - val_loss: 0.6868 - learning_rate: 1.0000e-04\n",
            "Epoch 9/15\n",
            "\u001b[1m298/298\u001b[0m \u001b[32m━━━━━━━━━━━━━━━━━━━━\u001b[0m\u001b[37m\u001b[0m \u001b[1m296s\u001b[0m 993ms/step - accuracy: 0.5400 - loss: 0.6887 - val_accuracy: 0.5315 - val_loss: 0.6876 - learning_rate: 1.0000e-04\n",
            "Epoch 10/15\n",
            "\u001b[1m298/298\u001b[0m \u001b[32m━━━━━━━━━━━━━━━━━━━━\u001b[0m\u001b[37m\u001b[0m \u001b[1m387s\u001b[0m 1s/step - accuracy: 0.5289 - loss: 0.6898 - val_accuracy: 0.5315 - val_loss: 0.6883 - learning_rate: 1.0000e-04\n",
            "Epoch 11/15\n",
            "\u001b[1m298/298\u001b[0m \u001b[32m━━━━━━━━━━━━━━━━━━━━\u001b[0m\u001b[37m\u001b[0m \u001b[1m0s\u001b[0m 659ms/step - accuracy: 0.5352 - loss: 0.6893\n",
            "Epoch 11: ReduceLROnPlateau reducing learning rate to 4.999999873689376e-05.\n",
            "\u001b[1m298/298\u001b[0m \u001b[32m━━━━━━━━━━━━━━━━━━━━\u001b[0m\u001b[37m\u001b[0m \u001b[1m294s\u001b[0m 986ms/step - accuracy: 0.5352 - loss: 0.6893 - val_accuracy: 0.5315 - val_loss: 0.6875 - learning_rate: 1.0000e-04\n",
            "Training on fold 2/3...\n",
            "Found 4768 validated image filenames belonging to 2 classes.\n",
            "Found 2384 validated image filenames belonging to 2 classes.\n"
          ]
        },
        {
          "name": "stderr",
          "output_type": "stream",
          "text": [
            "C:\\Users\\User\\AppData\\Local\\Packages\\PythonSoftwareFoundation.Python.3.11_qbz5n2kfra8p0\\LocalCache\\local-packages\\Python311\\site-packages\\keras\\src\\trainers\\data_adapters\\py_dataset_adapter.py:121: UserWarning: Your `PyDataset` class should call `super().__init__(**kwargs)` in its constructor. `**kwargs` can include `workers`, `use_multiprocessing`, `max_queue_size`. Do not pass these arguments to `fit()`, as they will be ignored.\n",
            "  self._warn_if_super_not_called()\n"
          ]
        },
        {
          "name": "stdout",
          "output_type": "stream",
          "text": [
            "Epoch 1/15\n",
            "\u001b[1m298/298\u001b[0m \u001b[32m━━━━━━━━━━━━━━━━━━━━\u001b[0m\u001b[37m\u001b[0m \u001b[1m297s\u001b[0m 979ms/step - accuracy: 0.5040 - loss: 0.7026 - val_accuracy: 0.5315 - val_loss: 0.6912 - learning_rate: 1.0000e-04\n",
            "Epoch 2/15\n",
            "\u001b[1m298/298\u001b[0m \u001b[32m━━━━━━━━━━━━━━━━━━━━\u001b[0m\u001b[37m\u001b[0m \u001b[1m289s\u001b[0m 970ms/step - accuracy: 0.5241 - loss: 0.6937 - val_accuracy: 0.5315 - val_loss: 0.6901 - learning_rate: 1.0000e-04\n",
            "Epoch 3/15\n",
            "\u001b[1m298/298\u001b[0m \u001b[32m━━━━━━━━━━━━━━━━━━━━\u001b[0m\u001b[37m\u001b[0m \u001b[1m300s\u001b[0m 1s/step - accuracy: 0.5193 - loss: 0.6924 - val_accuracy: 0.5315 - val_loss: 0.6913 - learning_rate: 1.0000e-04\n",
            "Epoch 4/15\n",
            "\u001b[1m298/298\u001b[0m \u001b[32m━━━━━━━━━━━━━━━━━━━━\u001b[0m\u001b[37m\u001b[0m \u001b[1m289s\u001b[0m 970ms/step - accuracy: 0.5180 - loss: 0.6945 - val_accuracy: 0.5315 - val_loss: 0.6899 - learning_rate: 1.0000e-04\n",
            "Epoch 5/15\n",
            "\u001b[1m298/298\u001b[0m \u001b[32m━━━━━━━━━━━━━━━━━━━━\u001b[0m\u001b[37m\u001b[0m \u001b[1m643s\u001b[0m 2s/step - accuracy: 0.5326 - loss: 0.6908 - val_accuracy: 0.5315 - val_loss: 0.6897 - learning_rate: 1.0000e-04\n",
            "Epoch 6/15\n",
            "\u001b[1m298/298\u001b[0m \u001b[32m━━━━━━━━━━━━━━━━━━━━\u001b[0m\u001b[37m\u001b[0m \u001b[1m309s\u001b[0m 1s/step - accuracy: 0.5295 - loss: 0.6911 - val_accuracy: 0.5315 - val_loss: 0.6914 - learning_rate: 1.0000e-04\n",
            "Epoch 7/15\n",
            "\u001b[1m298/298\u001b[0m \u001b[32m━━━━━━━━━━━━━━━━━━━━\u001b[0m\u001b[37m\u001b[0m \u001b[1m314s\u001b[0m 1s/step - accuracy: 0.5287 - loss: 0.6912 - val_accuracy: 0.4685 - val_loss: 0.6916 - learning_rate: 1.0000e-04\n",
            "Epoch 8/15\n",
            "\u001b[1m298/298\u001b[0m \u001b[32m━━━━━━━━━━━━━━━━━━━━\u001b[0m\u001b[37m\u001b[0m \u001b[1m0s\u001b[0m 647ms/step - accuracy: 0.5347 - loss: 0.6904\n",
            "Epoch 8: ReduceLROnPlateau reducing learning rate to 4.999999873689376e-05.\n",
            "\u001b[1m298/298\u001b[0m \u001b[32m━━━━━━━━━━━━━━━━━━━━\u001b[0m\u001b[37m\u001b[0m \u001b[1m289s\u001b[0m 970ms/step - accuracy: 0.5347 - loss: 0.6904 - val_accuracy: 0.5315 - val_loss: 0.6900 - learning_rate: 1.0000e-04\n",
            "Training on fold 3/3...\n",
            "Found 4768 validated image filenames belonging to 2 classes.\n",
            "Found 2384 validated image filenames belonging to 2 classes.\n"
          ]
        },
        {
          "name": "stderr",
          "output_type": "stream",
          "text": [
            "C:\\Users\\User\\AppData\\Local\\Packages\\PythonSoftwareFoundation.Python.3.11_qbz5n2kfra8p0\\LocalCache\\local-packages\\Python311\\site-packages\\keras\\src\\trainers\\data_adapters\\py_dataset_adapter.py:121: UserWarning: Your `PyDataset` class should call `super().__init__(**kwargs)` in its constructor. `**kwargs` can include `workers`, `use_multiprocessing`, `max_queue_size`. Do not pass these arguments to `fit()`, as they will be ignored.\n",
            "  self._warn_if_super_not_called()\n"
          ]
        },
        {
          "name": "stdout",
          "output_type": "stream",
          "text": [
            "Epoch 1/15\n",
            "\u001b[1m298/298\u001b[0m \u001b[32m━━━━━━━━━━━━━━━━━━━━\u001b[0m\u001b[37m\u001b[0m \u001b[1m1835s\u001b[0m 6s/step - accuracy: 0.5184 - loss: 0.6965 - val_accuracy: 0.5315 - val_loss: 0.6908 - learning_rate: 1.0000e-04\n",
            "Epoch 2/15\n",
            "\u001b[1m298/298\u001b[0m \u001b[32m━━━━━━━━━━━━━━━━━━━━\u001b[0m\u001b[37m\u001b[0m \u001b[1m289s\u001b[0m 969ms/step - accuracy: 0.5196 - loss: 0.6926 - val_accuracy: 0.5315 - val_loss: 0.6899 - learning_rate: 1.0000e-04\n",
            "Epoch 3/15\n",
            "\u001b[1m298/298\u001b[0m \u001b[32m━━━━━━━━━━━━━━━━━━━━\u001b[0m\u001b[37m\u001b[0m \u001b[1m289s\u001b[0m 971ms/step - accuracy: 0.5289 - loss: 0.6923 - val_accuracy: 0.5315 - val_loss: 0.6896 - learning_rate: 1.0000e-04\n",
            "Epoch 4/15\n",
            "\u001b[1m298/298\u001b[0m \u001b[32m━━━━━━━━━━━━━━━━━━━━\u001b[0m\u001b[37m\u001b[0m \u001b[1m292s\u001b[0m 982ms/step - accuracy: 0.5395 - loss: 0.6899 - val_accuracy: 0.5315 - val_loss: 0.6903 - learning_rate: 1.0000e-04\n",
            "Epoch 5/15\n",
            "\u001b[1m298/298\u001b[0m \u001b[32m━━━━━━━━━━━━━━━━━━━━\u001b[0m\u001b[37m\u001b[0m \u001b[1m288s\u001b[0m 968ms/step - accuracy: 0.5237 - loss: 0.6915 - val_accuracy: 0.5315 - val_loss: 0.6887 - learning_rate: 1.0000e-04\n",
            "Epoch 6/15\n",
            "\u001b[1m298/298\u001b[0m \u001b[32m━━━━━━━━━━━━━━━━━━━━\u001b[0m\u001b[37m\u001b[0m \u001b[1m288s\u001b[0m 967ms/step - accuracy: 0.5220 - loss: 0.6914 - val_accuracy: 0.5315 - val_loss: 0.6891 - learning_rate: 1.0000e-04\n",
            "Epoch 7/15\n",
            "\u001b[1m298/298\u001b[0m \u001b[32m━━━━━━━━━━━━━━━━━━━━\u001b[0m\u001b[37m\u001b[0m \u001b[1m289s\u001b[0m 971ms/step - accuracy: 0.5363 - loss: 0.6894 - val_accuracy: 0.4685 - val_loss: 0.6924 - learning_rate: 1.0000e-04\n",
            "Epoch 8/15\n",
            "\u001b[1m298/298\u001b[0m \u001b[32m━━━━━━━━━━━━━━━━━━━━\u001b[0m\u001b[37m\u001b[0m \u001b[1m0s\u001b[0m 640ms/step - accuracy: 0.5321 - loss: 0.6899\n",
            "Epoch 8: ReduceLROnPlateau reducing learning rate to 4.999999873689376e-05.\n",
            "\u001b[1m298/298\u001b[0m \u001b[32m━━━━━━━━━━━━━━━━━━━━\u001b[0m\u001b[37m\u001b[0m \u001b[1m289s\u001b[0m 969ms/step - accuracy: 0.5321 - loss: 0.6899 - val_accuracy: 0.5315 - val_loss: 0.6890 - learning_rate: 1.0000e-04\n"
          ]
        },
        {
          "name": "stderr",
          "output_type": "stream",
          "text": [
            "WARNING:absl:You are saving your model as an HDF5 file via `model.save()` or `keras.saving.save_model(model)`. This file format is considered legacy. We recommend using instead the native Keras format, e.g. `model.save('my_model.keras')` or `keras.saving.save_model(model, 'my_model.keras')`. \n"
          ]
        },
        {
          "name": "stdout",
          "output_type": "stream",
          "text": [
            "Model training complete. Saved at: D:/new_model_fundus.h5\n",
            "Original Labels:\n",
            "[0 0 0 ... 2 2 2]\n",
            "\u001b[1m447/447\u001b[0m \u001b[32m━━━━━━━━━━━━━━━━━━━━\u001b[0m\u001b[37m\u001b[0m \u001b[1m314s\u001b[0m 700ms/step\n",
            "Predicted Labels:\n",
            "[1 1 1 ... 1 1 1]\n"
          ]
        },
        {
          "data": {
            "image/png": "[encoded data removed]",
            "text/plain": [
              "<Figure size 600x600 with 2 Axes>"
            ]
          },
          "metadata": {},
          "output_type": "display_data"
        },
        {
          "name": "stdout",
          "output_type": "stream",
          "text": [
            "Classification Report:\n"
          ]
        },
        {
          "ename": "ValueError",
          "evalue": "Number of classes, 3, does not match size of target_names, 2. Try specifying the labels parameter",
          "output_type": "error",
          "traceback": [
            "\u001b[1;31m---------------------------------------------------------------------------\u001b[0m",
            "\u001b[1;31mValueError\u001b[0m                                Traceback (most recent call last)",
            "Cell \u001b[1;32mIn[4], line 132\u001b[0m\n\u001b[0;32m    130\u001b[0m \u001b[38;5;66;03m# Print Classification Report\u001b[39;00m\n\u001b[0;32m    131\u001b[0m \u001b[38;5;28mprint\u001b[39m(\u001b[38;5;124m\"\u001b[39m\u001b[38;5;124mClassification Report:\u001b[39m\u001b[38;5;124m\"\u001b[39m)\n\u001b[1;32m--> 132\u001b[0m \u001b[38;5;28mprint\u001b[39m(\u001b[43mclassification_report\u001b[49m\u001b[43m(\u001b[49m\u001b[43my\u001b[49m\u001b[43m,\u001b[49m\u001b[43m \u001b[49m\u001b[43mpredictions\u001b[49m\u001b[43m,\u001b[49m\u001b[43m \u001b[49m\u001b[43mtarget_names\u001b[49m\u001b[38;5;241;43m=\u001b[39;49m\u001b[43m[\u001b[49m\u001b[38;5;124;43m'\u001b[39;49m\u001b[38;5;124;43mNon Fundus\u001b[39;49m\u001b[38;5;124;43m'\u001b[39;49m\u001b[43m,\u001b[49m\u001b[43m \u001b[49m\u001b[38;5;124;43m'\u001b[39;49m\u001b[38;5;124;43mFundus\u001b[39;49m\u001b[38;5;124;43m'\u001b[39;49m\u001b[43m]\u001b[49m\u001b[43m)\u001b[49m)\n",
            "File \u001b[1;32m~\\AppData\\Local\\Packages\\PythonSoftwareFoundation.Python.3.11_qbz5n2kfra8p0\\LocalCache\\local-packages\\Python311\\site-packages\\sklearn\\utils\\_param_validation.py:216\u001b[0m, in \u001b[0;36mvalidate_params.<locals>.decorator.<locals>.wrapper\u001b[1;34m(*args, **kwargs)\u001b[0m\n\u001b[0;32m    210\u001b[0m \u001b[38;5;28;01mtry\u001b[39;00m:\n\u001b[0;32m    211\u001b[0m     \u001b[38;5;28;01mwith\u001b[39;00m config_context(\n\u001b[0;32m    212\u001b[0m         skip_parameter_validation\u001b[38;5;241m=\u001b[39m(\n\u001b[0;32m    213\u001b[0m             prefer_skip_nested_validation \u001b[38;5;129;01mor\u001b[39;00m global_skip_validation\n\u001b[0;32m    214\u001b[0m         )\n\u001b[0;32m    215\u001b[0m     ):\n\u001b[1;32m--> 216\u001b[0m         \u001b[38;5;28;01mreturn\u001b[39;00m \u001b[43mfunc\u001b[49m\u001b[43m(\u001b[49m\u001b[38;5;241;43m*\u001b[39;49m\u001b[43margs\u001b[49m\u001b[43m,\u001b[49m\u001b[43m \u001b[49m\u001b[38;5;241;43m*\u001b[39;49m\u001b[38;5;241;43m*\u001b[39;49m\u001b[43mkwargs\u001b[49m\u001b[43m)\u001b[49m\n\u001b[0;32m    217\u001b[0m \u001b[38;5;28;01mexcept\u001b[39;00m InvalidParameterError \u001b[38;5;28;01mas\u001b[39;00m e:\n\u001b[0;32m    218\u001b[0m     \u001b[38;5;66;03m# When the function is just a wrapper around an estimator, we allow\u001b[39;00m\n\u001b[0;32m    219\u001b[0m     \u001b[38;5;66;03m# the function to delegate validation to the estimator, but we replace\u001b[39;00m\n\u001b[0;32m    220\u001b[0m     \u001b[38;5;66;03m# the name of the estimator by the name of the function in the error\u001b[39;00m\n\u001b[0;32m    221\u001b[0m     \u001b[38;5;66;03m# message to avoid confusion.\u001b[39;00m\n\u001b[0;32m    222\u001b[0m     msg \u001b[38;5;241m=\u001b[39m re\u001b[38;5;241m.\u001b[39msub(\n\u001b[0;32m    223\u001b[0m         \u001b[38;5;124mr\u001b[39m\u001b[38;5;124m\"\u001b[39m\u001b[38;5;124mparameter of \u001b[39m\u001b[38;5;124m\\\u001b[39m\u001b[38;5;124mw+ must be\u001b[39m\u001b[38;5;124m\"\u001b[39m,\n\u001b[0;32m    224\u001b[0m         \u001b[38;5;124mf\u001b[39m\u001b[38;5;124m\"\u001b[39m\u001b[38;5;124mparameter of \u001b[39m\u001b[38;5;132;01m{\u001b[39;00mfunc\u001b[38;5;241m.\u001b[39m\u001b[38;5;18m__qualname__\u001b[39m\u001b[38;5;132;01m}\u001b[39;00m\u001b[38;5;124m must be\u001b[39m\u001b[38;5;124m\"\u001b[39m,\n\u001b[0;32m    225\u001b[0m         \u001b[38;5;28mstr\u001b[39m(e),\n\u001b[0;32m    226\u001b[0m     )\n",
            "File \u001b[1;32m~\\AppData\\Local\\Packages\\PythonSoftwareFoundation.Python.3.11_qbz5n2kfra8p0\\LocalCache\\local-packages\\Python311\\site-packages\\sklearn\\metrics\\_classification.py:2693\u001b[0m, in \u001b[0;36mclassification_report\u001b[1;34m(y_true, y_pred, labels, target_names, sample_weight, digits, output_dict, zero_division)\u001b[0m\n\u001b[0;32m   2687\u001b[0m         warnings\u001b[38;5;241m.\u001b[39mwarn(\n\u001b[0;32m   2688\u001b[0m             \u001b[38;5;124m\"\u001b[39m\u001b[38;5;124mlabels size, \u001b[39m\u001b[38;5;132;01m{0}\u001b[39;00m\u001b[38;5;124m, does not match size of target_names, \u001b[39m\u001b[38;5;132;01m{1}\u001b[39;00m\u001b[38;5;124m\"\u001b[39m\u001b[38;5;241m.\u001b[39mformat(\n\u001b[0;32m   2689\u001b[0m                 \u001b[38;5;28mlen\u001b[39m(labels), \u001b[38;5;28mlen\u001b[39m(target_names)\n\u001b[0;32m   2690\u001b[0m             )\n\u001b[0;32m   2691\u001b[0m         )\n\u001b[0;32m   2692\u001b[0m     \u001b[38;5;28;01melse\u001b[39;00m:\n\u001b[1;32m-> 2693\u001b[0m         \u001b[38;5;28;01mraise\u001b[39;00m \u001b[38;5;167;01mValueError\u001b[39;00m(\n\u001b[0;32m   2694\u001b[0m             \u001b[38;5;124m\"\u001b[39m\u001b[38;5;124mNumber of classes, \u001b[39m\u001b[38;5;132;01m{0}\u001b[39;00m\u001b[38;5;124m, does not match size of \u001b[39m\u001b[38;5;124m\"\u001b[39m\n\u001b[0;32m   2695\u001b[0m             \u001b[38;5;124m\"\u001b[39m\u001b[38;5;124mtarget_names, \u001b[39m\u001b[38;5;132;01m{1}\u001b[39;00m\u001b[38;5;124m. Try specifying the labels \u001b[39m\u001b[38;5;124m\"\u001b[39m\n\u001b[0;32m   2696\u001b[0m             \u001b[38;5;124m\"\u001b[39m\u001b[38;5;124mparameter\u001b[39m\u001b[38;5;124m\"\u001b[39m\u001b[38;5;241m.\u001b[39mformat(\u001b[38;5;28mlen\u001b[39m(labels), \u001b[38;5;28mlen\u001b[39m(target_names))\n\u001b[0;32m   2697\u001b[0m         )\n\u001b[0;32m   2698\u001b[0m \u001b[38;5;28;01mif\u001b[39;00m target_names \u001b[38;5;129;01mis\u001b[39;00m \u001b[38;5;28;01mNone\u001b[39;00m:\n\u001b[0;32m   2699\u001b[0m     target_names \u001b[38;5;241m=\u001b[39m [\u001b[38;5;124m\"\u001b[39m\u001b[38;5;132;01m%s\u001b[39;00m\u001b[38;5;124m\"\u001b[39m \u001b[38;5;241m%\u001b[39m l \u001b[38;5;28;01mfor\u001b[39;00m l \u001b[38;5;129;01min\u001b[39;00m labels]\n",
            "\u001b[1;31mValueError\u001b[0m: Number of classes, 3, does not match size of target_names, 2. Try specifying the labels parameter"
          ]
        }
      ],
      "source": [
        "import os\n",
        "import numpy as np\n",
        "import tensorflow as tf\n",
        "import matplotlib.pyplot as plt\n",
        "import seaborn as sns\n",
        "import pandas as pd\n",
        "from tensorflow.keras.preprocessing.image import ImageDataGenerator\n",
        "from tensorflow.keras.applications import EfficientNetB0\n",
        "from tensorflow.keras.layers import Dense, Flatten, Dropout, GlobalAveragePooling2D\n",
        "from tensorflow.keras.models import Model\n",
        "from tensorflow.keras.optimizers import Adam\n",
        "from tensorflow.keras.callbacks import EarlyStopping, ReduceLROnPlateau\n",
        "from sklearn.model_selection import StratifiedKFold\n",
        "from sklearn.metrics import confusion_matrix, classification_report\n",
        "\n",
        "# Updated Dataset Path\n",
        "dataset_path = \"D:/Data1\"  # Contains 'Fundus' and 'Non Fundus'\n",
        "model_save_path = \"D:/new_model_fundus.h5\"\n",
        "\n",
        "# Image Parameters\n",
        "IMG_SIZE = (224, 224)\n",
        "BATCH_SIZE = 16  # Lower batch size\n",
        "EPOCHS = 15  # Updated epochs\n",
        "LEARNING_RATE = 0.0001\n",
        "K_FOLDS = 3  # Updated K-Fold\n",
        "\n",
        "# Data Augmentation\n",
        "datagen = ImageDataGenerator(\n",
        "    rescale=1./255,\n",
        "    rotation_range=20,\n",
        "    width_shift_range=0.2,\n",
        "    height_shift_range=0.2,\n",
        "    shear_range=0.2,\n",
        "    zoom_range=0.2,\n",
        "    horizontal_flip=True\n",
        ")\n",
        "\n",
        "data_generator = datagen.flow_from_directory(\n",
        "    dataset_path,\n",
        "    target_size=IMG_SIZE,\n",
        "    batch_size=BATCH_SIZE,\n",
        "    class_mode='binary',\n",
        "    shuffle=True\n",
        ")\n",
        "\n",
        "# K-Fold Cross-Validation\n",
        "skf = StratifiedKFold(n_splits=K_FOLDS, shuffle=True, random_state=42)\n",
        "X, y = np.array(data_generator.filepaths), np.array(data_generator.classes)\n",
        "\n",
        "for fold, (train_idx, val_idx) in enumerate(skf.split(X, y)):\n",
        "    print(f\"Training on fold {fold + 1}/{K_FOLDS}...\")\n",
        "    train_files = X[train_idx].tolist()\n",
        "    val_files = X[val_idx].tolist()\n",
        "    train_labels = ['Fundus' if y[i] == 1 else 'Non Fundus' for i in train_idx]\n",
        "    val_labels = ['Fundus' if y[i] == 1 else 'Non Fundus' for i in val_idx]\n",
        "\n",
        "    train_data = datagen.flow_from_dataframe(\n",
        "        dataframe=pd.DataFrame({'filename': train_files, 'class': train_labels}),\n",
        "        directory=None,\n",
        "        x_col='filename',\n",
        "        y_col='class',\n",
        "        target_size=IMG_SIZE,\n",
        "        batch_size=BATCH_SIZE,\n",
        "        class_mode='binary'\n",
        "    )\n",
        "\n",
        "    val_data = datagen.flow_from_dataframe(\n",
        "        dataframe=pd.DataFrame({'filename': val_files, 'class': val_labels}),\n",
        "        directory=None,\n",
        "        x_col='filename',\n",
        "        y_col='class',\n",
        "        target_size=IMG_SIZE,\n",
        "        batch_size=BATCH_SIZE,\n",
        "        class_mode='binary'\n",
        "    )\n",
        "\n",
        "    # Load Pretrained Model\n",
        "    base_model = EfficientNetB0(weights='imagenet', include_top=False, input_shape=(224, 224, 3))\n",
        "    for layer in base_model.layers:\n",
        "        layer.trainable = False  # Freeze base model layers\n",
        "\n",
        "    # Build Model\n",
        "    x = GlobalAveragePooling2D()(base_model.output)\n",
        "    x = Dense(128, activation='relu')(x)\n",
        "    x = Dropout(0.5)(x)\n",
        "    output = Dense(1, activation='sigmoid')(x)\n",
        "    model = Model(inputs=base_model.input, outputs=output)\n",
        "\n",
        "    model.compile(\n",
        "        optimizer=Adam(learning_rate=LEARNING_RATE),\n",
        "        loss='binary_crossentropy',\n",
        "        metrics=['accuracy']\n",
        "    )\n",
        "\n",
        "    # Callbacks\n",
        "    early_stopping = EarlyStopping(monitor='val_loss', patience=3, restore_best_weights=True)  # Updated patience\n",
        "    reduce_lr = ReduceLROnPlateau(monitor='val_loss', factor=0.5, patience=3, verbose=1)\n",
        "\n",
        "    # Train Model\n",
        "    history = model.fit(\n",
        "        train_data,\n",
        "        validation_data=val_data,\n",
        "        epochs=EPOCHS,\n",
        "        callbacks=[early_stopping, reduce_lr]\n",
        "    )\n",
        "\n",
        "# Save Model\n",
        "model.save(model_save_path)\n",
        "print(\"Model training complete. Saved at:\", model_save_path)\n",
        "\n",
        "# Print Labels Before and After Training\n",
        "print(\"Original Labels:\")\n",
        "print(y)\n",
        "\n",
        "predictions = model.predict(data_generator)\n",
        "predictions = (predictions > 0.5).astype(int).flatten()\n",
        "\n",
        "print(\"Predicted Labels:\")\n",
        "print(predictions)\n",
        "\n",
        "# Confusion Matrix\n",
        "conf_matrix = confusion_matrix(y, predictions)\n",
        "plt.figure(figsize=(6, 6))\n",
        "sns.heatmap(conf_matrix, annot=True, fmt='d', cmap='Blues', xticklabels=['Non Fundus', 'Fundus'], yticklabels=['Non Fundus', 'Fundus'])\n",
        "plt.xlabel('Predicted')\n",
        "plt.ylabel('Actual')\n",
        "plt.title('Confusion Matrix')\n",
        "plt.show()\n",
        "\n",
        "# Print Classification Report\n",
        "print(\"Classification Report:\")\n",
        "print(classification_report(y, predictions, target_names=['Non Fundus', 'Fundus']))"
      ]
    },
    {
      "cell_type": "code",
      "execution_count": null,
      "metadata": {},
      "outputs": [],
      "source": [
        "\n",
        "plt.figure(figsize=(6, 5))\n",
        "sns.heatmap(cm, annot=True, fmt='d', cmap='Blues', xticklabels=[\"Non-Fundus\", \"Fundus\"], yticklabels=[\"Non-Fundus\", \"Fundus\"])\n",
        "plt.xlabel(\"Predicted\")\n",
        "plt.ylabel(\"Actual\")\n",
        "plt.title(\"Confusion Matrix\")\n",
        "plt.show()\n",
        "\n",
        "print(f\"Model saved at: {MODEL_SAVE_PATH}\")\n"
      ]
    },
    {
      "cell_type": "code",
      "execution_count": null,
      "metadata": {},
      "outputs": [
        {
          "name": "stderr",
          "output_type": "stream",
          "text": [
            "WARNING:absl:Compiled the loaded model, but the compiled metrics have yet to be built. `model.compile_metrics` will be empty until you train or evaluate the model.\n"
          ]
        },
        {
          "name": "stdout",
          "output_type": "stream",
          "text": [
            "\u001b[1m24/24\u001b[0m \u001b[32m━━━━━━━━━━━━━━━━━━━━\u001b[0m\u001b[37m\u001b[0m \u001b[1m41s\u001b[0m 2s/step - accuracy: 0.9911 - loss: 1.0744\n",
            "Test Accuracy: 98.13%\n",
            "Test Loss: 1.2224\n"
          ]
        }
      ],
      "source": [
        "import tensorflow as tf\n",
        "\n",
        "model = tf.keras.models.load_model(\"D:/saved_model_fundus.h5\")\n",
        "test_loss, test_accuracy = model.evaluate(test_generator)\n",
        "\n",
        "print(f\"Test Accuracy: {test_accuracy * 100:.2f}%\")\n",
        "print(f\"Test Loss: {test_loss:.4f}\")\n"
      ]
    },
    {
      "cell_type": "code",
      "execution_count": 4,
      "metadata": {},
      "outputs": [
        {
          "data": {
            "image/png": "[encoded data removed]",
            "text/plain": [
              "<Figure size 600x500 with 2 Axes>"
            ]
          },
          "metadata": {},
          "output_type": "display_data"
        }
      ],
      "source": [
        "import seaborn as sns\n",
        "import matplotlib.pyplot as plt\n",
        "from sklearn.metrics import confusion_matrix\n",
        "\n",
        "# Generate confusion matrix\n",
        "cm = confusion_matrix(y_true, y_pred)\n",
        "\n",
        "# Plot the confusion matrix\n",
        "plt.figure(figsize=(6, 5))\n",
        "sns.heatmap(cm, annot=True, fmt=\"d\", cmap=\"Blues\", xticklabels=[\"Non-Fundus\", \"Fundus\"], yticklabels=[\"Non-Fundus\", \"Fundus\"])\n",
        "plt.xlabel(\"Predicted Label\")\n",
        "plt.ylabel(\"True Label\")\n",
        "plt.title(\"Confusion Matrix\")\n",
        "plt.show()\n"
      ]
    },
    {
      "cell_type": "code",
      "execution_count": 1,
      "metadata": {},
      "outputs": [
        {
          "name": "stderr",
          "output_type": "stream",
          "text": [
            "WARNING:absl:Compiled the loaded model, but the compiled metrics have yet to be built. `model.compile_metrics` will be empty until you train or evaluate the model.\n"
          ]
        },
        {
          "name": "stdout",
          "output_type": "stream",
          "text": [
            "Model loaded in 0.87 seconds\n"
          ]
        }
      ],
      "source": [
        "import time\n",
        "import tensorflow as tf\n",
        "from tensorflow.keras.models import load_model\n",
        "\n",
        "model_path = \"D:/saved_model_fundus.h5\"\n",
        "\n",
        "start_time = time.time()\n",
        "model = load_model(model_path)\n",
        "end_time = time.time()\n",
        "\n",
        "print(f\"Model loaded in {end_time - start_time:.2f} seconds\")\n"
      ]
    },
    {
      "cell_type": "code",
      "execution_count": 21,
      "metadata": {},
      "outputs": [
        {
          "name": "stderr",
          "output_type": "stream",
          "text": [
            "WARNING:absl:Compiled the loaded model, but the compiled metrics have yet to be built. `model.compile_metrics` will be empty until you train or evaluate the model.\n"
          ]
        }
      ],
      "source": [
        "import tensorflow as tf\n",
        "import numpy as np\n",
        "from tensorflow.keras.preprocessing import image\n",
        "\n",
        "model_path = \"D:/saved_model_fundus.h5\"\n",
        "model = tf.keras.models.load_model(model_path)\n",
        "\n"
      ]
    },
    {
      "cell_type": "code",
      "execution_count": null,
      "metadata": {},
      "outputs": [
        {
          "name": "stdout",
          "output_type": "stream",
          "text": [
            "\u001b[1m1/1\u001b[0m \u001b[32m━━━━━━━━━━━━━━━━━━━━\u001b[0m\u001b[37m\u001b[0m \u001b[1m0s\u001b[0m 52ms/step\n",
            "Prediction: [[1.233044e-19]]\n",
            "Model predicts: Fundus\n"
          ]
        }
      ],
      "source": [
        "img_path = r\"D:\\Datasets_Final\\test\\Fundus\\N3.jpg\"\n",
        "img = image.load_img(img_path, target_size=(224, 224))  \n",
        "img_array = image.img_to_array(img)\n",
        "img_array = np.expand_dims(img_array, axis=0) / 255.0  \n",
        "\n",
        "prediction = model.predict(img_array)\n",
        "\n",
        "# Check output\n",
        "print(\"Prediction:\", prediction)\n",
        "\n",
        "# Interpret the prediction based on your labeling (e.g., 0 = fundus, 1 = non-fundus)\n",
        "if prediction[0] > 0.5:\n",
        "    print(\"Model predicts: Non-Fundus\")\n",
        "else:\n",
        "    print(\"Model predicts: Fundus\")\n"
      ]
    },
    {
      "cell_type": "code",
      "execution_count": null,
      "metadata": {},
      "outputs": [
        {
          "name": "stdout",
          "output_type": "stream",
          "text": [
            "\u001b[1m1/1\u001b[0m \u001b[32m━━━━━━━━━━━━━━━━━━━━\u001b[0m\u001b[37m\u001b[0m \u001b[1m0s\u001b[0m 51ms/step\n",
            "Predicted Class: Non-Fundus (Confidence: 0.0000)\n"
          ]
        },
        {
          "name": "stderr",
          "output_type": "stream",
          "text": [
            "C:\\Users\\User\\AppData\\Local\\Temp\\ipykernel_19436\\4066659428.py:12: DeprecationWarning: Conversion of an array with ndim > 0 to a scalar is deprecated, and will error in future. Ensure you extract a single element from your array before performing this operation. (Deprecated NumPy 1.25.)\n",
            "  predicted_class = class_labels[int(prediction[0] > 0.5)]\n"
          ]
        }
      ],
      "source": [
        "test_image_path = \"C:\\\\Users\\\\User\\\\Downloads\\\\download.jpeg\"\n",
        "input_image = preprocess_single_image(test_image_path)\n",
        "prediction = model.predict(input_image)\n",
        "\n",
        "# Interpret Prediction\n",
        "class_labels = [\"Non-Fundus\", \"Fundus\"]\n",
        "predicted_class = class_labels[int(prediction[0] > 0.5)]\n",
        "print(f\"Predicted Class: {predicted_class} (Confidence: {prediction[0][0]:.4f})\")\n"
      ]
    },
    {
      "cell_type": "code",
      "execution_count": null,
      "metadata": {},
      "outputs": [
        {
          "name": "stdout",
          "output_type": "stream",
          "text": [
            "\n",
            "Training Fold 1/3...\n",
            "\n",
            "\n",
            "Training Labels Preview:\n",
            "                                          filename   class\n",
            "0  D:/Datasets_Final\\train\\Fundus\\0024cdab0c1e.png  Fundus\n",
            "1  D:/Datasets_Final\\train\\Fundus\\0097f532ac9f.png  Fundus\n",
            "2  D:/Datasets_Final\\train\\Fundus\\00a8624548a9.png  Fundus\n",
            "3  D:/Datasets_Final\\train\\Fundus\\00b74780d31d.png  Fundus\n",
            "4  D:/Datasets_Final\\train\\Fundus\\00f6c1be5a33.png  Fundus\n",
            "\n",
            "Validation Labels Preview:\n",
            "                                          filename   class\n",
            "0  D:/Datasets_Final\\train\\Fundus\\000c1434d8d7.png  Fundus\n",
            "1  D:/Datasets_Final\\train\\Fundus\\00cc2b75cddd.png  Fundus\n",
            "2  D:/Datasets_Final\\train\\Fundus\\0124dffecf29.png  Fundus\n",
            "3  D:/Datasets_Final\\train\\Fundus\\01b3aed3ed4c.png  Fundus\n",
            "4  D:/Datasets_Final\\train\\Fundus\\01c7808d901d.png  Fundus\n",
            "Found 3481 validated image filenames belonging to 2 classes.\n",
            "Found 1741 validated image filenames belonging to 2 classes.\n"
          ]
        },
        {
          "name": "stderr",
          "output_type": "stream",
          "text": [
            "C:\\Users\\User\\AppData\\Local\\Packages\\PythonSoftwareFoundation.Python.3.11_qbz5n2kfra8p0\\LocalCache\\local-packages\\Python311\\site-packages\\keras\\src\\layers\\convolutional\\base_conv.py:107: UserWarning: Do not pass an `input_shape`/`input_dim` argument to a layer. When using Sequential models, prefer using an `Input(shape)` object as the first layer in the model instead.\n",
            "  super().__init__(activity_regularizer=activity_regularizer, **kwargs)\n",
            "C:\\Users\\User\\AppData\\Local\\Packages\\PythonSoftwareFoundation.Python.3.11_qbz5n2kfra8p0\\LocalCache\\local-packages\\Python311\\site-packages\\keras\\src\\trainers\\data_adapters\\py_dataset_adapter.py:121: UserWarning: Your `PyDataset` class should call `super().__init__(**kwargs)` in its constructor. `**kwargs` can include `workers`, `use_multiprocessing`, `max_queue_size`. Do not pass these arguments to `fit()`, as they will be ignored.\n",
            "  self._warn_if_super_not_called()\n"
          ]
        },
        {
          "name": "stdout",
          "output_type": "stream",
          "text": [
            "Epoch 1/15\n",
            "\u001b[1m109/109\u001b[0m \u001b[32m━━━━━━━━━━━━━━━━━━━━\u001b[0m\u001b[37m\u001b[0m \u001b[1m0s\u001b[0m 2s/step - accuracy: 0.8485 - loss: 0.5027"
          ]
        },
        {
          "name": "stderr",
          "output_type": "stream",
          "text": [
            "WARNING:absl:You are saving your model as an HDF5 file via `model.save()` or `keras.saving.save_model(model)`. This file format is considered legacy. We recommend using instead the native Keras format, e.g. `model.save('my_model.keras')` or `keras.saving.save_model(model, 'my_model.keras')`. \n"
          ]
        },
        {
          "name": "stdout",
          "output_type": "stream",
          "text": [
            "\u001b[1m109/109\u001b[0m \u001b[32m━━━━━━━━━━━━━━━━━━━━\u001b[0m\u001b[37m\u001b[0m \u001b[1m233s\u001b[0m 2s/step - accuracy: 0.8492 - loss: 0.5014 - val_accuracy: 0.9742 - val_loss: 0.2387\n",
            "Epoch 2/15\n",
            "\u001b[1m109/109\u001b[0m \u001b[32m━━━━━━━━━━━━━━━━━━━━\u001b[0m\u001b[37m\u001b[0m \u001b[1m226s\u001b[0m 2s/step - accuracy: 0.9699 - loss: 0.2232 - val_accuracy: 0.9449 - val_loss: 0.2368\n",
            "Epoch 3/15\n",
            "\u001b[1m109/109\u001b[0m \u001b[32m━━━━━━━━━━━━━━━━━━━━\u001b[0m\u001b[37m\u001b[0m \u001b[1m229s\u001b[0m 2s/step - accuracy: 0.9837 - loss: 0.1733 - val_accuracy: 0.9661 - val_loss: 0.1784\n",
            "Epoch 4/15\n",
            "\u001b[1m109/109\u001b[0m \u001b[32m━━━━━━━━━━━━━━━━━━━━\u001b[0m\u001b[37m\u001b[0m \u001b[1m241s\u001b[0m 2s/step - accuracy: 0.9827 - loss: 0.1520 - val_accuracy: 0.9696 - val_loss: 0.1676\n",
            "Epoch 5/15\n",
            "\u001b[1m109/109\u001b[0m \u001b[32m━━━━━━━━━━━━━━━━━━━━\u001b[0m\u001b[37m\u001b[0m \u001b[1m227s\u001b[0m 2s/step - accuracy: 0.9829 - loss: 0.1353 - val_accuracy: 0.9736 - val_loss: 0.1465\n",
            "Epoch 6/15\n",
            "\u001b[1m109/109\u001b[0m \u001b[32m━━━━━━━━━━━━━━━━━━━━\u001b[0m\u001b[37m\u001b[0m \u001b[1m0s\u001b[0m 2s/step - accuracy: 0.9901 - loss: 0.1189"
          ]
        },
        {
          "name": "stderr",
          "output_type": "stream",
          "text": [
            "WARNING:absl:You are saving your model as an HDF5 file via `model.save()` or `keras.saving.save_model(model)`. This file format is considered legacy. We recommend using instead the native Keras format, e.g. `model.save('my_model.keras')` or `keras.saving.save_model(model, 'my_model.keras')`. \n"
          ]
        },
        {
          "name": "stdout",
          "output_type": "stream",
          "text": [
            "\u001b[1m109/109\u001b[0m \u001b[32m━━━━━━━━━━━━━━━━━━━━\u001b[0m\u001b[37m\u001b[0m \u001b[1m318s\u001b[0m 3s/step - accuracy: 0.9901 - loss: 0.1189 - val_accuracy: 0.9776 - val_loss: 0.1367\n",
            "Epoch 7/15\n",
            "\u001b[1m109/109\u001b[0m \u001b[32m━━━━━━━━━━━━━━━━━━━━\u001b[0m\u001b[37m\u001b[0m \u001b[1m0s\u001b[0m 2s/step - accuracy: 0.9865 - loss: 0.1118"
          ]
        },
        {
          "name": "stderr",
          "output_type": "stream",
          "text": [
            "WARNING:absl:You are saving your model as an HDF5 file via `model.save()` or `keras.saving.save_model(model)`. This file format is considered legacy. We recommend using instead the native Keras format, e.g. `model.save('my_model.keras')` or `keras.saving.save_model(model, 'my_model.keras')`. \n"
          ]
        },
        {
          "name": "stdout",
          "output_type": "stream",
          "text": [
            "\u001b[1m109/109\u001b[0m \u001b[32m━━━━━━━━━━━━━━━━━━━━\u001b[0m\u001b[37m\u001b[0m \u001b[1m310s\u001b[0m 3s/step - accuracy: 0.9865 - loss: 0.1118 - val_accuracy: 0.9845 - val_loss: 0.1132\n",
            "Epoch 8/15\n",
            "\u001b[1m109/109\u001b[0m \u001b[32m━━━━━━━━━━━━━━━━━━━━\u001b[0m\u001b[37m\u001b[0m \u001b[1m282s\u001b[0m 3s/step - accuracy: 0.9941 - loss: 0.1019 - val_accuracy: 0.9667 - val_loss: 0.1511\n",
            "Epoch 9/15\n",
            "\u001b[1m109/109\u001b[0m \u001b[32m━━━━━━━━━━━━━━━━━━━━\u001b[0m\u001b[37m\u001b[0m \u001b[1m280s\u001b[0m 3s/step - accuracy: 0.9892 - loss: 0.0989 - val_accuracy: 0.9759 - val_loss: 0.1193\n",
            "Epoch 10/15\n",
            "\u001b[1m109/109\u001b[0m \u001b[32m━━━━━━━━━━━━━━━━━━━━\u001b[0m\u001b[37m\u001b[0m \u001b[1m301s\u001b[0m 3s/step - accuracy: 0.9912 - loss: 0.0870 - val_accuracy: 0.9765 - val_loss: 0.1218\n",
            "\u001b[1m55/55\u001b[0m \u001b[32m━━━━━━━━━━━━━━━━━━━━\u001b[0m\u001b[37m\u001b[0m \u001b[1m83s\u001b[0m 1s/step - accuracy: 0.9943 - loss: 0.0900\n",
            "Fold 1 Validation Accuracy: 98.45%\n",
            "\n",
            "Training Fold 2/3...\n",
            "\n",
            "\n",
            "Training Labels Preview:\n",
            "                                          filename   class\n",
            "0  D:/Datasets_Final\\train\\Fundus\\000c1434d8d7.png  Fundus\n",
            "1  D:/Datasets_Final\\train\\Fundus\\0024cdab0c1e.png  Fundus\n",
            "2  D:/Datasets_Final\\train\\Fundus\\00cc2b75cddd.png  Fundus\n",
            "3  D:/Datasets_Final\\train\\Fundus\\0124dffecf29.png  Fundus\n",
            "4  D:/Datasets_Final\\train\\Fundus\\0125fbd2e791.png  Fundus\n",
            "\n",
            "Validation Labels Preview:\n",
            "                                          filename   class\n",
            "0  D:/Datasets_Final\\train\\Fundus\\0097f532ac9f.png  Fundus\n",
            "1  D:/Datasets_Final\\train\\Fundus\\00a8624548a9.png  Fundus\n",
            "2  D:/Datasets_Final\\train\\Fundus\\00b74780d31d.png  Fundus\n",
            "3  D:/Datasets_Final\\train\\Fundus\\00f6c1be5a33.png  Fundus\n",
            "4  D:/Datasets_Final\\train\\Fundus\\0104b032c141.png  Fundus\n",
            "Found 3481 validated image filenames belonging to 2 classes.\n",
            "Found 1741 validated image filenames belonging to 2 classes.\n"
          ]
        },
        {
          "name": "stderr",
          "output_type": "stream",
          "text": [
            "C:\\Users\\User\\AppData\\Local\\Packages\\PythonSoftwareFoundation.Python.3.11_qbz5n2kfra8p0\\LocalCache\\local-packages\\Python311\\site-packages\\keras\\src\\layers\\convolutional\\base_conv.py:107: UserWarning: Do not pass an `input_shape`/`input_dim` argument to a layer. When using Sequential models, prefer using an `Input(shape)` object as the first layer in the model instead.\n",
            "  super().__init__(activity_regularizer=activity_regularizer, **kwargs)\n",
            "C:\\Users\\User\\AppData\\Local\\Packages\\PythonSoftwareFoundation.Python.3.11_qbz5n2kfra8p0\\LocalCache\\local-packages\\Python311\\site-packages\\keras\\src\\trainers\\data_adapters\\py_dataset_adapter.py:121: UserWarning: Your `PyDataset` class should call `super().__init__(**kwargs)` in its constructor. `**kwargs` can include `workers`, `use_multiprocessing`, `max_queue_size`. Do not pass these arguments to `fit()`, as they will be ignored.\n",
            "  self._warn_if_super_not_called()\n"
          ]
        },
        {
          "name": "stdout",
          "output_type": "stream",
          "text": [
            "Epoch 1/15\n",
            "\u001b[1m109/109\u001b[0m \u001b[32m━━━━━━━━━━━━━━━━━━━━\u001b[0m\u001b[37m\u001b[0m \u001b[1m0s\u001b[0m 2s/step - accuracy: 0.8326 - loss: 0.5422"
          ]
        },
        {
          "name": "stderr",
          "output_type": "stream",
          "text": [
            "WARNING:absl:You are saving your model as an HDF5 file via `model.save()` or `keras.saving.save_model(model)`. This file format is considered legacy. We recommend using instead the native Keras format, e.g. `model.save('my_model.keras')` or `keras.saving.save_model(model, 'my_model.keras')`. \n"
          ]
        },
        {
          "name": "stdout",
          "output_type": "stream",
          "text": [
            "\u001b[1m109/109\u001b[0m \u001b[32m━━━━━━━━━━━━━━━━━━━━\u001b[0m\u001b[37m\u001b[0m \u001b[1m291s\u001b[0m 3s/step - accuracy: 0.8333 - loss: 0.5406 - val_accuracy: 0.8989 - val_loss: 0.3684\n",
            "Epoch 2/15\n",
            "\u001b[1m109/109\u001b[0m \u001b[32m━━━━━━━━━━━━━━━━━━━━\u001b[0m\u001b[37m\u001b[0m \u001b[1m0s\u001b[0m 2s/step - accuracy: 0.9763 - loss: 0.2166"
          ]
        },
        {
          "name": "stderr",
          "output_type": "stream",
          "text": [
            "WARNING:absl:You are saving your model as an HDF5 file via `model.save()` or `keras.saving.save_model(model)`. This file format is considered legacy. We recommend using instead the native Keras format, e.g. `model.save('my_model.keras')` or `keras.saving.save_model(model, 'my_model.keras')`. \n"
          ]
        },
        {
          "name": "stdout",
          "output_type": "stream",
          "text": [
            "\u001b[1m109/109\u001b[0m \u001b[32m━━━━━━━━━━━━━━━━━━━━\u001b[0m\u001b[37m\u001b[0m \u001b[1m298s\u001b[0m 3s/step - accuracy: 0.9763 - loss: 0.2166 - val_accuracy: 0.9563 - val_loss: 0.2356\n",
            "Epoch 3/15\n",
            "\u001b[1m109/109\u001b[0m \u001b[32m━━━━━━━━━━━━━━━━━━━━\u001b[0m\u001b[37m\u001b[0m \u001b[1m0s\u001b[0m 2s/step - accuracy: 0.9769 - loss: 0.1810"
          ]
        },
        {
          "name": "stderr",
          "output_type": "stream",
          "text": [
            "WARNING:absl:You are saving your model as an HDF5 file via `model.save()` or `keras.saving.save_model(model)`. This file format is considered legacy. We recommend using instead the native Keras format, e.g. `model.save('my_model.keras')` or `keras.saving.save_model(model, 'my_model.keras')`. \n"
          ]
        },
        {
          "name": "stdout",
          "output_type": "stream",
          "text": [
            "\u001b[1m109/109\u001b[0m \u001b[32m━━━━━━━━━━━━━━━━━━━━\u001b[0m\u001b[37m\u001b[0m \u001b[1m312s\u001b[0m 3s/step - accuracy: 0.9769 - loss: 0.1810 - val_accuracy: 0.9575 - val_loss: 0.2166\n",
            "Epoch 4/15\n",
            "\u001b[1m109/109\u001b[0m \u001b[32m━━━━━━━━━━━━━━━━━━━━\u001b[0m\u001b[37m\u001b[0m \u001b[1m297s\u001b[0m 3s/step - accuracy: 0.9780 - loss: 0.1642 - val_accuracy: 0.9495 - val_loss: 0.2389\n",
            "Epoch 5/15\n",
            "\u001b[1m109/109\u001b[0m \u001b[32m━━━━━━━━━━━━━━━━━━━━\u001b[0m\u001b[37m\u001b[0m \u001b[1m0s\u001b[0m 4s/step - accuracy: 0.9855 - loss: 0.1332"
          ]
        },
        {
          "name": "stderr",
          "output_type": "stream",
          "text": [
            "WARNING:absl:You are saving your model as an HDF5 file via `model.save()` or `keras.saving.save_model(model)`. This file format is considered legacy. We recommend using instead the native Keras format, e.g. `model.save('my_model.keras')` or `keras.saving.save_model(model, 'my_model.keras')`. \n"
          ]
        },
        {
          "name": "stdout",
          "output_type": "stream",
          "text": [
            "\u001b[1m109/109\u001b[0m \u001b[32m━━━━━━━━━━━━━━━━━━━━\u001b[0m\u001b[37m\u001b[0m \u001b[1m458s\u001b[0m 4s/step - accuracy: 0.9855 - loss: 0.1332 - val_accuracy: 0.9615 - val_loss: 0.1917\n",
            "Epoch 6/15\n",
            "\u001b[1m109/109\u001b[0m \u001b[32m━━━━━━━━━━━━━━━━━━━━\u001b[0m\u001b[37m\u001b[0m \u001b[1m0s\u001b[0m 2s/step - accuracy: 0.9893 - loss: 0.1182"
          ]
        },
        {
          "name": "stderr",
          "output_type": "stream",
          "text": [
            "WARNING:absl:You are saving your model as an HDF5 file via `model.save()` or `keras.saving.save_model(model)`. This file format is considered legacy. We recommend using instead the native Keras format, e.g. `model.save('my_model.keras')` or `keras.saving.save_model(model, 'my_model.keras')`. \n"
          ]
        },
        {
          "name": "stdout",
          "output_type": "stream",
          "text": [
            "\u001b[1m109/109\u001b[0m \u001b[32m━━━━━━━━━━━━━━━━━━━━\u001b[0m\u001b[37m\u001b[0m \u001b[1m282s\u001b[0m 3s/step - accuracy: 0.9893 - loss: 0.1182 - val_accuracy: 0.9650 - val_loss: 0.1784\n",
            "Epoch 7/15\n",
            "\u001b[1m109/109\u001b[0m \u001b[32m━━━━━━━━━━━━━━━━━━━━\u001b[0m\u001b[37m\u001b[0m \u001b[1m264s\u001b[0m 2s/step - accuracy: 0.9882 - loss: 0.1095 - val_accuracy: 0.9345 - val_loss: 0.2429\n",
            "Epoch 8/15\n",
            "\u001b[1m109/109\u001b[0m \u001b[32m━━━━━━━━━━━━━━━━━━━━\u001b[0m\u001b[37m\u001b[0m \u001b[1m203s\u001b[0m 2s/step - accuracy: 0.9928 - loss: 0.0975 - val_accuracy: 0.9638 - val_loss: 0.1830\n",
            "Epoch 9/15\n",
            "\u001b[1m109/109\u001b[0m \u001b[32m━━━━━━━━━━━━━━━━━━━━\u001b[0m\u001b[37m\u001b[0m \u001b[1m238s\u001b[0m 2s/step - accuracy: 0.9925 - loss: 0.0965 - val_accuracy: 0.9449 - val_loss: 0.2079\n",
            "\u001b[1m55/55\u001b[0m \u001b[32m━━━━━━━━━━━━━━━━━━━━\u001b[0m\u001b[37m\u001b[0m \u001b[1m84s\u001b[0m 2s/step - accuracy: 0.9868 - loss: 0.1179\n",
            "Fold 2 Validation Accuracy: 96.50%\n",
            "\n",
            "Training Fold 3/3...\n",
            "\n",
            "\n",
            "Training Labels Preview:\n",
            "                                          filename   class\n",
            "0  D:/Datasets_Final\\train\\Fundus\\000c1434d8d7.png  Fundus\n",
            "1  D:/Datasets_Final\\train\\Fundus\\0097f532ac9f.png  Fundus\n",
            "2  D:/Datasets_Final\\train\\Fundus\\00a8624548a9.png  Fundus\n",
            "3  D:/Datasets_Final\\train\\Fundus\\00b74780d31d.png  Fundus\n",
            "4  D:/Datasets_Final\\train\\Fundus\\00cc2b75cddd.png  Fundus\n",
            "\n",
            "Validation Labels Preview:\n",
            "                                          filename   class\n",
            "0  D:/Datasets_Final\\train\\Fundus\\0024cdab0c1e.png  Fundus\n",
            "1  D:/Datasets_Final\\train\\Fundus\\0125fbd2e791.png  Fundus\n",
            "2  D:/Datasets_Final\\train\\Fundus\\014508ccb9cb.png  Fundus\n",
            "3  D:/Datasets_Final\\train\\Fundus\\01d9477b1171.png  Fundus\n",
            "4  D:/Datasets_Final\\train\\Fundus\\01eb826f6467.png  Fundus\n",
            "Found 3482 validated image filenames belonging to 2 classes.\n",
            "Found 1740 validated image filenames belonging to 2 classes.\n"
          ]
        },
        {
          "name": "stderr",
          "output_type": "stream",
          "text": [
            "C:\\Users\\User\\AppData\\Local\\Packages\\PythonSoftwareFoundation.Python.3.11_qbz5n2kfra8p0\\LocalCache\\local-packages\\Python311\\site-packages\\keras\\src\\layers\\convolutional\\base_conv.py:107: UserWarning: Do not pass an `input_shape`/`input_dim` argument to a layer. When using Sequential models, prefer using an `Input(shape)` object as the first layer in the model instead.\n",
            "  super().__init__(activity_regularizer=activity_regularizer, **kwargs)\n",
            "C:\\Users\\User\\AppData\\Local\\Packages\\PythonSoftwareFoundation.Python.3.11_qbz5n2kfra8p0\\LocalCache\\local-packages\\Python311\\site-packages\\keras\\src\\trainers\\data_adapters\\py_dataset_adapter.py:121: UserWarning: Your `PyDataset` class should call `super().__init__(**kwargs)` in its constructor. `**kwargs` can include `workers`, `use_multiprocessing`, `max_queue_size`. Do not pass these arguments to `fit()`, as they will be ignored.\n",
            "  self._warn_if_super_not_called()\n"
          ]
        },
        {
          "name": "stdout",
          "output_type": "stream",
          "text": [
            "Epoch 1/15\n",
            "\u001b[1m109/109\u001b[0m \u001b[32m━━━━━━━━━━━━━━━━━━━━\u001b[0m\u001b[37m\u001b[0m \u001b[1m0s\u001b[0m 2s/step - accuracy: 0.9127 - loss: 0.3726"
          ]
        },
        {
          "name": "stderr",
          "output_type": "stream",
          "text": [
            "WARNING:absl:You are saving your model as an HDF5 file via `model.save()` or `keras.saving.save_model(model)`. This file format is considered legacy. We recommend using instead the native Keras format, e.g. `model.save('my_model.keras')` or `keras.saving.save_model(model, 'my_model.keras')`. \n"
          ]
        },
        {
          "name": "stdout",
          "output_type": "stream",
          "text": [
            "\u001b[1m109/109\u001b[0m \u001b[32m━━━━━━━━━━━━━━━━━━━━\u001b[0m\u001b[37m\u001b[0m \u001b[1m319s\u001b[0m 3s/step - accuracy: 0.9130 - loss: 0.3717 - val_accuracy: 0.9707 - val_loss: 0.2101\n",
            "Epoch 2/15\n",
            "\u001b[1m109/109\u001b[0m \u001b[32m━━━━━━━━━━━━━━━━━━━━\u001b[0m\u001b[37m\u001b[0m \u001b[1m0s\u001b[0m 2s/step - accuracy: 0.9761 - loss: 0.1801"
          ]
        },
        {
          "name": "stderr",
          "output_type": "stream",
          "text": [
            "WARNING:absl:You are saving your model as an HDF5 file via `model.save()` or `keras.saving.save_model(model)`. This file format is considered legacy. We recommend using instead the native Keras format, e.g. `model.save('my_model.keras')` or `keras.saving.save_model(model, 'my_model.keras')`. \n"
          ]
        },
        {
          "name": "stdout",
          "output_type": "stream",
          "text": [
            "\u001b[1m109/109\u001b[0m \u001b[32m━━━━━━━━━━━━━━━━━━━━\u001b[0m\u001b[37m\u001b[0m \u001b[1m300s\u001b[0m 3s/step - accuracy: 0.9761 - loss: 0.1800 - val_accuracy: 0.9747 - val_loss: 0.1771\n",
            "Epoch 3/15\n",
            "\u001b[1m109/109\u001b[0m \u001b[32m━━━━━━━━━━━━━━━━━━━━\u001b[0m\u001b[37m\u001b[0m \u001b[1m0s\u001b[0m 2s/step - accuracy: 0.9827 - loss: 0.1421"
          ]
        },
        {
          "name": "stderr",
          "output_type": "stream",
          "text": [
            "WARNING:absl:You are saving your model as an HDF5 file via `model.save()` or `keras.saving.save_model(model)`. This file format is considered legacy. We recommend using instead the native Keras format, e.g. `model.save('my_model.keras')` or `keras.saving.save_model(model, 'my_model.keras')`. \n"
          ]
        },
        {
          "name": "stdout",
          "output_type": "stream",
          "text": [
            "\u001b[1m109/109\u001b[0m \u001b[32m━━━━━━━━━━━━━━━━━━━━\u001b[0m\u001b[37m\u001b[0m \u001b[1m327s\u001b[0m 3s/step - accuracy: 0.9827 - loss: 0.1420 - val_accuracy: 0.9770 - val_loss: 0.1588\n",
            "Epoch 4/15\n",
            "\u001b[1m109/109\u001b[0m \u001b[32m━━━━━━━━━━━━━━━━━━━━\u001b[0m\u001b[37m\u001b[0m \u001b[1m289s\u001b[0m 3s/step - accuracy: 0.9904 - loss: 0.1103 - val_accuracy: 0.9747 - val_loss: 0.1560\n",
            "Epoch 5/15\n",
            "\u001b[1m109/109\u001b[0m \u001b[32m━━━━━━━━━━━━━━━━━━━━\u001b[0m\u001b[37m\u001b[0m \u001b[1m0s\u001b[0m 2s/step - accuracy: 0.9892 - loss: 0.1079"
          ]
        },
        {
          "name": "stderr",
          "output_type": "stream",
          "text": [
            "WARNING:absl:You are saving your model as an HDF5 file via `model.save()` or `keras.saving.save_model(model)`. This file format is considered legacy. We recommend using instead the native Keras format, e.g. `model.save('my_model.keras')` or `keras.saving.save_model(model, 'my_model.keras')`. \n"
          ]
        },
        {
          "name": "stdout",
          "output_type": "stream",
          "text": [
            "\u001b[1m109/109\u001b[0m \u001b[32m━━━━━━━━━━━━━━━━━━━━\u001b[0m\u001b[37m\u001b[0m \u001b[1m266s\u001b[0m 2s/step - accuracy: 0.9892 - loss: 0.1078 - val_accuracy: 0.9799 - val_loss: 0.1340\n",
            "Epoch 6/15\n",
            "\u001b[1m109/109\u001b[0m \u001b[32m━━━━━━━━━━━━━━━━━━━━\u001b[0m\u001b[37m\u001b[0m \u001b[1m212s\u001b[0m 2s/step - accuracy: 0.9896 - loss: 0.1037 - val_accuracy: 0.9753 - val_loss: 0.1433\n",
            "Epoch 7/15\n",
            "\u001b[1m109/109\u001b[0m \u001b[32m━━━━━━━━━━━━━━━━━━━━\u001b[0m\u001b[37m\u001b[0m \u001b[1m211s\u001b[0m 2s/step - accuracy: 0.9946 - loss: 0.0819 - val_accuracy: 0.9799 - val_loss: 0.1237\n",
            "Epoch 8/15\n",
            "\u001b[1m109/109\u001b[0m \u001b[32m━━━━━━━━━━━━━━━━━━━━\u001b[0m\u001b[37m\u001b[0m \u001b[1m0s\u001b[0m 1s/step - accuracy: 0.9945 - loss: 0.0754"
          ]
        },
        {
          "name": "stderr",
          "output_type": "stream",
          "text": [
            "WARNING:absl:You are saving your model as an HDF5 file via `model.save()` or `keras.saving.save_model(model)`. This file format is considered legacy. We recommend using instead the native Keras format, e.g. `model.save('my_model.keras')` or `keras.saving.save_model(model, 'my_model.keras')`. \n"
          ]
        },
        {
          "name": "stdout",
          "output_type": "stream",
          "text": [
            "\u001b[1m109/109\u001b[0m \u001b[32m━━━━━━━━━━━━━━━━━━━━\u001b[0m\u001b[37m\u001b[0m \u001b[1m247s\u001b[0m 2s/step - accuracy: 0.9945 - loss: 0.0755 - val_accuracy: 0.9816 - val_loss: 0.1123\n",
            "Epoch 9/15\n",
            "\u001b[1m109/109\u001b[0m \u001b[32m━━━━━━━━━━━━━━━━━━━━\u001b[0m\u001b[37m\u001b[0m \u001b[1m318s\u001b[0m 3s/step - accuracy: 0.9920 - loss: 0.0771 - val_accuracy: 0.9793 - val_loss: 0.1148\n",
            "Epoch 10/15\n",
            "\u001b[1m109/109\u001b[0m \u001b[32m━━━━━━━━━━━━━━━━━━━━\u001b[0m\u001b[37m\u001b[0m \u001b[1m288s\u001b[0m 3s/step - accuracy: 0.9940 - loss: 0.0678 - val_accuracy: 0.9787 - val_loss: 0.1235\n",
            "Epoch 11/15\n",
            "\u001b[1m109/109\u001b[0m \u001b[32m━━━━━━━━━━━━━━━━━━━━\u001b[0m\u001b[37m\u001b[0m \u001b[1m287s\u001b[0m 3s/step - accuracy: 0.9954 - loss: 0.0638 - val_accuracy: 0.9810 - val_loss: 0.1030\n",
            "Epoch 12/15\n",
            "\u001b[1m109/109\u001b[0m \u001b[32m━━━━━━━━━━━━━━━━━━━━\u001b[0m\u001b[37m\u001b[0m \u001b[1m0s\u001b[0m 2s/step - accuracy: 0.9956 - loss: 0.0616"
          ]
        },
        {
          "name": "stderr",
          "output_type": "stream",
          "text": [
            "WARNING:absl:You are saving your model as an HDF5 file via `model.save()` or `keras.saving.save_model(model)`. This file format is considered legacy. We recommend using instead the native Keras format, e.g. `model.save('my_model.keras')` or `keras.saving.save_model(model, 'my_model.keras')`. \n"
          ]
        },
        {
          "name": "stdout",
          "output_type": "stream",
          "text": [
            "\u001b[1m109/109\u001b[0m \u001b[32m━━━━━━━━━━━━━━━━━━━━\u001b[0m\u001b[37m\u001b[0m \u001b[1m325s\u001b[0m 3s/step - accuracy: 0.9956 - loss: 0.0617 - val_accuracy: 0.9862 - val_loss: 0.0854\n",
            "Epoch 13/15\n",
            "\u001b[1m109/109\u001b[0m \u001b[32m━━━━━━━━━━━━━━━━━━━━\u001b[0m\u001b[37m\u001b[0m \u001b[1m214s\u001b[0m 2s/step - accuracy: 0.9959 - loss: 0.0607 - val_accuracy: 0.9856 - val_loss: 0.0867\n",
            "Epoch 14/15\n",
            "\u001b[1m109/109\u001b[0m \u001b[32m━━━━━━━━━━━━━━━━━━━━\u001b[0m\u001b[37m\u001b[0m \u001b[1m212s\u001b[0m 2s/step - accuracy: 0.9926 - loss: 0.0650 - val_accuracy: 0.9810 - val_loss: 0.1089\n",
            "Epoch 15/15\n",
            "\u001b[1m109/109\u001b[0m \u001b[32m━━━━━━━━━━━━━━━━━━━━\u001b[0m\u001b[37m\u001b[0m \u001b[1m255s\u001b[0m 2s/step - accuracy: 0.9967 - loss: 0.0568 - val_accuracy: 0.9845 - val_loss: 0.0972\n",
            "\u001b[1m55/55\u001b[0m \u001b[32m━━━━━━━━━━━━━━━━━━━━\u001b[0m\u001b[37m\u001b[0m \u001b[1m83s\u001b[0m 1s/step - accuracy: 0.9936 - loss: 0.0650\n",
            "Fold 3 Validation Accuracy: 98.62%\n",
            "\n",
            "Final Cross-Validated Accuracy: 97.86%\n"
          ]
        },
        {
          "data": {
            "image/png": "[encoded data removed]",
            "text/plain": [
              "<Figure size 640x480 with 1 Axes>"
            ]
          },
          "metadata": {},
          "output_type": "display_data"
        },
        {
          "name": "stderr",
          "output_type": "stream",
          "text": [
            "WARNING:absl:Compiled the loaded model, but the compiled metrics have yet to be built. `model.compile_metrics` will be empty until you train or evaluate the model.\n"
          ]
        },
        {
          "name": "stdout",
          "output_type": "stream",
          "text": [
            "Found 748 images belonging to 2 classes.\n",
            "\u001b[1m24/24\u001b[0m \u001b[32m━━━━━━━━━━━━━━━━━━━━\u001b[0m\u001b[37m\u001b[0m \u001b[1m34s\u001b[0m 1s/step\n"
          ]
        },
        {
          "data": {
            "image/png": "[encoded data removed]",
            "text/plain": [
              "<Figure size 600x500 with 2 Axes>"
            ]
          },
          "metadata": {},
          "output_type": "display_data"
        },
        {
          "name": "stderr",
          "output_type": "stream",
          "text": [
            "WARNING:absl:You are saving your model as an HDF5 file via `model.save()` or `keras.saving.save_model(model)`. This file format is considered legacy. We recommend using instead the native Keras format, e.g. `model.save('my_model.keras')` or `keras.saving.save_model(model, 'my_model.keras')`. \n"
          ]
        },
        {
          "name": "stdout",
          "output_type": "stream",
          "text": [
            "\n",
            "Final Classification Report:\n",
            "              precision    recall  f1-score   support\n",
            "\n",
            "  Non-Fundus       0.99      1.00      1.00       407\n",
            "      Fundus       1.00      0.99      0.99       341\n",
            "\n",
            "    accuracy                           0.99       748\n",
            "   macro avg       1.00      0.99      0.99       748\n",
            "weighted avg       0.99      0.99      0.99       748\n",
            "\n",
            "\n",
            "Model saved at: D:/cnn_model_fundus.h5\n"
          ]
        }
      ],
      "source": [
        "import os\n",
        "import numpy as np\n",
        "import pandas as pd\n",
        "import tensorflow as tf\n",
        "import matplotlib.pyplot as plt\n",
        "import seaborn as sns\n",
        "from PIL import Image\n",
        "from sklearn.model_selection import StratifiedKFold\n",
        "from sklearn.metrics import classification_report, confusion_matrix\n",
        "from tensorflow.keras.preprocessing.image import ImageDataGenerator\n",
        "from tensorflow.keras.models import Sequential\n",
        "from tensorflow.keras.layers import Conv2D, MaxPooling2D, Flatten, Dense, Dropout, BatchNormalization\n",
        "from tensorflow.keras.optimizers import Adam\n",
        "from tensorflow.keras.regularizers import l2\n",
        "from tensorflow.keras.callbacks import EarlyStopping, ModelCheckpoint\n",
        "\n",
        "# Paths\n",
        "dataset_path = \"D:/Datasets_Retina\"\n",
        "final_dataset_path = \"D:/Datasets_Final\"\n",
        "model_save_path = \"D:/saved_model_fundus.h5\"\n",
        "\n",
        "# Image Parameters\n",
        "IMG_SIZE = (224, 224)\n",
        "BATCH_SIZE = 32\n",
        "K_FOLDS = 3  \n",
        "\n",
        "# Function for Image Preprocessing\n",
        "def preprocess_image(img_path):\n",
        "    try:\n",
        "        img = Image.open(img_path).convert(\"RGB\")\n",
        "        img = img.resize(IMG_SIZE)\n",
        "        img = np.array(img) / 255.0\n",
        "        return img\n",
        "    except Exception as e:\n",
        "        print(f\"Error processing {img_path}: {e}\")\n",
        "        return None\n",
        "\n",
        "# Load Data\n",
        "all_images = []\n",
        "all_labels = []\n",
        "\n",
        "for cls in os.listdir(os.path.join(final_dataset_path, \"train\")):\n",
        "    class_path = os.path.join(final_dataset_path, \"train\", cls)\n",
        "    label = 1 if cls == \"Fundus\" else 0\n",
        "    for img_name in os.listdir(class_path):\n",
        "        img_path = os.path.join(class_path, img_name)\n",
        "        processed_img = preprocess_image(img_path)\n",
        "        if processed_img is not None:\n",
        "            all_images.append(img_path)\n",
        "            all_labels.append(label)\n",
        "\n",
        "all_images = np.array(all_images)\n",
        "all_labels = np.array(all_labels)\n",
        "\n",
        "# Stratified K-Fold Cross-Validation\n",
        "skf = StratifiedKFold(n_splits=K_FOLDS, shuffle=True, random_state=42)\n",
        "fold_accuracies = []\n",
        "history_list = []\n",
        "\n",
        "for fold, (train_idx, val_idx) in enumerate(skf.split(all_images, all_labels)):\n",
        "    print(f\"\\nTraining Fold {fold + 1}/{K_FOLDS}...\\n\")\n",
        "\n",
        "    train_images, val_images = all_images[train_idx], all_images[val_idx]\n",
        "    train_labels, val_labels = all_labels[train_idx], all_labels[val_idx]\n",
        "\n",
        "    train_df = pd.DataFrame({\"filename\": train_images, \"class\": [ \"Fundus\" if lbl == 1 else \"Non-Fundus\" for lbl in train_labels]})\n",
        "    val_df = pd.DataFrame({\"filename\": val_images, \"class\": [ \"Fundus\" if lbl == 1 else \"Non-Fundus\" for lbl in val_labels]})\n",
        "\n",
        "    # Data Augmentation\n",
        "    train_datagen = ImageDataGenerator(\n",
        "    rescale=1./255,\n",
        "    rotation_range=20,   # Increased\n",
        "    width_shift_range=0.2,\n",
        "    height_shift_range=0.2,\n",
        "    horizontal_flip=True,\n",
        "    zoom_range=0.3,      # Added\n",
        "    shear_range=0.2 \n",
        "    val_datagen = ImageDataGenerator(rescale=1./255)\n",
        "\n",
        "    train_generator = train_datagen.flow_from_dataframe(train_df, x_col=\"filename\", y_col=\"class\", target_size=IMG_SIZE, batch_size=BATCH_SIZE, class_mode=\"binary\", shuffle=True)\n",
        "    val_generator = val_datagen.flow_from_dataframe(val_df, x_col=\"filename\", y_col=\"class\", target_size=IMG_SIZE, batch_size=BATCH_SIZE, class_mode=\"binary\", shuffle=False)\n",
        "\n",
        "    # Simplified CNN Model\n",
        "    model = Sequential([\n",
        "        Conv2D(32, (3, 3), activation='relu', kernel_regularizer=l2(0.0005), input_shape=(224, 224, 3)),\n",
        "        MaxPooling2D(2, 2),\n",
        "        Dropout(0.2),\n",
        "\n",
        "        Conv2D(64, (3, 3), activation='relu', kernel_regularizer=l2(0.0005)),\n",
        "        MaxPooling2D(2, 2),\n",
        "        Dropout(0.3),\n",
        "\n",
        "        Flatten(),\n",
        "        Dense(128, activation='relu', kernel_regularizer=l2(0.0005)),\n",
        "        Dropout(0.3),\n",
        "\n",
        "        Dense(1, activation='sigmoid')\n",
        "    ])\n",
        "\n",
        "    model.compile(optimizer=Adam(learning_rate=0.0001), loss='binary_crossentropy', metrics=['accuracy'])\n",
        "\n",
        "    # Callbacks\n",
        "    early_stopping = EarlyStopping(monitor='val_loss', patience=3, restore_best_weights=True)\n",
        "    checkpoint = ModelCheckpoint(model_save_path, monitor='val_accuracy', save_best_only=True, mode='max')\n",
        "\n",
        "    # Train Model\n",
        "    history = model.fit(train_generator, validation_data=val_generator, epochs=15, callbacks=[early_stopping, checkpoint])\n",
        "    history_list.append(history)\n",
        "\n",
        "    # Evaluate Model\n",
        "    val_loss, val_accuracy = model.evaluate(val_generator)\n",
        "    fold_accuracies.append(val_accuracy * 100)\n",
        "    print(f\"Fold {fold+1} Validation Accuracy: {val_accuracy * 100:.2f}%\")\n",
        "\n",
        "# Final Accuracy\n",
        "final_accuracy = np.mean(fold_accuracies)\n",
        "print(f\"\\nFinal Cross-Validated Accuracy: {final_accuracy:.2f}%\")\n",
        "\n",
        "# Visualization - Accuracy and Loss\n",
        "plt.figure()\n",
        "for i, history in enumerate(history_list):\n",
        "    plt.plot(history.history['accuracy'], label=f'Train Fold {i+1}')\n",
        "    plt.plot(history.history['val_accuracy'], label=f'Val Fold {i+1}')\n",
        "plt.title('Training & Validation Accuracy')\n",
        "plt.xlabel('Epochs')\n",
        "plt.ylabel('Accuracy')\n",
        "plt.legend()\n",
        "plt.show()\n",
        "\n",
        "# Load Best Model and Evaluate on Test Set\n",
        "best_model = tf.keras.models.load_model(model_save_path)\n",
        "test_generator = val_datagen.flow_from_directory(os.path.join(final_dataset_path, \"test\"), target_size=IMG_SIZE, batch_size=BATCH_SIZE, class_mode=\"binary\", shuffle=False)\n",
        "y_true = test_generator.classes\n",
        "y_pred = (best_model.predict(test_generator) > 0.5).astype(int)\n",
        "\n",
        "# Confusion Matrix Heatmap\n",
        "cm = confusion_matrix(y_true, y_pred)\n",
        "plt.figure(figsize=(6, 5))\n",
        "sns.heatmap(cm, annot=True, fmt='d', cmap='Blues', xticklabels=[\"Non-Fundus\", \"Fundus\"], yticklabels=[\"Non-Fundus\", \"Fundus\"])\n",
        "plt.xlabel(\"Predicted Label\")\n",
        "plt.ylabel(\"True Label\")\n",
        "plt.title(\"Confusion Matrix\")\n",
        "plt.show()\n",
        "\n",
        "# Classification Report\n",
        "print(\"\\nFinal Classification Report:\")\n",
        "print(classification_report(y_true, y_pred, target_names=[\"Non-Fundus\", \"Fundus\"]))\n",
        "\n",
        "# Save Model\n",
        "best_model.save(model_save_path)\n",
        "print(f\"\\nModel saved at: {model_save_path}\")\n"
      ]
    }
  ],
  "metadata": {
    "colab": {
      "authorship_tag": "ABX9TyPidfDTkuK6fCqJFTRmVsB5",
      "include_colab_link": true,
      "provenance": []
    },
    "kernelspec": {
      "display_name": "Python 3",
      "name": "python3"
    },
    "language_info": {
      "codemirror_mode": {
        "name": "ipython",
        "version": 3
      },
      "file_extension": ".py",
      "mimetype": "text/x-python",
      "name": "python",
      "nbconvert_exporter": "python",
      "pygments_lexer": "ipython3",
      "version": "3.11.9"
    }
  },
  "nbformat": 4,
  "nbformat_minor": 0
}
