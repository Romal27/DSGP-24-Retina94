{
  "nbformat": 4,
  "nbformat_minor": 0,
  "metadata": {
    "colab": {
      "provenance": [],
      "authorship_tag": "ABX9TyNnSh6TqUDKpcZ0OnpjIyGe",
      "include_colab_link": true
    },
    "kernelspec": {
      "name": "python3",
      "display_name": "Python 3"
    },
    "language_info": {
      "name": "python"
    }
  },
  "cells": [
    {
      "cell_type": "markdown",
      "metadata": {
        "id": "view-in-github",
        "colab_type": "text"
      },
      "source": [
        "<a href=\"https://colab.research.google.com/github/Romal27/DSGP-24-Retina94/blob/component-1/Pretrained.ipynb\" target=\"_parent\"><img src=\"https://colab.research.google.com/assets/colab-badge.svg\" alt=\"Open In Colab\"/></a>"
      ]
    },
    {
      "cell_type": "code",
      "execution_count": 1,
      "metadata": {
        "id": "V7wVDUHeUOij"
      },
      "outputs": [],
      "source": [
        "import cv2\n",
        "import numpy as np\n",
        "from skimage.feature import hog\n",
        "from tensorflow.keras.applications import VGG16\n",
        "from tensorflow.keras.applications.vgg16 import preprocess_input\n",
        "from tensorflow.keras.models import Model\n",
        "\n"
      ]
    },
    {
      "cell_type": "markdown",
      "source": [
        "cv2 - library used for image processing (OpenCV)\n",
        "numpy - numerical computation\n",
        "hog - histogram of oriented gradient - for texture and shape detection\n",
        "VGG16 and preprocess_input - pre trained model and its preprocessing function for extracting features\n",
        "Model - Keras object to create a feature extraction model from VGG16"
      ],
      "metadata": {
        "id": "aDoMJwavYGhY"
      }
    },
    {
      "cell_type": "code",
      "source": [
        "from google.colab import files\n",
        "\n",
        "uploaded = files.upload()\n",
        "image_paths = list(uploaded.keys())\n"
      ],
      "metadata": {
        "colab": {
          "base_uri": "https://localhost:8080/",
          "height": 73
        },
        "id": "5wynSrj1UU1L",
        "outputId": "a7307d39-7ad0-4d30-e717-3ea8a5c5b2e3"
      },
      "execution_count": null,
      "outputs": [
        {
          "output_type": "display_data",
          "data": {
            "text/plain": [
              "<IPython.core.display.HTML object>"
            ],
            "text/html": [
              "\n",
              "     <input type=\"file\" id=\"files-ce8a7e66-b90e-4b57-b557-ac66fbc34929\" name=\"files[]\" multiple disabled\n",
              "        style=\"border:none\" />\n",
              "     <output id=\"result-ce8a7e66-b90e-4b57-b557-ac66fbc34929\">\n",
              "      Upload widget is only available when the cell has been executed in the\n",
              "      current browser session. Please rerun this cell to enable.\n",
              "      </output>\n",
              "      <script>// Copyright 2017 Google LLC\n",
              "//\n",
              "// Licensed under the Apache License, Version 2.0 (the \"License\");\n",
              "// you may not use this file except in compliance with the License.\n",
              "// You may obtain a copy of the License at\n",
              "//\n",
              "//      http://www.apache.org/licenses/LICENSE-2.0\n",
              "//\n",
              "// Unless required by applicable law or agreed to in writing, software\n",
              "// distributed under the License is distributed on an \"AS IS\" BASIS,\n",
              "// WITHOUT WARRANTIES OR CONDITIONS OF ANY KIND, either express or implied.\n",
              "// See the License for the specific language governing permissions and\n",
              "// limitations under the License.\n",
              "\n",
              "/**\n",
              " * @fileoverview Helpers for google.colab Python module.\n",
              " */\n",
              "(function(scope) {\n",
              "function span(text, styleAttributes = {}) {\n",
              "  const element = document.createElement('span');\n",
              "  element.textContent = text;\n",
              "  for (const key of Object.keys(styleAttributes)) {\n",
              "    element.style[key] = styleAttributes[key];\n",
              "  }\n",
              "  return element;\n",
              "}\n",
              "\n",
              "// Max number of bytes which will be uploaded at a time.\n",
              "const MAX_PAYLOAD_SIZE = 100 * 1024;\n",
              "\n",
              "function _uploadFiles(inputId, outputId) {\n",
              "  const steps = uploadFilesStep(inputId, outputId);\n",
              "  const outputElement = document.getElementById(outputId);\n",
              "  // Cache steps on the outputElement to make it available for the next call\n",
              "  // to uploadFilesContinue from Python.\n",
              "  outputElement.steps = steps;\n",
              "\n",
              "  return _uploadFilesContinue(outputId);\n",
              "}\n",
              "\n",
              "// This is roughly an async generator (not supported in the browser yet),\n",
              "// where there are multiple asynchronous steps and the Python side is going\n",
              "// to poll for completion of each step.\n",
              "// This uses a Promise to block the python side on completion of each step,\n",
              "// then passes the result of the previous step as the input to the next step.\n",
              "function _uploadFilesContinue(outputId) {\n",
              "  const outputElement = document.getElementById(outputId);\n",
              "  const steps = outputElement.steps;\n",
              "\n",
              "  const next = steps.next(outputElement.lastPromiseValue);\n",
              "  return Promise.resolve(next.value.promise).then((value) => {\n",
              "    // Cache the last promise value to make it available to the next\n",
              "    // step of the generator.\n",
              "    outputElement.lastPromiseValue = value;\n",
              "    return next.value.response;\n",
              "  });\n",
              "}\n",
              "\n",
              "/**\n",
              " * Generator function which is called between each async step of the upload\n",
              " * process.\n",
              " * @param {string} inputId Element ID of the input file picker element.\n",
              " * @param {string} outputId Element ID of the output display.\n",
              " * @return {!Iterable<!Object>} Iterable of next steps.\n",
              " */\n",
              "function* uploadFilesStep(inputId, outputId) {\n",
              "  const inputElement = document.getElementById(inputId);\n",
              "  inputElement.disabled = false;\n",
              "\n",
              "  const outputElement = document.getElementById(outputId);\n",
              "  outputElement.innerHTML = '';\n",
              "\n",
              "  const pickedPromise = new Promise((resolve) => {\n",
              "    inputElement.addEventListener('change', (e) => {\n",
              "      resolve(e.target.files);\n",
              "    });\n",
              "  });\n",
              "\n",
              "  const cancel = document.createElement('button');\n",
              "  inputElement.parentElement.appendChild(cancel);\n",
              "  cancel.textContent = 'Cancel upload';\n",
              "  const cancelPromise = new Promise((resolve) => {\n",
              "    cancel.onclick = () => {\n",
              "      resolve(null);\n",
              "    };\n",
              "  });\n",
              "\n",
              "  // Wait for the user to pick the files.\n",
              "  const files = yield {\n",
              "    promise: Promise.race([pickedPromise, cancelPromise]),\n",
              "    response: {\n",
              "      action: 'starting',\n",
              "    }\n",
              "  };\n",
              "\n",
              "  cancel.remove();\n",
              "\n",
              "  // Disable the input element since further picks are not allowed.\n",
              "  inputElement.disabled = true;\n",
              "\n",
              "  if (!files) {\n",
              "    return {\n",
              "      response: {\n",
              "        action: 'complete',\n",
              "      }\n",
              "    };\n",
              "  }\n",
              "\n",
              "  for (const file of files) {\n",
              "    const li = document.createElement('li');\n",
              "    li.append(span(file.name, {fontWeight: 'bold'}));\n",
              "    li.append(span(\n",
              "        `(${file.type || 'n/a'}) - ${file.size} bytes, ` +\n",
              "        `last modified: ${\n",
              "            file.lastModifiedDate ? file.lastModifiedDate.toLocaleDateString() :\n",
              "                                    'n/a'} - `));\n",
              "    const percent = span('0% done');\n",
              "    li.appendChild(percent);\n",
              "\n",
              "    outputElement.appendChild(li);\n",
              "\n",
              "    const fileDataPromise = new Promise((resolve) => {\n",
              "      const reader = new FileReader();\n",
              "      reader.onload = (e) => {\n",
              "        resolve(e.target.result);\n",
              "      };\n",
              "      reader.readAsArrayBuffer(file);\n",
              "    });\n",
              "    // Wait for the data to be ready.\n",
              "    let fileData = yield {\n",
              "      promise: fileDataPromise,\n",
              "      response: {\n",
              "        action: 'continue',\n",
              "      }\n",
              "    };\n",
              "\n",
              "    // Use a chunked sending to avoid message size limits. See b/62115660.\n",
              "    let position = 0;\n",
              "    do {\n",
              "      const length = Math.min(fileData.byteLength - position, MAX_PAYLOAD_SIZE);\n",
              "      const chunk = new Uint8Array(fileData, position, length);\n",
              "      position += length;\n",
              "\n",
              "      const base64 = btoa(String.fromCharCode.apply(null, chunk));\n",
              "      yield {\n",
              "        response: {\n",
              "          action: 'append',\n",
              "          file: file.name,\n",
              "          data: base64,\n",
              "        },\n",
              "      };\n",
              "\n",
              "      let percentDone = fileData.byteLength === 0 ?\n",
              "          100 :\n",
              "          Math.round((position / fileData.byteLength) * 100);\n",
              "      percent.textContent = `${percentDone}% done`;\n",
              "\n",
              "    } while (position < fileData.byteLength);\n",
              "  }\n",
              "\n",
              "  // All done.\n",
              "  yield {\n",
              "    response: {\n",
              "      action: 'complete',\n",
              "    }\n",
              "  };\n",
              "}\n",
              "\n",
              "scope.google = scope.google || {};\n",
              "scope.google.colab = scope.google.colab || {};\n",
              "scope.google.colab._files = {\n",
              "  _uploadFiles,\n",
              "  _uploadFilesContinue,\n",
              "};\n",
              "})(self);\n",
              "</script> "
            ]
          },
          "metadata": {}
        },
        {
          "output_type": "stream",
          "name": "stdout",
          "text": [
            "Saving orange circle.jpg to orange circle.jpg\n"
          ]
        }
      ]
    },
    {
      "cell_type": "code",
      "source": [
        "def preprocess_image(image_path, target_size=(224, 224)):\n",
        "\n",
        "    image = cv2.imread(image_path)\n",
        "\n",
        "    image_resized = cv2.resize(image, target_size)\n",
        "\n",
        "    image_normalized = image_resized / 255.0\n",
        "    return image_normalized\n"
      ],
      "metadata": {
        "id": "uIUvZrnGUZFv"
      },
      "execution_count": null,
      "outputs": []
    },
    {
      "cell_type": "markdown",
      "source": [
        "Load the image from path\n",
        "224x224 is the required size for VGG16\n",
        "Pixel value is normalize to fit in with the neural network\n",
        "(Here this preprocessing is done for the image to fit in with the requirement of VGG16)"
      ],
      "metadata": {
        "id": "0smU_s_MZDFB"
      }
    },
    {
      "cell_type": "code",
      "source": [
        "def extract_hog_features(image_path):\n",
        "\n",
        "\n",
        "    image = cv2.imread(image_path, cv2.IMREAD_GRAYSCALE)  # Load image as grayscale\n",
        "    if image is None:\n",
        "        raise ValueError(f\"Could not read the image from {image_path}\")\n",
        "\n",
        "\n",
        "    image_resized = cv2.resize(image, (128, 128))  # Resize to 128x128 pixels\n",
        "\n",
        "    # Extract HOG features\n",
        "    features, hog_image = hog(\n",
        "        image_resized,\n",
        "        orientations=9, # Divide the gradient extraction into 9 bins\n",
        "        pixels_per_cell=(8, 8),# DIvide the image into cells 8x8 pixels\n",
        "        cells_per_block=(2, 2), # Block 2x2 cells for feature extraction\n",
        "        visualize=True,  # Set to True for visualization\n",
        "    )\n",
        "    return features\n",
        "\n"
      ],
      "metadata": {
        "id": "CNbc3OqtUbmE"
      },
      "execution_count": null,
      "outputs": []
    },
    {
      "cell_type": "markdown",
      "source": [
        "HOG focus on texture, NOT color.\n",
        "Turns the image into greyscale.\n",
        "HOG captures edges and shapes and texture of fundus images"
      ],
      "metadata": {
        "id": "wD5HhJrBaU_V"
      }
    },
    {
      "cell_type": "code",
      "source": [
        "def detect_circles(image_path):\n",
        "\n",
        "    image = cv2.imread(image_path, cv2.IMREAD_GRAYSCALE)\n",
        "    image_blurred = cv2.medianBlur(image, 5)\n",
        "    circles = cv2.HoughCircles(image_blurred, cv2.HOUGH_GRADIENT, dp=1.2, minDist=30,\n",
        "                               param1=50, param2=30, minRadius=20, maxRadius=50)\n",
        "    return circles\n"
      ],
      "metadata": {
        "id": "9-KgS2ZmUep3"
      },
      "execution_count": null,
      "outputs": []
    },
    {
      "cell_type": "markdown",
      "source": [
        "Converts to a greyscale\n",
        "Apply meadium blur for noise reduction\n",
        "Using Hough Circle Transform to detect the circular features"
      ],
      "metadata": {
        "id": "CjN347AdbwA6"
      }
    },
    {
      "cell_type": "code",
      "source": [
        "def extract_vgg16_features(image_path, target_size=(224, 224)):\n",
        "\n",
        "    # Load the pre-trained VGG16 model\n",
        "    base_model = VGG16(weights='imagenet', include_top=False, input_shape=(224, 224, 3))\n",
        "    feature_extractor = Model(inputs=base_model.input, outputs=base_model.layers[-1].output)\n",
        "    image = preprocess_image(image_path, target_size)\n",
        "    image = np.expand_dims(image, axis=0)\n",
        "    image = preprocess_input(image)\n",
        "\n",
        "    features = feature_extractor.predict(image)\n",
        "    return features.flatten()\n"
      ],
      "metadata": {
        "id": "jkfqS7SOUkZM"
      },
      "execution_count": null,
      "outputs": []
    },
    {
      "cell_type": "markdown",
      "source": [
        "Loads VGG16 pretrained on ImageNet, excluding the classification layer\n",
        "Extract the features"
      ],
      "metadata": {
        "id": "Sgl6_C2qdYte"
      }
    },
    {
      "cell_type": "code",
      "source": [
        "\n",
        "test_image = image_paths[0]\n",
        "\n",
        "# HOG Features\n",
        "hog_features = extract_hog_features(test_image)\n",
        "print(\"HOG Features:\", hog_features.shape)\n",
        "\n",
        "# Circle Detection\n",
        "circles = detect_circles(test_image)\n",
        "print(\"Detected Circles:\", circles)\n",
        "\n",
        "# VGG16 Features\n",
        "vgg16_features = extract_vgg16_features(test_image)\n",
        "print(\"VGG16 Features:\", vgg16_features.shape)\n",
        "\n",
        "\n",
        "\n"
      ],
      "metadata": {
        "colab": {
          "base_uri": "https://localhost:8080/"
        },
        "id": "yamJMYaOUlgs",
        "outputId": "d0457afb-8ece-4931-96b7-08d6d161c915"
      },
      "execution_count": null,
      "outputs": [
        {
          "output_type": "stream",
          "name": "stdout",
          "text": [
            "HOG Features: (8100,)\n",
            "Detected Circles: None\n",
            "Downloading data from https://storage.googleapis.com/tensorflow/keras-applications/vgg16/vgg16_weights_tf_dim_ordering_tf_kernels_notop.h5\n",
            "\u001b[1m58889256/58889256\u001b[0m \u001b[32m━━━━━━━━━━━━━━━━━━━━\u001b[0m\u001b[37m\u001b[0m \u001b[1m0s\u001b[0m 0us/step\n",
            "\u001b[1m1/1\u001b[0m \u001b[32m━━━━━━━━━━━━━━━━━━━━\u001b[0m\u001b[37m\u001b[0m \u001b[1m1s\u001b[0m 833ms/step\n",
            "VGG16 Features: (25088,)\n"
          ]
        }
      ]
    },
    {
      "cell_type": "markdown",
      "source": [
        "hog_features = long feture vectors representing the texture and the edge pattern\n",
        "circles = Print None if there is no circle otherwise will print parameters like center co ordinates and radius\n",
        "Prints the shape"
      ],
      "metadata": {
        "id": "-AiwwSbufdcI"
      }
    },
    {
      "cell_type": "code",
      "source": [
        "combined_features = np.concatenate((hog_features, vgg16_features), axis=0)\n",
        "print(\"Combined Features:\", combined_features.shape)\n"
      ],
      "metadata": {
        "colab": {
          "base_uri": "https://localhost:8080/"
        },
        "id": "mmNjnh3eUtnW",
        "outputId": "41531002-8c64-400e-db56-6fb8cf2c8b1b"
      },
      "execution_count": null,
      "outputs": [
        {
          "output_type": "stream",
          "name": "stdout",
          "text": [
            "Combined Features: (33188,)\n"
          ]
        }
      ]
    },
    {
      "cell_type": "markdown",
      "source": [
        "Combining VGG16 and HOG to a singular vector"
      ],
      "metadata": {
        "id": "0dpv4WVL21Ik"
      }
    },
    {
      "cell_type": "markdown",
      "source": [
        "\n",
        "\n",
        "---\n",
        "\n"
      ],
      "metadata": {
        "id": "Dt-ujonfgJHa"
      }
    }
  ]
}