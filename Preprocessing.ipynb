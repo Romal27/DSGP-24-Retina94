{
 "cells": [
  {
   "metadata": {},
   "cell_type": "markdown",
   "source": "### Imports",
   "id": "39cacb2f198dcc51"
  },
  {
   "metadata": {},
   "cell_type": "code",
   "outputs": [],
   "execution_count": null,
   "source": [
    "import os\n",
    "import pandas as pd"
   ],
   "id": "9c308a6385e8edf6"
  },
  {
   "metadata": {},
   "cell_type": "markdown",
   "source": "### Defining necessary paths",
   "id": "5a15f962021158a6"
  },
  {
   "metadata": {},
   "cell_type": "code",
   "outputs": [],
   "execution_count": null,
   "source": [
    "train_image_folder_path = '/Users/teransenevirathne/Desktop/DSGP-24-Retina94/Dataset/train_images/train_images'\n",
    "test_image_folder_path = '/Users/teransenevirathne/Desktop/DSGP-24-Retina94/Dataset/test_images/test_images'\n",
    "val_image_folder_path = '/Users/teransenevirathne/Desktop/DSGP-24-Retina94/Dataset/val_images/val_images'\n",
    "\n",
    "preprocessed_train_folder = '/Users/teransenevirathne/Desktop/DSGP-24-Retina94/Preprocessed_Dataset/Preprocessed_train_images'\n",
    "preprocessed_test_folder = '/Users/teransenevirathne/Desktop/DSGP-24-Retina94/Preprocessed_Dataset/Preprocessed_test_images'\n",
    "preprocessed_val_folder = '/Users/teransenevirathne/Desktop/DSGP-24-Retina94/Preprocessed_Dataset/Preprocessed_val_images'\n",
    "\n",
    "train_csv_path = '/Users/teransenevirathne/Desktop/DSGP-24-Retina94/Dataset/train.csv'\n",
    "val_csv_path = '/Users/teransenevirathne/Desktop/DSGP-24-Retina94/Dataset/valid.csv'\n",
    "test_csv_path = '/Users/teransenevirathne/Desktop/DSGP-24-Retina94/Dataset/test.csv'"
   ],
   "id": "b80811e2c4d43895"
  },
  {
   "metadata": {},
   "cell_type": "markdown",
   "source": "### Loading CSVs and setting up output location",
   "id": "e2180e6c3daf024d"
  },
  {
   "metadata": {},
   "cell_type": "code",
   "outputs": [],
   "execution_count": null,
   "source": [
    "train_data = pd.read_csv(train_csv_path)\n",
    "val_data = pd.read_csv(val_csv_path)\n",
    "test_data = pd.read_csv(test_csv_path)\n",
    "\n",
    "folders = [preprocessed_train_folder, preprocessed_test_folder, preprocessed_val_folder]\n",
    "for folder in folders:\n",
    "    if not os.path.exists(folder):\n",
    "        os.makedirs(folder)"
   ],
   "id": "b9b6d6cf129a5a71"
  }
 ],
 "metadata": {
  "kernelspec": {
   "display_name": "Python 3",
   "language": "python",
   "name": "python3"
  },
  "language_info": {
   "codemirror_mode": {
    "name": "ipython",
    "version": 2
   },
   "file_extension": ".py",
   "mimetype": "text/x-python",
   "name": "python",
   "nbconvert_exporter": "python",
   "pygments_lexer": "ipython2",
   "version": "2.7.6"
  }
 },
 "nbformat": 4,
 "nbformat_minor": 5
}
