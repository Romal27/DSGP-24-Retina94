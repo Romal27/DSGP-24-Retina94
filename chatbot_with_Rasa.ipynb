{
  "nbformat": 4,
  "nbformat_minor": 0,
  "metadata": {
    "colab": {
      "provenance": [],
      "authorship_tag": "ABX9TyP1m5dNXip/dfBVgXOYkeQo",
      "include_colab_link": true
    },
    "kernelspec": {
      "name": "python3",
      "display_name": "Python 3"
    },
    "language_info": {
      "name": "python"
    }
  },
  "cells": [
    {
      "cell_type": "markdown",
      "metadata": {
        "id": "view-in-github",
        "colab_type": "text"
      },
      "source": [
        "<a href=\"https://colab.research.google.com/github/Romal27/DSGP-24-Retina94/blob/ChatBot-Development/chatbot_with_Rasa.ipynb\" target=\"_parent\"><img src=\"https://colab.research.google.com/assets/colab-badge.svg\" alt=\"Open In Colab\"/></a>"
      ]
    },
    {
      "cell_type": "code",
      "source": [
        "!pip install --upgrade pip setuptools wheel\n",
        "\n"
      ],
      "metadata": {
        "colab": {
          "base_uri": "https://localhost:8080/"
        },
        "id": "fOj95DgcNkxV",
        "outputId": "bcca2928-296c-49dc-9521-77cb54735c3a"
      },
      "execution_count": null,
      "outputs": [
        {
          "output_type": "stream",
          "name": "stdout",
          "text": [
            "Requirement already satisfied: pip in /usr/local/lib/python3.11/dist-packages (25.0.1)\n",
            "Requirement already satisfied: setuptools in /usr/local/lib/python3.11/dist-packages (75.8.0)\n",
            "Requirement already satisfied: wheel in /usr/local/lib/python3.11/dist-packages (0.45.1)\n"
          ]
        }
      ]
    },
    {
      "cell_type": "code",
      "source": [
        "!pip install rasa\n"
      ],
      "metadata": {
        "colab": {
          "base_uri": "https://localhost:8080/"
        },
        "id": "MuahbrefOadF",
        "outputId": "0aa12472-0676-4639-def5-40527a6e2aac"
      },
      "execution_count": null,
      "outputs": [
        {
          "output_type": "stream",
          "name": "stdout",
          "text": [
            "Collecting rasa\n",
            "  Using cached rasa-1.10.2-py3-none-any.whl.metadata (14 kB)\n",
            "Collecting PyJWT<1.8,>=1.7 (from rasa)\n",
            "  Using cached PyJWT-1.7.1-py2.py3-none-any.whl.metadata (3.9 kB)\n",
            "Collecting SQLAlchemy<1.4.0,>=1.3.3 (from rasa)\n",
            "  Using cached SQLAlchemy-1.3.24.tar.gz (6.4 MB)\n",
            "  Preparing metadata (setup.py) ... \u001b[?25l\u001b[?25hdone\n",
            "Collecting absl-py<0.10,>=0.9 (from rasa)\n",
            "  Using cached absl-py-0.9.0.tar.gz (104 kB)\n",
            "  \u001b[1;31merror\u001b[0m: \u001b[1msubprocess-exited-with-error\u001b[0m\n",
            "  \n",
            "  \u001b[31m×\u001b[0m \u001b[32mpython setup.py egg_info\u001b[0m did not run successfully.\n",
            "  \u001b[31m│\u001b[0m exit code: \u001b[1;36m1\u001b[0m\n",
            "  \u001b[31m╰─>\u001b[0m See above for output.\n",
            "  \n",
            "  \u001b[1;35mnote\u001b[0m: This error originates from a subprocess, and is likely not a problem with pip.\n",
            "  Preparing metadata (setup.py) ... \u001b[?25l\u001b[?25herror\n",
            "\u001b[1;31merror\u001b[0m: \u001b[1mmetadata-generation-failed\u001b[0m\n",
            "\n",
            "\u001b[31m×\u001b[0m Encountered error while generating package metadata.\n",
            "\u001b[31m╰─>\u001b[0m See above for output.\n",
            "\n",
            "\u001b[1;35mnote\u001b[0m: This is an issue with the package mentioned above, not pip.\n",
            "\u001b[1;36mhint\u001b[0m: See above for details.\n"
          ]
        }
      ]
    },
    {
      "cell_type": "code",
      "source": [
        "!pip uninstall -y rasa\n"
      ],
      "metadata": {
        "colab": {
          "base_uri": "https://localhost:8080/"
        },
        "id": "xdXOi_rkPABQ",
        "outputId": "143155e4-bc9f-4993-833d-e8443223db9d"
      },
      "execution_count": null,
      "outputs": [
        {
          "output_type": "stream",
          "name": "stdout",
          "text": [
            "\u001b[33mWARNING: Skipping rasa as it is not installed.\u001b[0m\u001b[33m\n",
            "\u001b[0m"
          ]
        }
      ]
    },
    {
      "cell_type": "code",
      "source": [
        "!pip install rasa==3.5.10\n"
      ],
      "metadata": {
        "colab": {
          "base_uri": "https://localhost:8080/"
        },
        "id": "KTAxTPPfPCkz",
        "outputId": "5be87821-8bbc-4f91-b84b-b465cbd37e79"
      },
      "execution_count": null,
      "outputs": [
        {
          "output_type": "stream",
          "name": "stdout",
          "text": [
            "\u001b[31mERROR: Ignored the following versions that require a different python version: 1.10.10 Requires-Python >=3.6,<3.8; 1.10.11 Requires-Python >=3.6,<3.8; 1.10.12 Requires-Python >=3.6,<3.8; 1.10.13 Requires-Python >=3.6,<3.8; 1.10.14 Requires-Python >=3.6,<3.8; 1.10.15 Requires-Python >=3.6,<3.8; 1.10.16 Requires-Python >=3.6,<3.8; 1.10.17 Requires-Python >=3.6,<3.8; 1.10.18 Requires-Python >=3.6,<3.8; 1.10.19 Requires-Python >=3.6,<3.8; 1.10.20 Requires-Python >=3.6,<3.8; 1.10.21 Requires-Python >=3.6,<3.8; 1.10.22 Requires-Python >=3.6,<3.8; 1.10.23 Requires-Python >=3.6,<3.8; 1.10.24 Requires-Python >=3.6,<3.8; 1.10.25 Requires-Python >=3.6,<3.8; 1.10.26 Requires-Python >=3.6,<3.8; 1.10.3 Requires-Python >=3.6,<3.8; 1.10.4 Requires-Python >=3.6,<3.8; 1.10.5 Requires-Python >=3.6,<3.8; 1.10.6 Requires-Python >=3.6,<3.8; 1.10.7 Requires-Python >=3.6,<3.8; 1.10.8 Requires-Python >=3.6,<3.8; 1.10.9 Requires-Python >=3.6,<3.8; 2.0.0 Requires-Python >=3.6,<3.9; 2.0.0a1 Requires-Python >=3.6,<3.9; 2.0.0a2 Requires-Python >=3.6,<3.9; 2.0.0a3 Requires-Python >=3.6,<3.9; 2.0.0a4 Requires-Python >=3.6,<3.9; 2.0.0a5 Requires-Python >=3.6,<3.9; 2.0.0a6 Requires-Python >=3.6,<3.9; 2.0.0rc1 Requires-Python >=3.6,<3.9; 2.0.0rc2 Requires-Python >=3.6,<3.9; 2.0.0rc3 Requires-Python >=3.6,<3.9; 2.0.0rc4 Requires-Python >=3.6,<3.9; 2.0.1 Requires-Python >=3.6,<3.9; 2.0.2 Requires-Python >=3.6,<3.9; 2.0.3 Requires-Python >=3.6,<3.9; 2.0.4 Requires-Python >=3.6,<3.9; 2.0.5 Requires-Python >=3.6,<3.9; 2.0.6 Requires-Python >=3.6,<3.9; 2.0.7 Requires-Python >=3.6,<3.9; 2.0.8 Requires-Python >=3.6,<3.9; 2.1.0 Requires-Python >=3.6,<3.9; 2.1.1 Requires-Python >=3.6,<3.9; 2.1.2 Requires-Python >=3.6,<3.9; 2.1.3 Requires-Python >=3.6,<3.9; 2.2.0 Requires-Python >=3.6,<3.9; 2.2.0a1 Requires-Python >=3.6,<3.9; 2.2.1 Requires-Python >=3.6,<3.9; 2.2.10 Requires-Python >=3.6,<3.9; 2.2.2 Requires-Python >=3.6,<3.9; 2.2.3 Requires-Python >=3.6,<3.9; 2.2.4 Requires-Python >=3.6,<3.9; 2.2.5 Requires-Python >=3.6,<3.9; 2.2.6 Requires-Python >=3.6,<3.9; 2.2.7 Requires-Python >=3.6,<3.9; 2.2.8 Requires-Python >=3.6,<3.9; 2.2.9 Requires-Python >=3.6,<3.9; 2.3.0 Requires-Python >=3.6,<3.9; 2.3.1 Requires-Python >=3.6,<3.9; 2.3.2 Requires-Python >=3.6,<3.9; 2.3.3 Requires-Python >=3.6,<3.9; 2.3.4 Requires-Python >=3.6,<3.9; 2.3.5 Requires-Python >=3.6,<3.9; 2.4.0 Requires-Python >=3.6,<3.9; 2.4.1 Requires-Python >=3.6,<3.9; 2.4.2 Requires-Python >=3.6,<3.9; 2.4.3 Requires-Python >=3.6,<3.9; 2.5.0 Requires-Python >=3.6,<3.9; 2.5.1 Requires-Python >=3.6,<3.9; 2.5.2 Requires-Python >=3.6,<3.9; 2.6.0 Requires-Python >=3.6,<3.9; 2.6.1 Requires-Python >=3.6,<3.9; 2.6.2 Requires-Python >=3.6,<3.9; 2.6.3 Requires-Python >=3.6,<3.9; 2.7.0 Requires-Python >=3.6,<3.9; 2.7.1 Requires-Python >=3.6,<3.9; 2.7.2 Requires-Python >=3.6,<3.9; 2.8.0 Requires-Python >=3.6,<3.9; 2.8.1 Requires-Python >=3.6,<3.9; 2.8.10 Requires-Python >=3.6,<3.9; 2.8.11 Requires-Python >=3.6,<3.9; 2.8.12 Requires-Python >=3.6,<3.9; 2.8.13 Requires-Python >=3.6,<3.9; 2.8.14 Requires-Python >=3.6,<3.9; 2.8.15 Requires-Python >=3.6,<3.9; 2.8.16 Requires-Python >=3.6,<3.9; 2.8.17 Requires-Python >=3.6,<3.9; 2.8.18 Requires-Python >=3.6,<3.9; 2.8.19 Requires-Python >=3.6,<3.9; 2.8.2 Requires-Python >=3.6,<3.9; 2.8.20 Requires-Python >=3.6,<3.9; 2.8.21 Requires-Python >=3.6,<3.9; 2.8.22 Requires-Python >=3.6,<3.9; 2.8.23 Requires-Python >=3.6,<3.9; 2.8.24 Requires-Python >=3.6,<3.9; 2.8.25 Requires-Python >=3.6,<3.9; 2.8.26 Requires-Python >=3.6,<3.9; 2.8.27 Requires-Python >=3.7,<3.9; 2.8.28 Requires-Python >=3.7,<3.9; 2.8.29 Requires-Python >=3.7,<3.9; 2.8.3 Requires-Python >=3.6,<3.9; 2.8.30 Requires-Python >=3.7,<3.9; 2.8.31 Requires-Python >=3.7,<3.9; 2.8.32 Requires-Python >=3.7,<3.9; 2.8.33 Requires-Python >=3.7,<3.9; 2.8.34 Requires-Python >=3.7,<3.9; 2.8.4 Requires-Python >=3.6,<3.9; 2.8.5 Requires-Python >=3.6,<3.9; 2.8.6 Requires-Python >=3.6,<3.9; 2.8.7 Requires-Python >=3.6,<3.9; 2.8.8 Requires-Python >=3.6,<3.9; 2.8.9 Requires-Python >=3.6,<3.9; 3.0.0 Requires-Python >=3.7,<3.9; 3.0.0rc1 Requires-Python >=3.7,<3.9; 3.0.0rc2 Requires-Python >=3.7,<3.9; 3.0.0rc3 Requires-Python >=3.7,<3.9; 3.0.1 Requires-Python >=3.7,<3.9; 3.0.11 Requires-Python >=3.7,<3.9; 3.0.12 Requires-Python >=3.7,<3.9; 3.0.13 Requires-Python >=3.7,<3.9; 3.0.2 Requires-Python >=3.7,<3.9; 3.0.3 Requires-Python >=3.7,<3.9; 3.0.4 Requires-Python >=3.7,<3.9; 3.0.5 Requires-Python >=3.7,<3.9; 3.0.6 Requires-Python >=3.7,<3.9; 3.0.7 Requires-Python >=3.7,<3.9; 3.0.8 Requires-Python >=3.7,<3.9; 3.0.9 Requires-Python >=3.7,<3.9; 3.1.0 Requires-Python >=3.7,<3.10; 3.1.1 Requires-Python >=3.7,<3.10; 3.1.2 Requires-Python >=3.7,<3.10; 3.1.3 Requires-Python >=3.7,<3.10; 3.1.4 Requires-Python >=3.7,<3.10; 3.1.5 Requires-Python >=3.7,<3.10; 3.1.6 Requires-Python >=3.7,<3.10; 3.1.7 Requires-Python >=3.7,<3.10; 3.2.0 Requires-Python >=3.7,<3.10; 3.2.1 Requires-Python >=3.7,<3.10; 3.2.10 Requires-Python >=3.7,<3.10; 3.2.11 Requires-Python >=3.7,<3.10; 3.2.12 Requires-Python >=3.7,<3.10; 3.2.13 Requires-Python >=3.7,<3.10; 3.2.2 Requires-Python >=3.7,<3.10; 3.2.4 Requires-Python >=3.7,<3.10; 3.2.5 Requires-Python >=3.7,<3.10; 3.2.6 Requires-Python >=3.7,<3.10; 3.2.7 Requires-Python >=3.7,<3.10; 3.2.8 Requires-Python >=3.7,<3.10; 3.3.0 Requires-Python >=3.7,<3.10; 3.3.0a1 Requires-Python >=3.7,<3.10; 3.3.1 Requires-Python >=3.7,<3.10; 3.3.10 Requires-Python >=3.7,<3.10; 3.3.11 Requires-Python >=3.7,<3.10; 3.3.12 Requires-Python >=3.7,<3.10; 3.3.2 Requires-Python >=3.7,<3.10; 3.3.3 Requires-Python >=3.7,<3.10; 3.3.4 Requires-Python >=3.7,<3.10; 3.3.5 Requires-Python >=3.7,<3.10; 3.3.6 Requires-Python >=3.7,<3.10; 3.3.7 Requires-Python >=3.7,<3.10; 3.3.8 Requires-Python >=3.7,<3.10; 3.3.9 Requires-Python >=3.7,<3.10; 3.4.0 Requires-Python >=3.7,<3.11; 3.4.1 Requires-Python >=3.7,<3.11; 3.4.10 Requires-Python >=3.7,<3.11; 3.4.11 Requires-Python >=3.7,<3.11; 3.4.12 Requires-Python >=3.7,<3.11; 3.4.13 Requires-Python >=3.7,<3.11; 3.4.14 Requires-Python >=3.7,<3.11; 3.4.15 Requires-Python >=3.7,<3.11; 3.4.16 Requires-Python >=3.7,<3.11; 3.4.17 Requires-Python >=3.7,<3.11; 3.4.18 Requires-Python >=3.7,<3.11; 3.4.2 Requires-Python >=3.7,<3.11; 3.4.3 Requires-Python >=3.7,<3.11; 3.4.4 Requires-Python >=3.7,<3.11; 3.4.5 Requires-Python >=3.7,<3.11; 3.4.6 Requires-Python >=3.7,<3.11; 3.4.7 Requires-Python >=3.7,<3.11; 3.4.8 Requires-Python >=3.7,<3.11; 3.4.9 Requires-Python >=3.7,<3.11; 3.5.0 Requires-Python >=3.7,<3.11; 3.5.0a1.dev1 Requires-Python >=3.7,<3.11; 3.5.0a2.dev1 Requires-Python >=3.7,<3.11; 3.5.0a2.dev2 Requires-Python >=3.7,<3.11; 3.5.0b1 Requires-Python >=3.7,<3.11; 3.5.1 Requires-Python >=3.7,<3.11; 3.5.10 Requires-Python >=3.7,<3.11; 3.5.11 Requires-Python >=3.7,<3.11; 3.5.12 Requires-Python >=3.7,<3.11; 3.5.13 Requires-Python >=3.7,<3.11; 3.5.14 Requires-Python >=3.7,<3.11; 3.5.15 Requires-Python >=3.7,<3.11; 3.5.16 Requires-Python >=3.7,<3.11; 3.5.17 Requires-Python >=3.7,<3.11; 3.5.2 Requires-Python >=3.7,<3.11; 3.5.3 Requires-Python >=3.7,<3.11; 3.5.4 Requires-Python >=3.7,<3.11; 3.5.5 Requires-Python >=3.7,<3.11; 3.5.6 Requires-Python >=3.7,<3.11; 3.5.7 Requires-Python >=3.7,<3.11; 3.5.8 Requires-Python >=3.7,<3.11; 3.5.9 Requires-Python >=3.7,<3.11; 3.6.0 Requires-Python >=3.8,<3.11; 3.6.0a1 Requires-Python >=3.8,<3.11; 3.6.1 Requires-Python >=3.8,<3.11; 3.6.10 Requires-Python >=3.8,<3.11; 3.6.11 Requires-Python >=3.8,<3.11; 3.6.12 Requires-Python >=3.8,<3.11; 3.6.13 Requires-Python >=3.8,<3.11; 3.6.14 Requires-Python >=3.8,<3.11; 3.6.15 Requires-Python >=3.8,<3.11; 3.6.16 Requires-Python >=3.8,<3.11; 3.6.17 Requires-Python >=3.8,<3.11; 3.6.18 Requires-Python >=3.8,<3.11; 3.6.19 Requires-Python >=3.8,<3.11; 3.6.1a1 Requires-Python >=3.8,<3.11; 3.6.2 Requires-Python >=3.8,<3.11; 3.6.20 Requires-Python <3.11,>=3.8; 3.6.21 Requires-Python <3.11,>=3.8; 3.6.3 Requires-Python >=3.8,<3.11; 3.6.4 Requires-Python >=3.8,<3.11; 3.6.5 Requires-Python >=3.8,<3.11; 3.6.6 Requires-Python >=3.8,<3.11; 3.6.7 Requires-Python >=3.8,<3.11; 3.6.8 Requires-Python >=3.8,<3.11; 3.6.9 Requires-Python >=3.8,<3.11; 3.7.0b1 Requires-Python >=3.8,<3.11; 3.7.0b2 Requires-Python >=3.8,<3.11\u001b[0m\u001b[31m\n",
            "\u001b[0m\u001b[31mERROR: Could not find a version that satisfies the requirement rasa==3.5.10 (from versions: 0.0.1, 0.0.2, 0.0.3, 0.0.4, 0.0.5, 0.1.0, 0.1.1, 0.2.0a2, 0.2.0a3, 0.14.0a5, 0.14.0a6, 0.14.0a7, 0.14.0a8, 0.14.0a9, 0.15.0a6, 1.0.0a1, 1.0.0a2, 1.0.0a3, 1.0.0a4, 1.0.0a5, 1.0.0rc1, 1.0.0rc2, 1.0.0rc3, 1.0.0rc4, 1.0.0rc5, 1.0.0rc6, 1.0.0rc7, 1.0.0rc8, 1.0.0rc9, 1.0.0rc10, 1.0.0rc11, 1.0.0rc12, 1.0.0, 1.0.1, 1.0.2, 1.0.3, 1.0.4, 1.0.5, 1.0.6, 1.0.7, 1.0.8, 1.0.9, 1.1.0, 1.1.1, 1.1.2, 1.1.3, 1.1.4, 1.1.5, 1.1.6, 1.1.7, 1.1.8, 1.2.0a2, 1.2.0a3, 1.2.0a4, 1.2.0a5, 1.2.0a6, 1.2.0a7, 1.2.0, 1.2.1, 1.2.2, 1.2.3, 1.2.4, 1.2.5, 1.2.6, 1.2.7, 1.2.8, 1.2.9, 1.2.10, 1.2.11, 1.2.12, 1.3.0a1, 1.3.0a2, 1.3.0, 1.3.1a1, 1.3.1a3, 1.3.1a4, 1.3.1a5, 1.3.1a8, 1.3.1a10, 1.3.1a11, 1.3.1a12, 1.3.1a14, 1.3.1, 1.3.2, 1.3.3, 1.3.4, 1.3.6, 1.3.7, 1.3.8, 1.3.9, 1.3.10, 1.4.0, 1.4.1, 1.4.2, 1.4.3, 1.4.4, 1.4.5, 1.4.6, 1.5.0, 1.5.1, 1.5.2, 1.5.3, 1.6.0a1, 1.6.0a2, 1.6.0, 1.6.1, 1.6.2, 1.7.0, 1.7.1, 1.7.2, 1.7.3, 1.7.4, 1.8.0, 1.8.1, 1.8.2, 1.8.3, 1.9.0, 1.9.1, 1.9.2, 1.9.3, 1.9.4, 1.9.5, 1.9.6, 1.9.7, 1.10.0a1, 1.10.0a2, 1.10.0, 1.10.1, 1.10.2)\u001b[0m\u001b[31m\n",
            "\u001b[0m\u001b[31mERROR: No matching distribution found for rasa==3.5.10\u001b[0m\u001b[31m\n",
            "\u001b[0m"
          ]
        }
      ]
    },
    {
      "cell_type": "code",
      "source": [
        "python --version\n"
      ],
      "metadata": {
        "colab": {
          "base_uri": "https://localhost:8080/",
          "height": 144
        },
        "id": "V9hqoa4pPL-F",
        "outputId": "9b650dbd-be0e-4692-fafc-d995f25003f8"
      },
      "execution_count": null,
      "outputs": [
        {
          "output_type": "error",
          "ename": "NameError",
          "evalue": "name 'python' is not defined",
          "traceback": [
            "\u001b[0;31m---------------------------------------------------------------------------\u001b[0m",
            "\u001b[0;31mNameError\u001b[0m                                 Traceback (most recent call last)",
            "\u001b[0;32m<ipython-input-8-a4637bbefc43>\u001b[0m in \u001b[0;36m<cell line: 0>\u001b[0;34m()\u001b[0m\n\u001b[0;32m----> 1\u001b[0;31m \u001b[0mpython\u001b[0m \u001b[0;34m-\u001b[0m\u001b[0;34m-\u001b[0m\u001b[0mversion\u001b[0m\u001b[0;34m\u001b[0m\u001b[0;34m\u001b[0m\u001b[0m\n\u001b[0m",
            "\u001b[0;31mNameError\u001b[0m: name 'python' is not defined"
          ]
        }
      ]
    },
    {
      "cell_type": "code",
      "source": [
        "!python --version"
      ],
      "metadata": {
        "colab": {
          "base_uri": "https://localhost:8080/"
        },
        "id": "RSJqonItPRrQ",
        "outputId": "16fc1649-1e54-495a-e15a-ccbbd2f594ea"
      },
      "execution_count": null,
      "outputs": [
        {
          "output_type": "stream",
          "name": "stdout",
          "text": [
            "Python 3.11.11\n"
          ]
        }
      ]
    },
    {
      "cell_type": "code",
      "source": [
        "!pip install rasa rasa-sdk --quiet\n"
      ],
      "metadata": {
        "colab": {
          "base_uri": "https://localhost:8080/"
        },
        "id": "kG40bLbsTMIp",
        "outputId": "478cb387-f318-458e-c891-7bcf76df9ab9"
      },
      "execution_count": null,
      "outputs": [
        {
          "output_type": "stream",
          "name": "stdout",
          "text": [
            "  Preparing metadata (setup.py) ... \u001b[?25l\u001b[?25hdone\n",
            "  \u001b[1;31merror\u001b[0m: \u001b[1msubprocess-exited-with-error\u001b[0m\n",
            "  \n",
            "  \u001b[31m×\u001b[0m \u001b[32mpython setup.py egg_info\u001b[0m did not run successfully.\n",
            "  \u001b[31m│\u001b[0m exit code: \u001b[1;36m1\u001b[0m\n",
            "  \u001b[31m╰─>\u001b[0m See above for output.\n",
            "  \n",
            "  \u001b[1;35mnote\u001b[0m: This error originates from a subprocess, and is likely not a problem with pip.\n",
            "  Preparing metadata (setup.py) ... \u001b[?25l\u001b[?25herror\n",
            "\u001b[1;31merror\u001b[0m: \u001b[1mmetadata-generation-failed\u001b[0m\n",
            "\n",
            "\u001b[31m×\u001b[0m Encountered error while generating package metadata.\n",
            "\u001b[31m╰─>\u001b[0m See above for output.\n",
            "\n",
            "\u001b[1;35mnote\u001b[0m: This is an issue with the package mentioned above, not pip.\n",
            "\u001b[1;36mhint\u001b[0m: See above for details.\n"
          ]
        }
      ]
    },
    {
      "cell_type": "code",
      "source": [
        "%%writefile config.yml\n",
        "language: en\n",
        "\n",
        "pipeline:\n",
        "  - name: WhitespaceTokenizer\n",
        "  - name: RegexFeaturizer\n",
        "  - name: LexicalSyntacticFeaturizer\n",
        "  - name: CountVectorsFeaturizer\n",
        "  - name: DIETClassifier\n",
        "    epochs: 100\n",
        "  - name: EntitySynonymMapper\n",
        "  - name: ResponseSelector\n",
        "    epochs: 100\n",
        "\n",
        "policies:\n",
        "  - name: MemoizationPolicy\n",
        "  - name: TEDPolicy\n",
        "    max_history: 5\n",
        "    epochs: 100\n",
        "  - name: RulePolicy\n"
      ],
      "metadata": {
        "colab": {
          "base_uri": "https://localhost:8080/"
        },
        "id": "ifbpMdneTPdH",
        "outputId": "3ce3278c-4953-48e6-93cf-70b97b0ec9a5"
      },
      "execution_count": null,
      "outputs": [
        {
          "output_type": "stream",
          "name": "stdout",
          "text": [
            "Writing config.yml\n"
          ]
        }
      ]
    },
    {
      "cell_type": "code",
      "source": [
        "%%writefile domain.yml\n",
        "version: \"3.1\"\n",
        "\n",
        "intents:\n",
        "  - greet\n",
        "  - goodbye\n",
        "  - affirm\n",
        "  - deny\n",
        "  - mood_great\n",
        "  - mood_unhappy\n",
        "  - bot_challenge\n",
        "  - ask_disease_info\n",
        "  - ask_disease_stage\n",
        "  - inform_disease_stage\n",
        "  - ask_treatment_options\n",
        "  - ask_prevention\n",
        "  - ask_risk_factors\n",
        "  - ask_eye_exam\n",
        "  - ask_for_help\n",
        "  - ask_lifestyle_changes\n",
        "  - ask_further_assistance\n",
        "\n",
        "responses:\n",
        "  utter_greet:\n",
        "    - text: \"Hello, how can I assist you with diabetic retinopathy today?\"\n",
        "\n",
        "  utter_goodbye:\n",
        "    - text: \"Goodbye! Take care of your health!\"\n",
        "\n",
        "  utter_ask_disease_info:\n",
        "    - text: \"Diabetic retinopathy is a condition where high blood sugar levels cause damage to the blood vessels in the retina. Would you like more detailed information?\"\n",
        "\n",
        "  utter_ask_treatment_options:\n",
        "    - text: \"The treatment options for diabetic retinopathy include laser treatment, medication, and surgery. Would you like to know more about any of these?\"\n",
        "\n",
        "  # More responses for other intents like 'inform_disease_stage', 'ask_risk_factors', etc.\n",
        "\n",
        "actions:\n",
        "  - action_provide_disease_stage_info\n",
        "  - action_provide_treatment_info\n",
        "  - action_provide_prevention_tips\n",
        "  # Define any additional actions needed\n",
        "\n"
      ],
      "metadata": {
        "colab": {
          "base_uri": "https://localhost:8080/"
        },
        "id": "7yerU25TmMYy",
        "outputId": "ab7b153c-9bda-4ee2-f764-50d2efa742e8"
      },
      "execution_count": null,
      "outputs": [
        {
          "output_type": "stream",
          "name": "stdout",
          "text": [
            "Writing domain.yml\n"
          ]
        }
      ]
    },
    {
      "cell_type": "code",
      "source": [
        "%%writefile nlu.yml\n",
        "version: \"3.1\"\n",
        "\n",
        "nlu:\n",
        "  - intent: greet\n",
        "    examples: |\n",
        "      - hi\n",
        "      - hello\n",
        "      - hey there\n",
        "      - good morning\n",
        "      - good evening\n",
        "      - good afternoon\n",
        "      - hey\n",
        "      - how are you?\n",
        "\n",
        "  - intent: goodbye\n",
        "    examples: |\n",
        "      - bye\n",
        "      - goodbye\n",
        "      - see you later\n",
        "      - take care\n",
        "      - have a nice day\n",
        "      - see you soon\n",
        "\n",
        "  - intent: affirm\n",
        "    examples: |\n",
        "      - yes\n",
        "      - sure\n",
        "      - of course\n",
        "      - definitely\n",
        "      - absolutely\n",
        "      - sounds good\n",
        "\n",
        "  - intent: deny\n",
        "    examples: |\n",
        "      - no\n",
        "      - nope\n",
        "      - not really\n",
        "      - not interested\n",
        "      - no way\n",
        "      - I don't think so\n",
        "\n",
        "  - intent: ask_disease_info\n",
        "    examples: |\n",
        "      - what is diabetic retinopathy?\n",
        "      - tell me about diabetic retinopathy\n",
        "      - what do I need to know about diabetic retinopathy?\n",
        "      - how does diabetic retinopathy affect me?\n",
        "      - what are the symptoms of diabetic retinopathy?\n",
        "      - how is diabetic retinopathy diagnosed?\n",
        "      - what causes diabetic retinopathy?\n",
        "\n",
        "  - intent: ask_disease_stage\n",
        "    examples: |\n",
        "      - what are the stages of diabetic retinopathy?\n",
        "      - explain the stages of diabetic retinopathy\n",
        "      - what is stage 1 diabetic retinopathy?\n",
        "      - what is stage 2 diabetic retinopathy?\n",
        "      - tell me about stage 3 diabetic retinopathy\n",
        "      - what is the worst stage of diabetic retinopathy?\n",
        "\n",
        "  - intent: inform_disease_stage\n",
        "    examples: |\n",
        "      - I have stage 1 diabetic retinopathy\n",
        "      - I have stage 2 diabetic retinopathy\n",
        "      - my diabetic retinopathy is in stage 3\n",
        "      - I'm at stage 4 of diabetic retinopathy\n",
        "      - I have mild diabetic retinopathy\n",
        "      - I am in severe stage of diabetic retinopathy\n",
        "\n",
        "  - intent: ask_treatment_options\n",
        "    examples: |\n",
        "      - what treatment is available for diabetic retinopathy?\n",
        "      - how can diabetic retinopathy be treated?\n",
        "      - what are the options for diabetic retinopathy treatment?\n",
        "      - can diabetic retinopathy be reversed?\n",
        "      - what is the best treatment for diabetic retinopathy?\n",
        "\n",
        "  - intent: ask_prevention\n",
        "    examples: |\n",
        "      - how can I prevent diabetic retinopathy?\n",
        "      - what can I do to prevent diabetic retinopathy?\n",
        "      - is there a way to avoid diabetic retinopathy?\n",
        "      - how can I protect my eyes from diabetic retinopathy?\n",
        "      - is diabetic retinopathy preventable?\n",
        "\n",
        "  - intent: ask_risk_factors\n",
        "    examples: |\n",
        "      - what increases the risk of diabetic retinopathy?\n",
        "      - who is at risk for diabetic retinopathy?\n",
        "      - how do I know if I am at risk for diabetic retinopathy?\n",
        "      - what are the risk factors for diabetic retinopathy?\n",
        "\n",
        "  - intent: ask_eye_exam\n",
        "    examples: |\n",
        "      - how often should I get an eye exam for diabetic retinopathy?\n",
        "      - when should I have an eye checkup for diabetic retinopathy?\n",
        "      - is it necessary to check eyes for diabetic retinopathy regularly?\n",
        "      - how do I get screened for diabetic retinopathy?\n",
        "\n",
        "  - intent: mood_great\n",
        "    examples: |\n",
        "      - I feel amazing\n",
        "      - I'm doing well\n",
        "      - I feel great today\n",
        "      - everything is perfect\n",
        "      - I am happy\n",
        "      - I feel fantastic\n",
        "\n",
        "  - intent: mood_unhappy\n",
        "    examples: |\n",
        "      - I'm feeling down\n",
        "      - I'm sad today\n",
        "      - not a good day\n",
        "      - I feel terrible\n",
        "      - I'm frustrated\n",
        "      - feeling stressed\n",
        "\n",
        "  - intent: bot_challenge\n",
        "    examples: |\n",
        "      - are you a bot?\n",
        "      - are you a human?\n",
        "      - am I talking to a bot?\n",
        "      - am I talking to a person?\n",
        "\n",
        "  - intent: ask_for_help\n",
        "    examples: |\n",
        "      - can you help me with my diabetes?\n",
        "      - can you assist me with diabetic retinopathy?\n",
        "      - I need help with managing diabetic retinopathy\n",
        "      - can you provide me with advice on diabetes?\n",
        "      - I have questions about my condition, can you assist?\n",
        "\n",
        "  - intent: ask_lifestyle_changes\n",
        "    examples: |\n",
        "      - what lifestyle changes can help with diabetic retinopathy?\n",
        "      - how can I manage my diabetic retinopathy through lifestyle?\n",
        "      - what diet is recommended for diabetic retinopathy?\n",
        "      - can exercise improve diabetic retinopathy?\n",
        "      - what changes should I make to prevent worsening of diabetic retinopathy?\n",
        "\n",
        "  - intent: ask_further_assistance\n",
        "    examples: |\n",
        "      - I need more information about diabetic retinopathy\n",
        "      - can you suggest more resources for diabetic retinopathy?\n",
        "      - where can I learn more about managing diabetic retinopathy?\n",
        "      - I need detailed advice on managing my condition\n",
        "\n"
      ],
      "metadata": {
        "colab": {
          "base_uri": "https://localhost:8080/"
        },
        "id": "zyhqsAI2rDb5",
        "outputId": "1a32a289-1ea3-4e7d-fa2d-7ddee8e2eff5"
      },
      "execution_count": null,
      "outputs": [
        {
          "output_type": "stream",
          "name": "stdout",
          "text": [
            "Writing data/nlu.yml\n"
          ]
        }
      ]
    },
    {
      "cell_type": "code",
      "source": [
        "%%writefile data/stories.yml\n",
        "version: \"3.1\"\n",
        "\n",
        "stories:\n",
        "  - story: greet path\n",
        "    steps:\n",
        "      - intent: greet\n",
        "      - action: utter_greet\n",
        "\n",
        "  - story: disease stage inquiry path\n",
        "    steps:\n",
        "      - intent: ask_disease_info\n",
        "      - action: utter_ask_disease_info\n",
        "\n",
        "  - story: ask treatment options path\n",
        "    steps:\n",
        "      - intent: ask_treatment_options\n",
        "      - action: utter_ask_treatment_options\n",
        "\n",
        "  - story: inform disease stage path\n",
        "    steps:\n",
        "      - intent: inform_disease_stage\n",
        "      - action: action_provide_disease_stage_info\n",
        "\n",
        "  - story: ask for help path\n",
        "    steps:\n",
        "      - intent: ask_for_help\n",
        "      - action: utter_ask_for_help\n",
        "\n",
        "  # Add more stories for other intents\n",
        "\n"
      ],
      "metadata": {
        "colab": {
          "base_uri": "https://localhost:8080/"
        },
        "id": "_wvs8BKLsBVX",
        "outputId": "d79dc6f9-35ac-483f-ef57-5ec556bad0d3"
      },
      "execution_count": null,
      "outputs": [
        {
          "output_type": "stream",
          "name": "stdout",
          "text": [
            "Writing data/stories.yml\n"
          ]
        }
      ]
    },
    {
      "cell_type": "code",
      "source": [
        "%%writefile actions.py\n",
        "# Import necessary modules from Rasa SDK\n",
        "from typing import Any, Text, Dict, List\n",
        "from rasa_sdk import Action\n",
        "from rasa_sdk.executor import CollectingDispatcher\n",
        "from rasa_sdk.events import SlotSet\n",
        "\n",
        "class ActionProvideDiseaseStageInfo(Action):\n",
        "    \"\"\"Provide information based on the user's disease stage input.\"\"\"\n",
        "\n",
        "    def name(self) -> Text:\n",
        "        return \"action_provide_disease_stage_info\"\n",
        "\n",
        "    def run(self, dispatcher: CollectingDispatcher,\n",
        "            tracker: Tracker,\n",
        "            domain: Dict[Text, Any]) -> List[Dict[Text, Any]]:\n",
        "\n",
        "        disease_stage = tracker.latest_message.get('intent').get('name')\n",
        "\n",
        "        if 'mild' in disease_stage:\n",
        "            response = \"Stage 1: Mild diabetic retinopathy can often be managed with regular eye exams and control of blood sugar.\"\n",
        "        elif 'moderate' in disease_stage:\n",
        "            response = \"Stage 2: Moderate diabetic retinopathy requires more attention, and laser treatment might be recommended.\"\n",
        "        elif 'severe' in disease_stage:\n",
        "            response = \"Stage 3: Severe diabetic retinopathy might require more intensive treatment, such as surgery or injections.\"\n",
        "        else:\n",
        "            response = \"Consult with a healthcare provider for the best treatment options based on your condition.\"\n",
        "\n",
        "        dispatcher.utter_message(text=response)\n",
        "        return []\n",
        "\n",
        "class ActionProvideTreatmentInfo(Action):\n",
        "    \"\"\"Provide information on available treatment options for diabetic retinopathy.\"\"\"\n",
        "\n",
        "    def name(self) -> Text:\n",
        "        return \"action_provide_treatment_info\"\n",
        "\n",
        "    def run(self, dispatcher: CollectingDispatcher,\n",
        "            tracker: Tracker,\n",
        "            domain: Dict[Text, Any]) -> List[Dict[Text, Any]]:\n",
        "\n",
        "        response = (\n",
        "            \"Treatment for diabetic retinopathy may include: \"\n",
        "            \"1. Laser surgery to shrink abnormal blood vessels. \"\n",
        "            \"2. Anti-VEGF injections to reduce swelling. \"\n",
        "            \"3. Vitrectomy surgery to remove blood or scar tissue from the retina.\"\n",
        "        )\n",
        "\n",
        "        dispatcher.utter_message(text=response)\n",
        "        return []\n",
        "\n",
        "class ActionProvidePreventionTips(Action):\n",
        "    \"\"\"Provide tips for preventing diabetic retinopathy.\"\"\"\n",
        "\n",
        "    def name(self) -> Text:\n",
        "        return \"action_provide_prevention_tips\"\n",
        "\n",
        "    def run(self, dispatcher: CollectingDispatcher,\n",
        "            tracker: Tracker,\n",
        "            domain: Dict[Text, Any]) -> List[Dict[Text, Any]]:\n",
        "\n",
        "        response = (\n",
        "            \"To prevent diabetic retinopathy, it's important to: \"\n",
        "            \"1. Control your blood sugar levels. \"\n",
        "            \"2. Have regular eye exams. \"\n",
        "            \"3. Manage your blood pressure and cholesterol levels. \"\n",
        "            \"4. Avoid smoking and maintain a healthy diet.\"\n",
        "        )\n",
        "\n",
        "        dispatcher.utter_message(text=response)\n",
        "        return []\n",
        "\n",
        "class ActionProvideRiskFactors(Action):\n",
        "    \"\"\"Provide information on the risk factors for diabetic retinopathy.\"\"\"\n",
        "\n",
        "    def name(self) -> Text:\n",
        "        return \"action_provide_risk_factors\"\n",
        "\n",
        "    def run(self, dispatcher: CollectingDispatcher,\n",
        "            tracker: Tracker,\n",
        "            domain: Dict[Text, Any]) -> List[Dict[Text, Any]]:\n",
        "\n",
        "        response = (\n",
        "            \"Risk factors for diabetic retinopathy include: \"\n",
        "            \"1. Poorly controlled blood sugar. \"\n",
        "            \"2. High blood pressure. \"\n",
        "            \"3. Long duration of diabetes. \"\n",
        "            \"4. High cholesterol. \"\n",
        "            \"5. Smoking.\"\n",
        "        )\n",
        "\n",
        "        dispatcher.utter_message(text=response)\n",
        "        return []\n",
        "\n"
      ],
      "metadata": {
        "colab": {
          "base_uri": "https://localhost:8080/"
        },
        "id": "CJn20ABOsPe6",
        "outputId": "9c80e24d-d2a5-4486-96c5-3c623a459e9e"
      },
      "execution_count": null,
      "outputs": [
        {
          "output_type": "stream",
          "name": "stdout",
          "text": [
            "Writing actions.py\n"
          ]
        }
      ]
    },
    {
      "cell_type": "code",
      "source": [
        "rasa train"
      ],
      "metadata": {
        "id": "PMWhcygf1IZ7"
      },
      "execution_count": null,
      "outputs": []
    }
  ]
}