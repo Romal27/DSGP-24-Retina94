{
  "nbformat": 4,
  "nbformat_minor": 0,
  "metadata": {
    "colab": {
      "provenance": [],
      "authorship_tag": "ABX9TyNwSOM9B9+rbNmdoFZsJnKE",
      "include_colab_link": true
    },
    "kernelspec": {
      "name": "python3",
      "display_name": "Python 3"
    },
    "language_info": {
      "name": "python"
    }
  },
  "cells": [
    {
      "cell_type": "markdown",
      "metadata": {
        "id": "view-in-github",
        "colab_type": "text"
      },
      "source": [
        "<a href=\"https://colab.research.google.com/github/Romal27/DSGP-24-Retina94/blob/component-1/SVMClassifier.ipynb\" target=\"_parent\"><img src=\"https://colab.research.google.com/assets/colab-badge.svg\" alt=\"Open In Colab\"/></a>"
      ]
    },
    {
      "cell_type": "code",
      "execution_count": null,
      "metadata": {
        "colab": {
          "base_uri": "https://localhost:8080/",
          "height": 653
        },
        "id": "PEJezrafOKfT",
        "outputId": "4d590e18-da91-466d-bbcc-0d8a79d01fbd"
      },
      "outputs": [
        {
          "output_type": "stream",
          "name": "stdout",
          "text": [
            "Drive already mounted at /content/drive; to attempt to forcibly remount, call drive.mount(\"/content/drive\", force_remount=True).\n",
            "Accuracy:  0.992\n",
            "Prediction is: NF\n"
          ]
        },
        {
          "output_type": "execute_result",
          "data": {
            "text/plain": [
              "<function matplotlib.pyplot.show(close=None, block=None)>"
            ],
            "text/html": [
              "<div style=\"max-width:800px; border: 1px solid var(--colab-border-color);\"><style>\n",
              "      pre.function-repr-contents {\n",
              "        overflow-x: auto;\n",
              "        padding: 8px 12px;\n",
              "        max-height: 500px;\n",
              "      }\n",
              "\n",
              "      pre.function-repr-contents.function-repr-contents-collapsed {\n",
              "        cursor: pointer;\n",
              "        max-height: 100px;\n",
              "      }\n",
              "    </style>\n",
              "    <pre style=\"white-space: initial; background:\n",
              "         var(--colab-secondary-surface-color); padding: 8px 12px;\n",
              "         border-bottom: 1px solid var(--colab-border-color);\"><b>matplotlib.pyplot.show</b><br/>def show(*args, **kwargs)</pre><pre class=\"function-repr-contents function-repr-contents-collapsed\" style=\"\"><a class=\"filepath\" style=\"display:none\" href=\"#\">/usr/local/lib/python3.10/dist-packages/matplotlib/pyplot.py</a>Display all open figures.\n",
              "\n",
              "Parameters\n",
              "----------\n",
              "block : bool, optional\n",
              "    Whether to wait for all figures to be closed before returning.\n",
              "\n",
              "    If `True` block and run the GUI main loop until all figure windows\n",
              "    are closed.\n",
              "\n",
              "    If `False` ensure that all figure windows are displayed and return\n",
              "    immediately.  In this case, you are responsible for ensuring\n",
              "    that the event loop is running to have responsive figures.\n",
              "\n",
              "    Defaults to True in non-interactive mode and to False in interactive\n",
              "    mode (see `.pyplot.isinteractive`).\n",
              "\n",
              "See Also\n",
              "--------\n",
              "ion : Enable interactive mode, which shows / updates the figure after\n",
              "      every plotting command, so that calling ``show()`` is not necessary.\n",
              "ioff : Disable interactive mode.\n",
              "savefig : Save the figure to an image file instead of showing it on screen.\n",
              "\n",
              "Notes\n",
              "-----\n",
              "**Saving figures to file and showing a window at the same time**\n",
              "\n",
              "If you want an image file as well as a user interface window, use\n",
              "`.pyplot.savefig` before `.pyplot.show`. At the end of (a blocking)\n",
              "``show()`` the figure is closed and thus unregistered from pyplot. Calling\n",
              "`.pyplot.savefig` afterwards would save a new and thus empty figure. This\n",
              "limitation of command order does not apply if the show is non-blocking or\n",
              "if you keep a reference to the figure and use `.Figure.savefig`.\n",
              "\n",
              "**Auto-show in jupyter notebooks**\n",
              "\n",
              "The jupyter backends (activated via ``%matplotlib inline``,\n",
              "``%matplotlib notebook``, or ``%matplotlib widget``), call ``show()`` at\n",
              "the end of every cell by default. Thus, you usually don&#x27;t have to call it\n",
              "explicitly there.</pre>\n",
              "      <script>\n",
              "      if (google.colab.kernel.accessAllowed && google.colab.files && google.colab.files.view) {\n",
              "        for (const element of document.querySelectorAll('.filepath')) {\n",
              "          element.style.display = 'block'\n",
              "          element.onclick = (event) => {\n",
              "            event.preventDefault();\n",
              "            event.stopPropagation();\n",
              "            google.colab.files.view(element.textContent, 482);\n",
              "          };\n",
              "        }\n",
              "      }\n",
              "      for (const element of document.querySelectorAll('.function-repr-contents')) {\n",
              "        element.onclick = (event) => {\n",
              "          event.preventDefault();\n",
              "          event.stopPropagation();\n",
              "          element.classList.toggle('function-repr-contents-collapsed');\n",
              "        };\n",
              "      }\n",
              "      </script>\n",
              "      </div>"
            ]
          },
          "metadata": {},
          "execution_count": 14
        },
        {
          "output_type": "display_data",
          "data": {
            "text/plain": [
              "<Figure size 640x480 with 1 Axes>"
            ],
            "image/png": "[encoded data removed]"
          },
          "metadata": {}
        }
      ],
      "source": [
        "import os\n",
        "import numpy as np\n",
        "import cv2\n",
        "import matplotlib.pyplot as plt\n",
        "import pickle\n",
        "import random\n",
        "from sklearn.model_selection import train_test_split\n",
        "from sklearn.svm import SVC\n",
        "\n",
        "# Mount Google Drive\n",
        "from google.colab import drive\n",
        "drive.mount('/content/drive')\n",
        "\n",
        "# # Specify the directory containing the subdirectories with images\n",
        "# dir = '/content/drive/My Drive/DSGP/Data'  # Adjust this path to your folder\n",
        "\n",
        "# # Define the categories (subfolders)\n",
        "# categories = ['F', 'NF']  # Ensure these match the actual folder names in your Google Drive\n",
        "\n",
        "# data = []\n",
        "\n",
        "# # List of acceptable image extensions\n",
        "# valid_extensions = ['.jpg', '.jpeg', '.png', '.bmp', '.tiff']\n",
        "\n",
        "# # Loop through each category folder\n",
        "# for category in categories:\n",
        "#     path = os.path.join(dir, category)\n",
        "#     label = categories.index(category)\n",
        "\n",
        "#     if not os.path.exists(path):  # Check if the path exists\n",
        "#         print(f\"Path does not exist: {path}\")\n",
        "#         continue  # Skip to the next category if the path doesn't exist\n",
        "\n",
        "#     # Loop through all the files in the category folder\n",
        "#     for img in os.listdir(path):\n",
        "#         imgpath = os.path.join(path, img)  # Get the full path to the image\n",
        "\n",
        "#         # Skip non-image files based on extension\n",
        "#         if not any(img.lower().endswith(ext) for ext in valid_extensions):\n",
        "#             continue\n",
        "\n",
        "#         data_img = cv2.imread(imgpath, 0)  # Read the image as grayscale\n",
        "\n",
        "#         if data_img is None:\n",
        "#             print(f\"Failed to load image: {imgpath}\")  # Add a message if the image couldn't be loaded\n",
        "#             continue  # Skip to the next image if the current one can't be loaded\n",
        "\n",
        "#         try:\n",
        "#             data_img = cv2.resize(data_img, (50, 50))  # Resize the image to 50x50\n",
        "#             image = np.array(data_img).flatten()  # Flatten the image\n",
        "\n",
        "#             data.append([image, label])\n",
        "#         except Exception as e:\n",
        "#             print(f\"Error processing image {imgpath}: {e}\")  # Print out any resizing errors\n",
        "#             pass\n",
        "\n",
        "# print(f\"Total images processed: {len(data)}\")\n",
        "# pick_in = open('/content/drive/My Drive/data1.pickle', 'wb')  # Save directly to Google Drive\n",
        "# pickle.dump(data, pick_in)\n",
        "# pick_in.close()\n",
        "\n",
        "\n",
        "pick_in = open('/content/drive/My Drive/data1.pickle','rb')\n",
        "data = pickle.load(pick_in)\n",
        "pick_in.close\n",
        "\n",
        "random.shuffle(data)\n",
        "features = []\n",
        "labels = []\n",
        "\n",
        "for feature,label in data:\n",
        "  features.append(feature)\n",
        "  labels.append(label)\n",
        "\n",
        "xtrain,xtest,ytrain,ytest = train_test_split(features,labels,test_size=0.5) # For lesser computational time\n",
        "\n",
        "\n",
        "# model = SVC(C =1,kernel ='poly',gamma = 'auto')\n",
        "# model.fit(xtrain,ytrain)\n",
        "\n",
        "# pick = open('/content/drive/My Drive/model.sav', 'wb')\n",
        "# pickle.dump(model,pick)\n",
        "pick = open('/content/drive/My Drive/model.sav','rb') # for demostration\n",
        "model = pickle.load(pick)\n",
        "pick.close()\n",
        "\n",
        "prediction = model.predict(xtest)\n",
        "\n",
        "accuracy = model.score(xtest,ytest)\n",
        "categories = ['F', 'NF']\n",
        "print('Accuracy: ', accuracy)\n",
        "print('Prediction is:',categories[prediction[0]])\n",
        "\n",
        "mydata = xtest[0].reshape(50,50)\n",
        "plt.imshow(mydata,cmap='gray')\n",
        "plt.show\n",
        "\n"
      ]
    },
    {
      "cell_type": "code",
      "source": [],
      "metadata": {
        "id": "rlvD3r_VQfxs"
      },
      "execution_count": null,
      "outputs": []
    }
  ]
}