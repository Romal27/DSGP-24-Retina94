{
  "nbformat": 4,
  "nbformat_minor": 0,
  "metadata": {
    "colab": {
      "provenance": [],
      "authorship_tag": "ABX9TyMPmYijkFBzNJqpXl1MFyNs",
      "include_colab_link": true
    },
    "kernelspec": {
      "name": "python3",
      "display_name": "Python 3"
    },
    "language_info": {
      "name": "python"
    }
  },
  "cells": [
    {
      "cell_type": "markdown",
      "metadata": {
        "id": "view-in-github",
        "colab_type": "text"
      },
      "source": [
        "<a href=\"https://colab.research.google.com/github/Romal27/DSGP-24-Retina94/blob/DR-stage-identification/DatasetPreparation.ipynb\" target=\"_parent\"><img src=\"https://colab.research.google.com/assets/colab-badge.svg\" alt=\"Open In Colab\"/></a>"
      ]
    },
    {
      "cell_type": "code",
      "execution_count": 1,
      "metadata": {
        "colab": {
          "base_uri": "https://localhost:8080/"
        },
        "id": "qJOaC8-tsVSe",
        "outputId": "91718b43-a773-4296-b02c-281a9d797d05"
      },
      "outputs": [
        {
          "output_type": "stream",
          "name": "stdout",
          "text": [
            "Mounted at /content/drive\n"
          ]
        }
      ],
      "source": [
        "import os\n",
        "import shutil\n",
        "import glob\n",
        "import pandas as pd\n",
        "import random\n",
        "from google.colab import drive\n",
        "drive.mount('/content/drive')"
      ]
    },
    {
      "cell_type": "markdown",
      "source": [
        "### Defining necessary paths"
      ],
      "metadata": {
        "id": "QO-eTsO_seQk"
      }
    },
    {
      "cell_type": "code",
      "source": [
        "# Target \"Dataset\" folder to create\n",
        "dataset_folder = '/content/drive/MyDrive/DR_StageIdentification Classification_Model/Dataset'\n",
        "if not os.path.exists(dataset_folder):\n",
        "    os.makedirs(dataset_folder)\n",
        "\n",
        "# APTOS image directories\n",
        "aptos_train_images = '/content/drive/MyDrive/DR-stage-identification/APTOS_dataset/train_images/train_images'\n",
        "aptos_test_images = '/content/drive/MyDrive/DR-stage-identification/APTOS_dataset/test_images/test_images'\n",
        "aptos_val_images = '/content/drive/MyDrive/DR-stage-identification/APTOS_dataset/val_images/val_images'\n",
        "\n",
        "# APTOS CSV files (with columns: id_code, diagnosis)\n",
        "aptos_train_csv = '/content/drive/MyDrive/DR-stage-identification/APTOS_dataset/train.csv'\n",
        "aptos_test_csv = '/content/drive/MyDrive/DR-stage-identification/APTOS_dataset/test.csv'\n",
        "aptos_valid_csv = '/content/drive/MyDrive/DR-stage-identification/APTOS_dataset/valid.csv'\n",
        "\n",
        "# DDR image directory and CSV (assumed to also use \"id_code\" and \"diagnosis\")\n",
        "DDR_images = '/content/drive/MyDrive/DR-stage-identification/DDR_dataset/DDR_dataset_extracted'\n",
        "DDR_csv = '/content/drive/MyDrive/DR-stage-identification/DDR_dataset/DDR_dataset_extracted/extracted_DDR.csv'"
      ],
      "metadata": {
        "id": "1gWPrPOrskcb"
      },
      "execution_count": 2,
      "outputs": []
    },
    {
      "cell_type": "markdown",
      "source": [
        "### Copying APTOS data into our new Dataset folder"
      ],
      "metadata": {
        "id": "QdUNP1hJslqw"
      }
    },
    {
      "cell_type": "code",
      "source": [
        "for folder in [aptos_train_images, aptos_test_images, aptos_val_images]:\n",
        "    for img_path in glob.glob(os.path.join(folder, '*.png')):\n",
        "        shutil.copy(img_path, dataset_folder)"
      ],
      "metadata": {
        "id": "vpQ0H46DstxD"
      },
      "execution_count": 3,
      "outputs": []
    },
    {
      "cell_type": "markdown",
      "source": [
        "### Combining the 3 APTOS csv files into one csv file"
      ],
      "metadata": {
        "id": "3ngINgS4sum6"
      }
    },
    {
      "cell_type": "code",
      "source": [
        "# Read CSVs from APTOS\n",
        "df_train = pd.read_csv(aptos_train_csv)\n",
        "df_test = pd.read_csv(aptos_test_csv)\n",
        "df_valid = pd.read_csv(aptos_valid_csv)\n",
        "\n",
        "# Combine them into one DataFrame\n",
        "df_aptos = pd.concat([df_train, df_test, df_valid], ignore_index=True)\n",
        "\n",
        "# Generate full file paths for each image based on id_code\n",
        "df_aptos['filepath'] = df_aptos['id_code'].apply(lambda x: os.path.join(dataset_folder, f\"{x}.png\"))\n",
        "\n",
        "# Save the initial combined CSV\n",
        "dataset_csv_path = os.path.join(dataset_folder, 'dataset.csv')\n",
        "df_aptos.to_csv(dataset_csv_path, index=False)\n",
        "print(f\"Combined APTOS CSV saved to: {dataset_csv_path}\")"
      ],
      "metadata": {
        "colab": {
          "base_uri": "https://localhost:8080/"
        },
        "id": "hqs5syK2s7uk",
        "outputId": "4e2ecec9-dbc9-429d-8d9a-457f13e9db5a"
      },
      "execution_count": 4,
      "outputs": [
        {
          "output_type": "stream",
          "name": "stdout",
          "text": [
            "Combined APTOS CSV saved to: /content/drive/MyDrive/DR_StageIdentification Classification_Model/Dataset/dataset.csv\n"
          ]
        }
      ]
    }
  ]
}