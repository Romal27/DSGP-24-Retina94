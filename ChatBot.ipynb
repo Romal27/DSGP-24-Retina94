{
  "nbformat": 4,
  "nbformat_minor": 0,
  "metadata": {
    "colab": {
      "provenance": [],
      "authorship_tag": "ABX9TyNmsrK+mJZppmep2kBEheFv",
      "include_colab_link": true
    },
    "kernelspec": {
      "name": "python3",
      "display_name": "Python 3"
    },
    "language_info": {
      "name": "python"
    }
  },
  "cells": [
    {
      "cell_type": "markdown",
      "metadata": {
        "id": "view-in-github",
        "colab_type": "text"
      },
      "source": [
        "<a href=\"https://colab.research.google.com/github/Romal27/DSGP-24-Retina94/blob/ChatBot-Development/ChatBot.ipynb\" target=\"_parent\"><img src=\"https://colab.research.google.com/assets/colab-badge.svg\" alt=\"Open In Colab\"/></a>"
      ]
    },
    {
      "cell_type": "code",
      "source": [
        "!pip uninstall -y nltk\n",
        "!pip install nltk"
      ],
      "metadata": {
        "colab": {
          "base_uri": "https://localhost:8080/"
        },
        "id": "gUxmbYXv2Y1p",
        "outputId": "9bc97592-acf4-4c87-a1fb-e5a9131225c6"
      },
      "execution_count": 1,
      "outputs": [
        {
          "output_type": "stream",
          "name": "stdout",
          "text": [
            "Found existing installation: nltk 3.9.1\n",
            "Uninstalling nltk-3.9.1:\n",
            "  Successfully uninstalled nltk-3.9.1\n",
            "Collecting nltk\n",
            "  Using cached nltk-3.9.1-py3-none-any.whl.metadata (2.9 kB)\n",
            "Requirement already satisfied: click in /usr/local/lib/python3.11/dist-packages (from nltk) (8.1.8)\n",
            "Requirement already satisfied: joblib in /usr/local/lib/python3.11/dist-packages (from nltk) (1.4.2)\n",
            "Requirement already satisfied: regex>=2021.8.3 in /usr/local/lib/python3.11/dist-packages (from nltk) (2024.11.6)\n",
            "Requirement already satisfied: tqdm in /usr/local/lib/python3.11/dist-packages (from nltk) (4.67.1)\n",
            "Using cached nltk-3.9.1-py3-none-any.whl (1.5 MB)\n",
            "Installing collected packages: nltk\n",
            "Successfully installed nltk-3.9.1\n"
          ]
        }
      ]
    },
    {
      "cell_type": "code",
      "source": [
        "import pandas as pd\n",
        "\n",
        "# Loading the uploaded CSV file\n",
        "intents_df = pd.read_csv('intents.csv')\n",
        "\n",
        "# Displaying the first few rows to confirm it loaded correctly\n",
        "print(intents_df.head())\n"
      ],
      "metadata": {
        "colab": {
          "base_uri": "https://localhost:8080/"
        },
        "id": "7lmM81l_ndvC",
        "outputId": "69e62d76-e692-41b2-a194-d2462c3a1ffd"
      },
      "execution_count": 2,
      "outputs": [
        {
          "output_type": "stream",
          "name": "stdout",
          "text": [
            "          tag                                   patterns__001  \\\n",
            "0    greeting                                              Hi   \n",
            "1       about                   What is diabetic retinopathy?   \n",
            "2    symptoms  What are the symptoms of diabetic retinopathy?   \n",
            "3      stages    What are the stages of diabetic retinopathy?   \n",
            "4  prevention         How can I prevent diabetic retinopathy?   \n",
            "\n",
            "                                   patterns__002  \\\n",
            "0                                          Hello   \n",
            "1             Tell me about diabetic retinopathy   \n",
            "2  How do I know if I have diabetic retinopathy?   \n",
            "3     Explain the stages of diabetic retinopathy   \n",
            "4               What are the prevention methods?   \n",
            "\n",
            "                                     patterns__003 patterns__004  \\\n",
            "0                                              Hey  Good morning   \n",
            "1                     Explain diabetic retinopathy           NaN   \n",
            "2                 Symptoms of diabetic retinopathy           NaN   \n",
            "3  How many stages does diabetic retinopathy have?           NaN   \n",
            "4               Tips to avoid diabetic retinopathy           NaN   \n",
            "\n",
            "  patterns__005                                     responses__001  \\\n",
            "0  Good evening                 Hello! How can I assist you today?   \n",
            "1           NaN  Diabetic retinopathy is a complication of diab...   \n",
            "2           NaN  Symptoms include blurred vision, difficulty se...   \n",
            "3           NaN  The stages are Mild, Moderate, Severe, and Pro...   \n",
            "4           NaN  Maintain blood sugar levels, eat healthy, and ...   \n",
            "\n",
            "                                      responses__002  \\\n",
            "0                          Hi there! How can I help?   \n",
            "1  It occurs when high blood sugar damages the bl...   \n",
            "2  You might experience spots or dark strings in ...   \n",
            "3  Diabetic retinopathy progresses from mild non-...   \n",
            "4  Control blood pressure and cholesterol, and ma...   \n",
            "\n",
            "                                      responses__003  \n",
            "0                       Greetings! How can I assist?  \n",
            "1  Diabetic retinopathy can cause vision problems...  \n",
            "2                                                NaN  \n",
            "3                                                NaN  \n",
            "4                                                NaN  \n"
          ]
        }
      ]
    },
    {
      "cell_type": "code",
      "source": [
        "print(intents_df.columns)\n"
      ],
      "metadata": {
        "colab": {
          "base_uri": "https://localhost:8080/"
        },
        "id": "HiLI9iySrAkh",
        "outputId": "cd9a546a-1202-4371-9dfc-61e334ea0320"
      },
      "execution_count": 3,
      "outputs": [
        {
          "output_type": "stream",
          "name": "stdout",
          "text": [
            "Index(['tag', 'patterns__001', 'patterns__002', 'patterns__003',\n",
            "       'patterns__004', 'patterns__005', 'responses__001', 'responses__002',\n",
            "       'responses__003'],\n",
            "      dtype='object')\n"
          ]
        }
      ]
    },
    {
      "cell_type": "markdown",
      "source": [
        "We need to combine all the patterns__* columns into one column named pattern"
      ],
      "metadata": {
        "id": "bP-SpJJXrHg-"
      }
    },
    {
      "cell_type": "code",
      "source": [
        "pattern_columns = [col for col in intents_df.columns if col.startswith('patterns__')]\n",
        "intents_df['pattern'] = intents_df[pattern_columns].apply(lambda row: ' '.join(row.dropna()), axis=1)\n"
      ],
      "metadata": {
        "id": "teRWkt4zrF9c"
      },
      "execution_count": 4,
      "outputs": []
    },
    {
      "cell_type": "markdown",
      "source": [
        "Similarly, combined all responses__* columns into one column named response"
      ],
      "metadata": {
        "id": "S2X69FYnrzgk"
      }
    },
    {
      "cell_type": "code",
      "source": [
        "response_columns = [col for col in intents_df.columns if col.startswith('responses__')]\n",
        "intents_df['response'] = intents_df[response_columns].apply(lambda row: ' '.join(row.dropna()), axis=1)\n"
      ],
      "metadata": {
        "id": "9oShHKiHrpHy"
      },
      "execution_count": 5,
      "outputs": []
    },
    {
      "cell_type": "code",
      "source": [
        "intents_df = intents_df[['tag', 'pattern', 'response']]\n",
        "print(intents_df.head())\n"
      ],
      "metadata": {
        "colab": {
          "base_uri": "https://localhost:8080/"
        },
        "id": "Ftp7onA5r8xC",
        "outputId": "32fbc1c2-4da1-4c16-e4fe-750215e4a6d8"
      },
      "execution_count": 6,
      "outputs": [
        {
          "output_type": "stream",
          "name": "stdout",
          "text": [
            "          tag                                            pattern  \\\n",
            "0    greeting             Hi Hello Hey Good morning Good evening   \n",
            "1       about  What is diabetic retinopathy? Tell me about di...   \n",
            "2    symptoms  What are the symptoms of diabetic retinopathy?...   \n",
            "3      stages  What are the stages of diabetic retinopathy? E...   \n",
            "4  prevention  How can I prevent diabetic retinopathy? What a...   \n",
            "\n",
            "                                            response  \n",
            "0  Hello! How can I assist you today? Hi there! H...  \n",
            "1  Diabetic retinopathy is a complication of diab...  \n",
            "2  Symptoms include blurred vision, difficulty se...  \n",
            "3  The stages are Mild, Moderate, Severe, and Pro...  \n",
            "4  Maintain blood sugar levels, eat healthy, and ...  \n"
          ]
        }
      ]
    },
    {
      "cell_type": "markdown",
      "source": [
        "Tokenize and preprocess patterns"
      ],
      "metadata": {
        "id": "q1kXAQNes5np"
      }
    },
    {
      "cell_type": "code",
      "source": [
        "import nltk\n",
        "nltk.data.path.clear()\n"
      ],
      "metadata": {
        "id": "vKqsMfukthXq"
      },
      "execution_count": 22,
      "outputs": []
    },
    {
      "cell_type": "code",
      "source": [
        "import nltk\n",
        "nltk.download('punkt')\n",
        "nltk.download('wordnet')\n"
      ],
      "metadata": {
        "colab": {
          "base_uri": "https://localhost:8080/"
        },
        "id": "Mu2lGTGZtmR6",
        "outputId": "e64f63be-0012-4a65-d1d0-445da69bc759"
      },
      "execution_count": 23,
      "outputs": [
        {
          "output_type": "stream",
          "name": "stderr",
          "text": [
            "[nltk_data] Downloading package punkt to /root/nltk_data...\n",
            "[nltk_data]   Package punkt is already up-to-date!\n",
            "[nltk_data] Downloading package wordnet to /root/nltk_data...\n",
            "[nltk_data]   Package wordnet is already up-to-date!\n"
          ]
        },
        {
          "output_type": "execute_result",
          "data": {
            "text/plain": [
              "True"
            ]
          },
          "metadata": {},
          "execution_count": 23
        }
      ]
    },
    {
      "cell_type": "code",
      "source": [
        "nltk.download('punkt_tab')\n"
      ],
      "metadata": {
        "colab": {
          "base_uri": "https://localhost:8080/"
        },
        "id": "C69nyNoIyrcQ",
        "outputId": "87ab6658-0246-4757-edda-b233e45a9e7f"
      },
      "execution_count": 24,
      "outputs": [
        {
          "output_type": "stream",
          "name": "stderr",
          "text": [
            "[nltk_data] Downloading package punkt_tab to /root/nltk_data...\n",
            "[nltk_data]   Package punkt_tab is already up-to-date!\n"
          ]
        },
        {
          "output_type": "execute_result",
          "data": {
            "text/plain": [
              "True"
            ]
          },
          "metadata": {},
          "execution_count": 24
        }
      ]
    },
    {
      "cell_type": "code",
      "source": [
        "# Checking for missing values in the 'pattern' column\n",
        "print(intents_df['pattern'].isnull().sum())\n",
        "\n",
        "# Display rows with missing 'pattern' values\n",
        "print(intents_df[intents_df['pattern'].isnull()])\n"
      ],
      "metadata": {
        "colab": {
          "base_uri": "https://localhost:8080/"
        },
        "id": "s-QCLIxYzOFH",
        "outputId": "ad19ded1-55d1-42b7-e048-9b2a01ab2ef6"
      },
      "execution_count": 13,
      "outputs": [
        {
          "output_type": "stream",
          "name": "stdout",
          "text": [
            "0\n",
            "Empty DataFrame\n",
            "Columns: [tag, pattern, response]\n",
            "Index: []\n"
          ]
        }
      ]
    },
    {
      "cell_type": "code",
      "source": [
        "import nltk\n",
        "nltk.data.path.clear()  # Clear any existing NLTK cache\n",
        "nltk.download('punkt')  # Re-download 'punkt'\n"
      ],
      "metadata": {
        "colab": {
          "base_uri": "https://localhost:8080/"
        },
        "id": "gYr5Z9bO0SAV",
        "outputId": "c3843454-74b7-4bfe-d72b-80a257130235"
      },
      "execution_count": 29,
      "outputs": [
        {
          "output_type": "stream",
          "name": "stderr",
          "text": [
            "[nltk_data] Downloading package punkt to /root/nltk_data...\n",
            "[nltk_data]   Package punkt is already up-to-date!\n"
          ]
        },
        {
          "output_type": "execute_result",
          "data": {
            "text/plain": [
              "True"
            ]
          },
          "metadata": {},
          "execution_count": 29
        }
      ]
    },
    {
      "cell_type": "code",
      "source": [
        "# Split concatenated patterns into individual rows\n",
        "expanded_rows = []\n",
        "for _, row in intents_df.iterrows():\n",
        "    patterns = row['pattern'].split()  # Split patterns by whitespace\n",
        "    for pattern in patterns:\n",
        "        expanded_rows.append({'tag': row['tag'], 'pattern': pattern, 'response': row['response']})\n",
        "\n",
        "# Create a new DataFrame with expanded rows\n",
        "intents_df = pd.DataFrame(expanded_rows)\n",
        "\n",
        "# Check the updated DataFrame\n",
        "print(intents_df.head())\n"
      ],
      "metadata": {
        "colab": {
          "base_uri": "https://localhost:8080/"
        },
        "id": "5_c3beob0WuQ",
        "outputId": "65142074-18bf-4ea4-fe8c-7587a968d123"
      },
      "execution_count": 30,
      "outputs": [
        {
          "output_type": "stream",
          "name": "stdout",
          "text": [
            "        tag  pattern                                           response\n",
            "0  greeting       Hi  Hello! How can I assist you today? Hi there! H...\n",
            "1  greeting    Hello  Hello! How can I assist you today? Hi there! H...\n",
            "2  greeting      Hey  Hello! How can I assist you today? Hi there! H...\n",
            "3  greeting     Good  Hello! How can I assist you today? Hi there! H...\n",
            "4  greeting  morning  Hello! How can I assist you today? Hi there! H...\n"
          ]
        }
      ]
    },
    {
      "cell_type": "code",
      "source": [
        "import nltk\n",
        "nltk.download('punkt')\n"
      ],
      "metadata": {
        "colab": {
          "base_uri": "https://localhost:8080/"
        },
        "id": "Cc3HM17j1CZU",
        "outputId": "b7362d2a-67be-4f52-904d-bfa40be4d37a"
      },
      "execution_count": 7,
      "outputs": [
        {
          "output_type": "stream",
          "name": "stderr",
          "text": [
            "[nltk_data] Downloading package punkt to /root/nltk_data...\n",
            "[nltk_data]   Package punkt is already up-to-date!\n"
          ]
        },
        {
          "output_type": "execute_result",
          "data": {
            "text/plain": [
              "True"
            ]
          },
          "metadata": {},
          "execution_count": 7
        }
      ]
    },
    {
      "cell_type": "code",
      "source": [
        "from nltk.tokenize import word_tokenize\n",
        "\n",
        "# Test with a simple string\n",
        "test_string = \"Hello! How are you?\"\n",
        "tokens = word_tokenize(test_string)\n",
        "print(f\"Tokens: {tokens}\")\n"
      ],
      "metadata": {
        "colab": {
          "base_uri": "https://localhost:8080/"
        },
        "id": "ldwcUuwp1Fli",
        "outputId": "af983a90-4f3d-4703-977e-a002784567fb"
      },
      "execution_count": 8,
      "outputs": [
        {
          "output_type": "stream",
          "name": "stdout",
          "text": [
            "Tokens: ['Hello', '!', 'How', 'are', 'you', '?']\n"
          ]
        }
      ]
    },
    {
      "cell_type": "code",
      "source": [
        "print(intents_df.columns)\n"
      ],
      "metadata": {
        "colab": {
          "base_uri": "https://localhost:8080/"
        },
        "id": "iT571Jn01u3v",
        "outputId": "63a1fde5-589c-4b5d-82a5-c2b972aaadb2"
      },
      "execution_count": 6,
      "outputs": [
        {
          "output_type": "stream",
          "name": "stdout",
          "text": [
            "Index(['tag', 'patterns__001', 'patterns__002', 'patterns__003',\n",
            "       'patterns__004', 'patterns__005', 'responses__001', 'responses__002',\n",
            "       'responses__003'],\n",
            "      dtype='object')\n"
          ]
        }
      ]
    },
    {
      "cell_type": "code",
      "source": [
        "from nltk.stem import WordNetLemmatizer\n",
        "from nltk.tokenize import word_tokenize\n",
        "\n",
        "lemmatizer = WordNetLemmatizer()\n",
        "\n",
        "# Preprocess patterns\n",
        "def preprocess_patterns(df):\n",
        "    df['pattern_tokens'] = df['pattern'].apply(lambda x: [lemmatizer.lemmatize(word.lower()) for word in word_tokenize(str(x))])\n",
        "    return df\n",
        "\n",
        "intents_df = preprocess_patterns(intents_df)\n",
        "\n",
        "# Display the processed DataFrame\n",
        "print(intents_df[['pattern', 'pattern_tokens']].head())\n"
      ],
      "metadata": {
        "colab": {
          "base_uri": "https://localhost:8080/"
        },
        "id": "VDe4EVJV2tnK",
        "outputId": "0feb05d8-9655-41e2-e028-d045b5e01f3b"
      },
      "execution_count": 9,
      "outputs": [
        {
          "output_type": "stream",
          "name": "stdout",
          "text": [
            "                                             pattern  \\\n",
            "0             Hi Hello Hey Good morning Good evening   \n",
            "1  What is diabetic retinopathy? Tell me about di...   \n",
            "2  What are the symptoms of diabetic retinopathy?...   \n",
            "3  What are the stages of diabetic retinopathy? E...   \n",
            "4  How can I prevent diabetic retinopathy? What a...   \n",
            "\n",
            "                                      pattern_tokens  \n",
            "0     [hi, hello, hey, good, morning, good, evening]  \n",
            "1  [what, is, diabetic, retinopathy, ?, tell, me,...  \n",
            "2  [what, are, the, symptom, of, diabetic, retino...  \n",
            "3  [what, are, the, stage, of, diabetic, retinopa...  \n",
            "4  [how, can, i, prevent, diabetic, retinopathy, ...  \n"
          ]
        }
      ]
    },
    {
      "cell_type": "code",
      "source": [
        "intents_df.to_csv('intents_preprocessed.csv', index=False)\n",
        "print(\"Preprocessed dataset saved successfully.\")\n"
      ],
      "metadata": {
        "colab": {
          "base_uri": "https://localhost:8080/"
        },
        "id": "MWbuTJ1L249N",
        "outputId": "688adcd5-e54a-4687-e1df-bd789770bc2c"
      },
      "execution_count": 10,
      "outputs": [
        {
          "output_type": "stream",
          "name": "stdout",
          "text": [
            "Preprocessed dataset saved successfully.\n"
          ]
        }
      ]
    }
  ]
}