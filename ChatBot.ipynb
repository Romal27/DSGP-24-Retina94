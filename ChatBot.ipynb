{
  "nbformat": 4,
  "nbformat_minor": 0,
  "metadata": {
    "colab": {
      "provenance": [],
      "authorship_tag": "ABX9TyPAHMjInc8EogJlqOpYhG/Q",
      "include_colab_link": true
    },
    "kernelspec": {
      "name": "python3",
      "display_name": "Python 3"
    },
    "language_info": {
      "name": "python"
    }
  },
  "cells": [
    {
      "cell_type": "markdown",
      "metadata": {
        "id": "view-in-github",
        "colab_type": "text"
      },
      "source": [
        "<a href=\"https://colab.research.google.com/github/Romal27/DSGP-24-Retina94/blob/ChatBot-Development/ChatBot.ipynb\" target=\"_parent\"><img src=\"https://colab.research.google.com/assets/colab-badge.svg\" alt=\"Open In Colab\"/></a>"
      ]
    },
    {
      "cell_type": "code",
      "source": [
        "import pandas as pd\n",
        "\n",
        "# Loading the uploaded CSV file\n",
        "intents_df = pd.read_csv('intents.csv')\n",
        "\n",
        "# Displaying the first few rows to confirm it loaded correctly\n",
        "print(intents_df.head())\n"
      ],
      "metadata": {
        "colab": {
          "base_uri": "https://localhost:8080/"
        },
        "id": "7lmM81l_ndvC",
        "outputId": "b27a7a37-12d8-465c-acd5-a5d0e858297e"
      },
      "execution_count": 4,
      "outputs": [
        {
          "output_type": "stream",
          "name": "stdout",
          "text": [
            "          tag                                   patterns__001  \\\n",
            "0    greeting                                              Hi   \n",
            "1       about                   What is diabetic retinopathy?   \n",
            "2    symptoms  What are the symptoms of diabetic retinopathy?   \n",
            "3      stages    What are the stages of diabetic retinopathy?   \n",
            "4  prevention         How can I prevent diabetic retinopathy?   \n",
            "\n",
            "                                   patterns__002  \\\n",
            "0                                          Hello   \n",
            "1             Tell me about diabetic retinopathy   \n",
            "2  How do I know if I have diabetic retinopathy?   \n",
            "3     Explain the stages of diabetic retinopathy   \n",
            "4               What are the prevention methods?   \n",
            "\n",
            "                                     patterns__003 patterns__004  \\\n",
            "0                                              Hey  Good morning   \n",
            "1                     Explain diabetic retinopathy           NaN   \n",
            "2                 Symptoms of diabetic retinopathy           NaN   \n",
            "3  How many stages does diabetic retinopathy have?           NaN   \n",
            "4               Tips to avoid diabetic retinopathy           NaN   \n",
            "\n",
            "  patterns__005                                     responses__001  \\\n",
            "0  Good evening                 Hello! How can I assist you today?   \n",
            "1           NaN  Diabetic retinopathy is a complication of diab...   \n",
            "2           NaN  Symptoms include blurred vision, difficulty se...   \n",
            "3           NaN  The stages are Mild, Moderate, Severe, and Pro...   \n",
            "4           NaN  Maintain blood sugar levels, eat healthy, and ...   \n",
            "\n",
            "                                      responses__002  \\\n",
            "0                          Hi there! How can I help?   \n",
            "1  It occurs when high blood sugar damages the bl...   \n",
            "2  You might experience spots or dark strings in ...   \n",
            "3  Diabetic retinopathy progresses from mild non-...   \n",
            "4  Control blood pressure and cholesterol, and ma...   \n",
            "\n",
            "                                      responses__003  \n",
            "0                       Greetings! How can I assist?  \n",
            "1  Diabetic retinopathy can cause vision problems...  \n",
            "2                                                NaN  \n",
            "3                                                NaN  \n",
            "4                                                NaN  \n"
          ]
        }
      ]
    },
    {
      "cell_type": "code",
      "source": [
        "print(intents_df.columns)\n"
      ],
      "metadata": {
        "colab": {
          "base_uri": "https://localhost:8080/"
        },
        "id": "HiLI9iySrAkh",
        "outputId": "fa66e781-c714-411a-9d11-e8d898c80bd8"
      },
      "execution_count": 7,
      "outputs": [
        {
          "output_type": "stream",
          "name": "stdout",
          "text": [
            "Index(['tag', 'patterns__001', 'patterns__002', 'patterns__003',\n",
            "       'patterns__004', 'patterns__005', 'responses__001', 'responses__002',\n",
            "       'responses__003'],\n",
            "      dtype='object')\n"
          ]
        }
      ]
    },
    {
      "cell_type": "markdown",
      "source": [
        "We need to combine all the patterns__* columns into one column named pattern"
      ],
      "metadata": {
        "id": "bP-SpJJXrHg-"
      }
    },
    {
      "cell_type": "code",
      "source": [
        "pattern_columns = [col for col in intents_df.columns if col.startswith('patterns__')]\n",
        "intents_df['pattern'] = intents_df[pattern_columns].apply(lambda row: ' '.join(row.dropna()), axis=1)\n"
      ],
      "metadata": {
        "id": "teRWkt4zrF9c"
      },
      "execution_count": 8,
      "outputs": []
    }
  ]
}